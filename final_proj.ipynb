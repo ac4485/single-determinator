{
 "cells": [
  {
   "cell_type": "markdown",
   "metadata": {},
   "source": [
    "Final Project"
   ]
  },
  {
   "cell_type": "code",
   "execution_count": 1,
   "metadata": {},
   "outputs": [
    {
     "name": "stderr",
     "output_type": "stream",
     "text": [
      "2023-12-05 10:39:48.163445: I tensorflow/core/util/port.cc:110] oneDNN custom operations are on. You may see slightly different numerical results due to floating-point round-off errors from different computation orders. To turn them off, set the environment variable `TF_ENABLE_ONEDNN_OPTS=0`.\n",
      "2023-12-05 10:39:48.204326: I tensorflow/core/platform/cpu_feature_guard.cc:183] This TensorFlow binary is optimized to use available CPU instructions in performance-critical operations.\n",
      "To enable the following instructions: SSE3 SSE4.1 SSE4.2 AVX, in other operations, rebuild TensorFlow with the appropriate compiler flags.\n"
     ]
    }
   ],
   "source": [
    "import matplotlib.pyplot as plt\n",
    "import pandas as pd\n",
    "import numpy as np\n",
    "import re\n",
    "import sklearn.model_selection as skms\n",
    "from sklearn.neighbors import KNeighborsClassifier\n",
    "from sklearn.cluster import KMeans\n",
    "from sklearn import preprocessing\n",
    "import sklearn.metrics as skme\n",
    "import seaborn as sns\n",
    "import tensorflow as tf\n",
    "from sklearn.utils import resample"
   ]
  },
  {
   "cell_type": "code",
   "execution_count": 2,
   "metadata": {},
   "outputs": [],
   "source": [
    "# male_label = pd.read_csv('./data/2017_2019_MaleSetup_edited.dct', delim_whitespace=True,header=None)\n",
    "# female_label = pd.read_csv('./data/2017_2019_FemRespSetup_edited.dct', delim_whitespace=True,header=None)\n",
    "# preg_label = pd.read_csv('./data/2017_2019_FemPregSetup_edited.dct', delim_whitespace=True,header=None)\n",
    "\n",
    "male_label = pd.read_csv('~/final_pr/2017_2019_MaleSetup.dct', delim_whitespace=True,header=None)\n",
    "female_label = pd.read_csv('~/final_pr/2017_2019_FemRespSetup.dct', delim_whitespace=True,header=None)\n",
    "preg_label = pd.read_csv('~/final_pr/2017_2019_FemPregSetup.dct', delim_whitespace=True,header=None)"
   ]
  },
  {
   "cell_type": "code",
   "execution_count": 3,
   "metadata": {},
   "outputs": [],
   "source": [
    "male_label.iloc[:,3] = male_label.iloc[:,3].apply(lambda x: re.sub(r'[^\\d]','',x))\n",
    "male_label.iloc[:,0] = male_label.iloc[:,0].apply(lambda x: re.sub(r'[^\\d]','',x))\n",
    "\n",
    "female_label.iloc[:,3] = female_label.iloc[:,3].apply(lambda x: re.sub(r'[^\\d]','',x))\n",
    "female_label.iloc[:,0] = female_label.iloc[:,0].apply(lambda x: re.sub(r'[^\\d]','',x))\n",
    "\n",
    "preg_label.iloc[:,3] = preg_label.iloc[:,3].apply(lambda x: re.sub(r'[^\\d]','',x))\n",
    "preg_label.iloc[:,0] = preg_label.iloc[:,0].apply(lambda x: re.sub(r'[^\\d]','',x))"
   ]
  },
  {
   "cell_type": "code",
   "execution_count": 4,
   "metadata": {},
   "outputs": [
    {
     "data": {
      "text/html": [
       "<div>\n",
       "<style scoped>\n",
       "    .dataframe tbody tr th:only-of-type {\n",
       "        vertical-align: middle;\n",
       "    }\n",
       "\n",
       "    .dataframe tbody tr th {\n",
       "        vertical-align: top;\n",
       "    }\n",
       "\n",
       "    .dataframe thead th {\n",
       "        text-align: right;\n",
       "    }\n",
       "</style>\n",
       "<table border=\"1\" class=\"dataframe\">\n",
       "  <thead>\n",
       "    <tr style=\"text-align: right;\">\n",
       "      <th></th>\n",
       "      <th>0</th>\n",
       "      <th>1</th>\n",
       "      <th>2</th>\n",
       "      <th>3</th>\n",
       "      <th>4</th>\n",
       "    </tr>\n",
       "  </thead>\n",
       "  <tbody>\n",
       "    <tr>\n",
       "      <th>count</th>\n",
       "      <td>3009</td>\n",
       "      <td>3009</td>\n",
       "      <td>3009</td>\n",
       "      <td>3009</td>\n",
       "      <td>3009</td>\n",
       "    </tr>\n",
       "    <tr>\n",
       "      <th>unique</th>\n",
       "      <td>3009</td>\n",
       "      <td>4</td>\n",
       "      <td>3009</td>\n",
       "      <td>7</td>\n",
       "      <td>2988</td>\n",
       "    </tr>\n",
       "    <tr>\n",
       "      <th>top</th>\n",
       "      <td>1</td>\n",
       "      <td>byte</td>\n",
       "      <td>caseid</td>\n",
       "      <td>1</td>\n",
       "      <td>ED-14 Established legal paternity by blood or ...</td>\n",
       "    </tr>\n",
       "    <tr>\n",
       "      <th>freq</th>\n",
       "      <td>1</td>\n",
       "      <td>2771</td>\n",
       "      <td>1</td>\n",
       "      <td>2395</td>\n",
       "      <td>5</td>\n",
       "    </tr>\n",
       "  </tbody>\n",
       "</table>\n",
       "</div>"
      ],
      "text/plain": [
       "           0     1       2     3  \\\n",
       "count   3009  3009    3009  3009   \n",
       "unique  3009     4    3009     7   \n",
       "top        1  byte  caseid     1   \n",
       "freq       1  2771       1  2395   \n",
       "\n",
       "                                                        4  \n",
       "count                                                3009  \n",
       "unique                                               2988  \n",
       "top     ED-14 Established legal paternity by blood or ...  \n",
       "freq                                                    5  "
      ]
     },
     "execution_count": 4,
     "metadata": {},
     "output_type": "execute_result"
    }
   ],
   "source": [
    "male_label.describe()"
   ]
  },
  {
   "cell_type": "code",
   "execution_count": 5,
   "metadata": {
    "scrolled": true
   },
   "outputs": [
    {
     "data": {
      "text/html": [
       "<div>\n",
       "<style scoped>\n",
       "    .dataframe tbody tr th:only-of-type {\n",
       "        vertical-align: middle;\n",
       "    }\n",
       "\n",
       "    .dataframe tbody tr th {\n",
       "        vertical-align: top;\n",
       "    }\n",
       "\n",
       "    .dataframe thead th {\n",
       "        text-align: right;\n",
       "    }\n",
       "</style>\n",
       "<table border=\"1\" class=\"dataframe\">\n",
       "  <thead>\n",
       "    <tr style=\"text-align: right;\">\n",
       "      <th></th>\n",
       "      <th>0</th>\n",
       "      <th>1</th>\n",
       "      <th>2</th>\n",
       "      <th>3</th>\n",
       "      <th>4</th>\n",
       "    </tr>\n",
       "  </thead>\n",
       "  <tbody>\n",
       "    <tr>\n",
       "      <th>count</th>\n",
       "      <td>2609</td>\n",
       "      <td>2609</td>\n",
       "      <td>2609</td>\n",
       "      <td>2609</td>\n",
       "      <td>2609</td>\n",
       "    </tr>\n",
       "    <tr>\n",
       "      <th>unique</th>\n",
       "      <td>2609</td>\n",
       "      <td>4</td>\n",
       "      <td>2609</td>\n",
       "      <td>7</td>\n",
       "      <td>2609</td>\n",
       "    </tr>\n",
       "    <tr>\n",
       "      <th>top</th>\n",
       "      <td>1</td>\n",
       "      <td>byte</td>\n",
       "      <td>caseid</td>\n",
       "      <td>1</td>\n",
       "      <td>Respondent ID number</td>\n",
       "    </tr>\n",
       "    <tr>\n",
       "      <th>freq</th>\n",
       "      <td>1</td>\n",
       "      <td>2376</td>\n",
       "      <td>1</td>\n",
       "      <td>1839</td>\n",
       "      <td>1</td>\n",
       "    </tr>\n",
       "  </tbody>\n",
       "</table>\n",
       "</div>"
      ],
      "text/plain": [
       "           0     1       2     3                     4\n",
       "count   2609  2609    2609  2609                  2609\n",
       "unique  2609     4    2609     7                  2609\n",
       "top        1  byte  caseid     1  Respondent ID number\n",
       "freq       1  2376       1  1839                     1"
      ]
     },
     "execution_count": 5,
     "metadata": {},
     "output_type": "execute_result"
    }
   ],
   "source": [
    "female_label.describe()"
   ]
  },
  {
   "cell_type": "code",
   "execution_count": 6,
   "metadata": {},
   "outputs": [
    {
     "data": {
      "text/html": [
       "<div>\n",
       "<style scoped>\n",
       "    .dataframe tbody tr th:only-of-type {\n",
       "        vertical-align: middle;\n",
       "    }\n",
       "\n",
       "    .dataframe tbody tr th {\n",
       "        vertical-align: top;\n",
       "    }\n",
       "\n",
       "    .dataframe thead th {\n",
       "        text-align: right;\n",
       "    }\n",
       "</style>\n",
       "<table border=\"1\" class=\"dataframe\">\n",
       "  <thead>\n",
       "    <tr style=\"text-align: right;\">\n",
       "      <th></th>\n",
       "      <th>0</th>\n",
       "      <th>1</th>\n",
       "      <th>2</th>\n",
       "      <th>3</th>\n",
       "      <th>4</th>\n",
       "    </tr>\n",
       "  </thead>\n",
       "  <tbody>\n",
       "    <tr>\n",
       "      <th>count</th>\n",
       "      <td>171</td>\n",
       "      <td>171</td>\n",
       "      <td>171</td>\n",
       "      <td>171</td>\n",
       "      <td>171</td>\n",
       "    </tr>\n",
       "    <tr>\n",
       "      <th>unique</th>\n",
       "      <td>171</td>\n",
       "      <td>4</td>\n",
       "      <td>171</td>\n",
       "      <td>6</td>\n",
       "      <td>171</td>\n",
       "    </tr>\n",
       "    <tr>\n",
       "      <th>top</th>\n",
       "      <td>1</td>\n",
       "      <td>byte</td>\n",
       "      <td>caseid</td>\n",
       "      <td>1</td>\n",
       "      <td>Case identification number</td>\n",
       "    </tr>\n",
       "    <tr>\n",
       "      <th>freq</th>\n",
       "      <td>1</td>\n",
       "      <td>155</td>\n",
       "      <td>1</td>\n",
       "      <td>130</td>\n",
       "      <td>1</td>\n",
       "    </tr>\n",
       "  </tbody>\n",
       "</table>\n",
       "</div>"
      ],
      "text/plain": [
       "          0     1       2    3                           4\n",
       "count   171   171     171  171                         171\n",
       "unique  171     4     171    6                         171\n",
       "top       1  byte  caseid    1  Case identification number\n",
       "freq      1   155       1  130                           1"
      ]
     },
     "execution_count": 6,
     "metadata": {},
     "output_type": "execute_result"
    }
   ],
   "source": [
    "preg_label.describe()"
   ]
  },
  {
   "cell_type": "markdown",
   "metadata": {},
   "source": [
    "Show the summary of the labels. "
   ]
  },
  {
   "cell_type": "code",
   "execution_count": 7,
   "metadata": {},
   "outputs": [
    {
     "name": "stderr",
     "output_type": "stream",
     "text": [
      "/tmp/ipykernel_2017811/260640744.py:1: FutureWarning: In a future version, `df.iloc[:, i] = newvals` will attempt to set the values inplace instead of always setting a new array. To retain the old behavior, use either `df[df.columns[i]] = newvals` or, if columns are non-unique, `df.isetitem(i, newvals)`\n",
      "  male_label.iloc[:,3] = male_label.iloc[:,3].astype(str).astype('int')\n",
      "/tmp/ipykernel_2017811/260640744.py:2: FutureWarning: In a future version, `df.iloc[:, i] = newvals` will attempt to set the values inplace instead of always setting a new array. To retain the old behavior, use either `df[df.columns[i]] = newvals` or, if columns are non-unique, `df.isetitem(i, newvals)`\n",
      "  male_label.iloc[:,0] = male_label.iloc[:,0].astype(str).astype('int')\n",
      "/tmp/ipykernel_2017811/260640744.py:4: FutureWarning: In a future version, `df.iloc[:, i] = newvals` will attempt to set the values inplace instead of always setting a new array. To retain the old behavior, use either `df[df.columns[i]] = newvals` or, if columns are non-unique, `df.isetitem(i, newvals)`\n",
      "  female_label.iloc[:,0] = female_label.iloc[:,0].astype(str).astype('int')\n",
      "/tmp/ipykernel_2017811/260640744.py:5: FutureWarning: In a future version, `df.iloc[:, i] = newvals` will attempt to set the values inplace instead of always setting a new array. To retain the old behavior, use either `df[df.columns[i]] = newvals` or, if columns are non-unique, `df.isetitem(i, newvals)`\n",
      "  female_label.iloc[:,3] = female_label.iloc[:,3].astype(str).astype('int')\n",
      "/tmp/ipykernel_2017811/260640744.py:7: FutureWarning: In a future version, `df.iloc[:, i] = newvals` will attempt to set the values inplace instead of always setting a new array. To retain the old behavior, use either `df[df.columns[i]] = newvals` or, if columns are non-unique, `df.isetitem(i, newvals)`\n",
      "  preg_label.iloc[:,0] = preg_label.iloc[:,0].astype(str).astype('int')\n",
      "/tmp/ipykernel_2017811/260640744.py:8: FutureWarning: In a future version, `df.iloc[:, i] = newvals` will attempt to set the values inplace instead of always setting a new array. To retain the old behavior, use either `df[df.columns[i]] = newvals` or, if columns are non-unique, `df.isetitem(i, newvals)`\n",
      "  preg_label.iloc[:,3] = preg_label.iloc[:,3].astype(str).astype('int')\n"
     ]
    }
   ],
   "source": [
    "male_label.iloc[:,3] = male_label.iloc[:,3].astype(str).astype('int')\n",
    "male_label.iloc[:,0] = male_label.iloc[:,0].astype(str).astype('int')\n",
    "\n",
    "female_label.iloc[:,0] = female_label.iloc[:,0].astype(str).astype('int')\n",
    "female_label.iloc[:,3] = female_label.iloc[:,3].astype(str).astype('int')\n",
    "\n",
    "preg_label.iloc[:,0] = preg_label.iloc[:,0].astype(str).astype('int')\n",
    "preg_label.iloc[:,3] = preg_label.iloc[:,3].astype(str).astype('int')"
   ]
  },
  {
   "cell_type": "code",
   "execution_count": 8,
   "metadata": {},
   "outputs": [],
   "source": [
    "dd = pd.concat([male_label.iloc[:,0],male_label.iloc[:,0].add(male_label.iloc[:,3] - 1)],axis=1)\n",
    "ff = pd.concat([female_label.iloc[:,0],female_label.iloc[:,0].add(female_label.iloc[:,3] - 1)],axis=1)\n",
    "pp = pd.concat([preg_label.iloc[:,0],preg_label.iloc[:,0].add(preg_label.iloc[:,3] - 1)],axis=1)"
   ]
  },
  {
   "cell_type": "code",
   "execution_count": 9,
   "metadata": {},
   "outputs": [],
   "source": [
    "# male_matrix = pd.read_fwf('./data/2017_2019_MaleData.dat',\n",
    "#                           header=None,widths=male_label[3].values.tolist())\n",
    "# female_matrix = pd.read_fwf('./data/2017_2019_FemRespData.dat',\n",
    "#                             header=None, widths=female_label[3].values.tolist())\n",
    "# preg_matrix = pd.read_fwf('./data/2017_2019_FemPregData.dat',\n",
    "#                           header=None, widths=preg_label[3].values.tolist())"
   ]
  },
  {
   "cell_type": "markdown",
   "metadata": {},
   "source": [
    "Import the data"
   ]
  },
  {
   "cell_type": "code",
   "execution_count": 10,
   "metadata": {},
   "outputs": [],
   "source": [
    "male_matrix = pd.read_fwf('~/final_pr/2017_2019_MaleData.dat',\n",
    "                          header=None,widths=male_label[3].values.tolist())\n",
    "female_matrix = pd.read_fwf('~/final_pr/2017_2019_FemRespData.dat',\n",
    "                            header=None, widths=female_label[3].values.tolist())\n",
    "preg_matrix = pd.read_fwf('~/final_pr/2017_2019_FemPregData.dat',\n",
    "                          header=None, widths=preg_label[3].values.tolist())"
   ]
  },
  {
   "cell_type": "code",
   "execution_count": 11,
   "metadata": {},
   "outputs": [
    {
     "data": {
      "text/html": [
       "<div>\n",
       "<style scoped>\n",
       "    .dataframe tbody tr th:only-of-type {\n",
       "        vertical-align: middle;\n",
       "    }\n",
       "\n",
       "    .dataframe tbody tr th {\n",
       "        vertical-align: top;\n",
       "    }\n",
       "\n",
       "    .dataframe thead th {\n",
       "        text-align: right;\n",
       "    }\n",
       "</style>\n",
       "<table border=\"1\" class=\"dataframe\">\n",
       "  <thead>\n",
       "    <tr style=\"text-align: right;\">\n",
       "      <th></th>\n",
       "      <th>0</th>\n",
       "      <th>1</th>\n",
       "      <th>2</th>\n",
       "      <th>3</th>\n",
       "      <th>4</th>\n",
       "      <th>5</th>\n",
       "      <th>6</th>\n",
       "      <th>7</th>\n",
       "      <th>8</th>\n",
       "      <th>9</th>\n",
       "      <th>...</th>\n",
       "      <th>2999</th>\n",
       "      <th>3000</th>\n",
       "      <th>3001</th>\n",
       "      <th>3002</th>\n",
       "      <th>3003</th>\n",
       "      <th>3004</th>\n",
       "      <th>3005</th>\n",
       "      <th>3006</th>\n",
       "      <th>3007</th>\n",
       "      <th>3008</th>\n",
       "    </tr>\n",
       "  </thead>\n",
       "  <tbody>\n",
       "    <tr>\n",
       "      <th>count</th>\n",
       "      <td>5206.000000</td>\n",
       "      <td>5206.000000</td>\n",
       "      <td>5206.000000</td>\n",
       "      <td>5206.000000</td>\n",
       "      <td>5206.000000</td>\n",
       "      <td>5206.000000</td>\n",
       "      <td>5206.000000</td>\n",
       "      <td>5206.000000</td>\n",
       "      <td>5206.000000</td>\n",
       "      <td>1368.000000</td>\n",
       "      <td>...</td>\n",
       "      <td>5206.000000</td>\n",
       "      <td>5206.000000</td>\n",
       "      <td>5206.000000</td>\n",
       "      <td>5206.000000</td>\n",
       "      <td>5206.000000</td>\n",
       "      <td>5206.000000</td>\n",
       "      <td>5206.000000</td>\n",
       "      <td>5206.000000</td>\n",
       "      <td>5206.000000</td>\n",
       "      <td>5206.000000</td>\n",
       "    </tr>\n",
       "    <tr>\n",
       "      <th>mean</th>\n",
       "      <td>86404.484633</td>\n",
       "      <td>2.954668</td>\n",
       "      <td>30.481176</td>\n",
       "      <td>4.028813</td>\n",
       "      <td>2.933538</td>\n",
       "      <td>30.559547</td>\n",
       "      <td>30.547445</td>\n",
       "      <td>30.508068</td>\n",
       "      <td>3.950442</td>\n",
       "      <td>1.404971</td>\n",
       "      <td>...</td>\n",
       "      <td>13872.816942</td>\n",
       "      <td>2.456781</td>\n",
       "      <td>341.000000</td>\n",
       "      <td>1425.062620</td>\n",
       "      <td>1413.062620</td>\n",
       "      <td>1359.835190</td>\n",
       "      <td>28.523434</td>\n",
       "      <td>1.117365</td>\n",
       "      <td>2018.236266</td>\n",
       "      <td>51.860273</td>\n",
       "    </tr>\n",
       "    <tr>\n",
       "      <th>std</th>\n",
       "      <td>3272.089392</td>\n",
       "      <td>1.999678</td>\n",
       "      <td>9.974739</td>\n",
       "      <td>1.715258</td>\n",
       "      <td>0.816615</td>\n",
       "      <td>10.055743</td>\n",
       "      <td>10.012382</td>\n",
       "      <td>10.008250</td>\n",
       "      <td>1.763392</td>\n",
       "      <td>0.491066</td>\n",
       "      <td>...</td>\n",
       "      <td>14750.387052</td>\n",
       "      <td>1.129448</td>\n",
       "      <td>20.377636</td>\n",
       "      <td>7.181704</td>\n",
       "      <td>7.181704</td>\n",
       "      <td>8.252041</td>\n",
       "      <td>2.386990</td>\n",
       "      <td>0.321885</td>\n",
       "      <td>0.687670</td>\n",
       "      <td>18.777874</td>\n",
       "    </tr>\n",
       "    <tr>\n",
       "      <th>min</th>\n",
       "      <td>80717.000000</td>\n",
       "      <td>1.000000</td>\n",
       "      <td>15.000000</td>\n",
       "      <td>1.000000</td>\n",
       "      <td>1.000000</td>\n",
       "      <td>15.000000</td>\n",
       "      <td>15.000000</td>\n",
       "      <td>15.000000</td>\n",
       "      <td>1.000000</td>\n",
       "      <td>1.000000</td>\n",
       "      <td>...</td>\n",
       "      <td>1340.862000</td>\n",
       "      <td>1.000000</td>\n",
       "      <td>302.000000</td>\n",
       "      <td>1413.000000</td>\n",
       "      <td>1401.000000</td>\n",
       "      <td>1345.000000</td>\n",
       "      <td>25.000000</td>\n",
       "      <td>1.000000</td>\n",
       "      <td>2017.000000</td>\n",
       "      <td>14.120000</td>\n",
       "    </tr>\n",
       "    <tr>\n",
       "      <th>25%</th>\n",
       "      <td>83584.250000</td>\n",
       "      <td>1.000000</td>\n",
       "      <td>22.000000</td>\n",
       "      <td>5.000000</td>\n",
       "      <td>3.000000</td>\n",
       "      <td>22.000000</td>\n",
       "      <td>22.000000</td>\n",
       "      <td>22.000000</td>\n",
       "      <td>1.000000</td>\n",
       "      <td>1.000000</td>\n",
       "      <td>...</td>\n",
       "      <td>5050.599720</td>\n",
       "      <td>1.000000</td>\n",
       "      <td>327.000000</td>\n",
       "      <td>1419.000000</td>\n",
       "      <td>1407.000000</td>\n",
       "      <td>1357.000000</td>\n",
       "      <td>26.000000</td>\n",
       "      <td>1.000000</td>\n",
       "      <td>2018.000000</td>\n",
       "      <td>38.572500</td>\n",
       "    </tr>\n",
       "    <tr>\n",
       "      <th>50%</th>\n",
       "      <td>86442.500000</td>\n",
       "      <td>1.000000</td>\n",
       "      <td>30.000000</td>\n",
       "      <td>5.000000</td>\n",
       "      <td>3.000000</td>\n",
       "      <td>30.000000</td>\n",
       "      <td>30.000000</td>\n",
       "      <td>30.000000</td>\n",
       "      <td>5.000000</td>\n",
       "      <td>1.000000</td>\n",
       "      <td>...</td>\n",
       "      <td>9048.322876</td>\n",
       "      <td>2.000000</td>\n",
       "      <td>348.000000</td>\n",
       "      <td>1425.000000</td>\n",
       "      <td>1413.000000</td>\n",
       "      <td>1357.000000</td>\n",
       "      <td>29.000000</td>\n",
       "      <td>1.000000</td>\n",
       "      <td>2018.000000</td>\n",
       "      <td>48.655000</td>\n",
       "    </tr>\n",
       "    <tr>\n",
       "      <th>75%</th>\n",
       "      <td>89251.750000</td>\n",
       "      <td>5.000000</td>\n",
       "      <td>39.000000</td>\n",
       "      <td>5.000000</td>\n",
       "      <td>3.000000</td>\n",
       "      <td>39.000000</td>\n",
       "      <td>39.000000</td>\n",
       "      <td>39.000000</td>\n",
       "      <td>5.000000</td>\n",
       "      <td>2.000000</td>\n",
       "      <td>...</td>\n",
       "      <td>16133.803136</td>\n",
       "      <td>3.000000</td>\n",
       "      <td>356.000000</td>\n",
       "      <td>1432.000000</td>\n",
       "      <td>1420.000000</td>\n",
       "      <td>1369.000000</td>\n",
       "      <td>31.000000</td>\n",
       "      <td>1.000000</td>\n",
       "      <td>2019.000000</td>\n",
       "      <td>61.292500</td>\n",
       "    </tr>\n",
       "    <tr>\n",
       "      <th>max</th>\n",
       "      <td>92061.000000</td>\n",
       "      <td>5.000000</td>\n",
       "      <td>49.000000</td>\n",
       "      <td>5.000000</td>\n",
       "      <td>4.000000</td>\n",
       "      <td>98.000000</td>\n",
       "      <td>50.000000</td>\n",
       "      <td>49.000000</td>\n",
       "      <td>9.000000</td>\n",
       "      <td>2.000000</td>\n",
       "      <td>...</td>\n",
       "      <td>83332.130000</td>\n",
       "      <td>4.000000</td>\n",
       "      <td>371.000000</td>\n",
       "      <td>1437.000000</td>\n",
       "      <td>1425.000000</td>\n",
       "      <td>1369.000000</td>\n",
       "      <td>32.000000</td>\n",
       "      <td>2.000000</td>\n",
       "      <td>2019.000000</td>\n",
       "      <td>212.710000</td>\n",
       "    </tr>\n",
       "  </tbody>\n",
       "</table>\n",
       "<p>8 rows × 3009 columns</p>\n",
       "</div>"
      ],
      "text/plain": [
       "               0            1            2            3            4     \\\n",
       "count   5206.000000  5206.000000  5206.000000  5206.000000  5206.000000   \n",
       "mean   86404.484633     2.954668    30.481176     4.028813     2.933538   \n",
       "std     3272.089392     1.999678     9.974739     1.715258     0.816615   \n",
       "min    80717.000000     1.000000    15.000000     1.000000     1.000000   \n",
       "25%    83584.250000     1.000000    22.000000     5.000000     3.000000   \n",
       "50%    86442.500000     1.000000    30.000000     5.000000     3.000000   \n",
       "75%    89251.750000     5.000000    39.000000     5.000000     3.000000   \n",
       "max    92061.000000     5.000000    49.000000     5.000000     4.000000   \n",
       "\n",
       "              5            6            7            8            9     ...  \\\n",
       "count  5206.000000  5206.000000  5206.000000  5206.000000  1368.000000  ...   \n",
       "mean     30.559547    30.547445    30.508068     3.950442     1.404971  ...   \n",
       "std      10.055743    10.012382    10.008250     1.763392     0.491066  ...   \n",
       "min      15.000000    15.000000    15.000000     1.000000     1.000000  ...   \n",
       "25%      22.000000    22.000000    22.000000     1.000000     1.000000  ...   \n",
       "50%      30.000000    30.000000    30.000000     5.000000     1.000000  ...   \n",
       "75%      39.000000    39.000000    39.000000     5.000000     2.000000  ...   \n",
       "max      98.000000    50.000000    49.000000     9.000000     2.000000  ...   \n",
       "\n",
       "               2999         3000         3001         3002         3003  \\\n",
       "count   5206.000000  5206.000000  5206.000000  5206.000000  5206.000000   \n",
       "mean   13872.816942     2.456781   341.000000  1425.062620  1413.062620   \n",
       "std    14750.387052     1.129448    20.377636     7.181704     7.181704   \n",
       "min     1340.862000     1.000000   302.000000  1413.000000  1401.000000   \n",
       "25%     5050.599720     1.000000   327.000000  1419.000000  1407.000000   \n",
       "50%     9048.322876     2.000000   348.000000  1425.000000  1413.000000   \n",
       "75%    16133.803136     3.000000   356.000000  1432.000000  1420.000000   \n",
       "max    83332.130000     4.000000   371.000000  1437.000000  1425.000000   \n",
       "\n",
       "              3004         3005         3006         3007         3008  \n",
       "count  5206.000000  5206.000000  5206.000000  5206.000000  5206.000000  \n",
       "mean   1359.835190    28.523434     1.117365  2018.236266    51.860273  \n",
       "std       8.252041     2.386990     0.321885     0.687670    18.777874  \n",
       "min    1345.000000    25.000000     1.000000  2017.000000    14.120000  \n",
       "25%    1357.000000    26.000000     1.000000  2018.000000    38.572500  \n",
       "50%    1357.000000    29.000000     1.000000  2018.000000    48.655000  \n",
       "75%    1369.000000    31.000000     1.000000  2019.000000    61.292500  \n",
       "max    1369.000000    32.000000     2.000000  2019.000000   212.710000  \n",
       "\n",
       "[8 rows x 3009 columns]"
      ]
     },
     "execution_count": 11,
     "metadata": {},
     "output_type": "execute_result"
    }
   ],
   "source": [
    "male_matrix.describe()"
   ]
  },
  {
   "cell_type": "code",
   "execution_count": 12,
   "metadata": {},
   "outputs": [
    {
     "data": {
      "text/html": [
       "<div>\n",
       "<style scoped>\n",
       "    .dataframe tbody tr th:only-of-type {\n",
       "        vertical-align: middle;\n",
       "    }\n",
       "\n",
       "    .dataframe tbody tr th {\n",
       "        vertical-align: top;\n",
       "    }\n",
       "\n",
       "    .dataframe thead th {\n",
       "        text-align: right;\n",
       "    }\n",
       "</style>\n",
       "<table border=\"1\" class=\"dataframe\">\n",
       "  <thead>\n",
       "    <tr style=\"text-align: right;\">\n",
       "      <th></th>\n",
       "      <th>0</th>\n",
       "      <th>1</th>\n",
       "      <th>2</th>\n",
       "      <th>3</th>\n",
       "      <th>4</th>\n",
       "      <th>5</th>\n",
       "      <th>6</th>\n",
       "      <th>7</th>\n",
       "      <th>8</th>\n",
       "      <th>9</th>\n",
       "      <th>...</th>\n",
       "      <th>2599</th>\n",
       "      <th>2600</th>\n",
       "      <th>2601</th>\n",
       "      <th>2602</th>\n",
       "      <th>2603</th>\n",
       "      <th>2604</th>\n",
       "      <th>2605</th>\n",
       "      <th>2606</th>\n",
       "      <th>2607</th>\n",
       "      <th>2608</th>\n",
       "    </tr>\n",
       "  </thead>\n",
       "  <tbody>\n",
       "    <tr>\n",
       "      <th>count</th>\n",
       "      <td>6141.000000</td>\n",
       "      <td>6141.000000</td>\n",
       "      <td>6141.000000</td>\n",
       "      <td>6141.000000</td>\n",
       "      <td>6141.000000</td>\n",
       "      <td>6141.000000</td>\n",
       "      <td>6141.000000</td>\n",
       "      <td>6141.000000</td>\n",
       "      <td>6141.000000</td>\n",
       "      <td>1710.000000</td>\n",
       "      <td>...</td>\n",
       "      <td>6141.000000</td>\n",
       "      <td>6141.000000</td>\n",
       "      <td>6141.000000</td>\n",
       "      <td>6141.000000</td>\n",
       "      <td>6141.000000</td>\n",
       "      <td>6141.000000</td>\n",
       "      <td>6141.000000</td>\n",
       "      <td>6141.000000</td>\n",
       "      <td>6141.000000</td>\n",
       "      <td>6141.000000</td>\n",
       "    </tr>\n",
       "    <tr>\n",
       "      <th>mean</th>\n",
       "      <td>86375.872985</td>\n",
       "      <td>2.684416</td>\n",
       "      <td>31.067416</td>\n",
       "      <td>3.942192</td>\n",
       "      <td>2.957662</td>\n",
       "      <td>31.147044</td>\n",
       "      <td>31.147044</td>\n",
       "      <td>31.107963</td>\n",
       "      <td>3.886826</td>\n",
       "      <td>1.412281</td>\n",
       "      <td>...</td>\n",
       "      <td>340.904739</td>\n",
       "      <td>1424.813223</td>\n",
       "      <td>1412.813223</td>\n",
       "      <td>1383.579384</td>\n",
       "      <td>1371.579384</td>\n",
       "      <td>1359.579384</td>\n",
       "      <td>28.441459</td>\n",
       "      <td>1.112522</td>\n",
       "      <td>2018.214949</td>\n",
       "      <td>76.373377</td>\n",
       "    </tr>\n",
       "    <tr>\n",
       "      <th>std</th>\n",
       "      <td>3279.042728</td>\n",
       "      <td>1.975106</td>\n",
       "      <td>9.712782</td>\n",
       "      <td>1.764308</td>\n",
       "      <td>0.812664</td>\n",
       "      <td>9.749085</td>\n",
       "      <td>9.749085</td>\n",
       "      <td>9.747876</td>\n",
       "      <td>1.794234</td>\n",
       "      <td>0.604422</td>\n",
       "      <td>...</td>\n",
       "      <td>20.438751</td>\n",
       "      <td>7.065362</td>\n",
       "      <td>7.065362</td>\n",
       "      <td>8.127071</td>\n",
       "      <td>8.127071</td>\n",
       "      <td>8.127071</td>\n",
       "      <td>2.339165</td>\n",
       "      <td>0.316034</td>\n",
       "      <td>0.677256</td>\n",
       "      <td>28.635465</td>\n",
       "    </tr>\n",
       "    <tr>\n",
       "      <th>min</th>\n",
       "      <td>80716.000000</td>\n",
       "      <td>1.000000</td>\n",
       "      <td>15.000000</td>\n",
       "      <td>1.000000</td>\n",
       "      <td>1.000000</td>\n",
       "      <td>15.000000</td>\n",
       "      <td>15.000000</td>\n",
       "      <td>15.000000</td>\n",
       "      <td>1.000000</td>\n",
       "      <td>1.000000</td>\n",
       "      <td>...</td>\n",
       "      <td>302.000000</td>\n",
       "      <td>1413.000000</td>\n",
       "      <td>1401.000000</td>\n",
       "      <td>1369.000000</td>\n",
       "      <td>1357.000000</td>\n",
       "      <td>1345.000000</td>\n",
       "      <td>25.000000</td>\n",
       "      <td>1.000000</td>\n",
       "      <td>2017.000000</td>\n",
       "      <td>13.400000</td>\n",
       "    </tr>\n",
       "    <tr>\n",
       "      <th>25%</th>\n",
       "      <td>83538.000000</td>\n",
       "      <td>1.000000</td>\n",
       "      <td>23.000000</td>\n",
       "      <td>1.000000</td>\n",
       "      <td>2.000000</td>\n",
       "      <td>23.000000</td>\n",
       "      <td>23.000000</td>\n",
       "      <td>23.000000</td>\n",
       "      <td>1.000000</td>\n",
       "      <td>1.000000</td>\n",
       "      <td>...</td>\n",
       "      <td>327.000000</td>\n",
       "      <td>1419.000000</td>\n",
       "      <td>1407.000000</td>\n",
       "      <td>1381.000000</td>\n",
       "      <td>1369.000000</td>\n",
       "      <td>1357.000000</td>\n",
       "      <td>26.000000</td>\n",
       "      <td>1.000000</td>\n",
       "      <td>2018.000000</td>\n",
       "      <td>56.460000</td>\n",
       "    </tr>\n",
       "    <tr>\n",
       "      <th>50%</th>\n",
       "      <td>86354.000000</td>\n",
       "      <td>1.000000</td>\n",
       "      <td>31.000000</td>\n",
       "      <td>5.000000</td>\n",
       "      <td>3.000000</td>\n",
       "      <td>31.000000</td>\n",
       "      <td>31.000000</td>\n",
       "      <td>31.000000</td>\n",
       "      <td>5.000000</td>\n",
       "      <td>1.000000</td>\n",
       "      <td>...</td>\n",
       "      <td>346.000000</td>\n",
       "      <td>1425.000000</td>\n",
       "      <td>1413.000000</td>\n",
       "      <td>1381.000000</td>\n",
       "      <td>1369.000000</td>\n",
       "      <td>1357.000000</td>\n",
       "      <td>28.000000</td>\n",
       "      <td>1.000000</td>\n",
       "      <td>2018.000000</td>\n",
       "      <td>72.780000</td>\n",
       "    </tr>\n",
       "    <tr>\n",
       "      <th>75%</th>\n",
       "      <td>89203.000000</td>\n",
       "      <td>5.000000</td>\n",
       "      <td>39.000000</td>\n",
       "      <td>5.000000</td>\n",
       "      <td>4.000000</td>\n",
       "      <td>39.000000</td>\n",
       "      <td>39.000000</td>\n",
       "      <td>39.000000</td>\n",
       "      <td>5.000000</td>\n",
       "      <td>2.000000</td>\n",
       "      <td>...</td>\n",
       "      <td>356.000000</td>\n",
       "      <td>1431.000000</td>\n",
       "      <td>1419.000000</td>\n",
       "      <td>1393.000000</td>\n",
       "      <td>1381.000000</td>\n",
       "      <td>1369.000000</td>\n",
       "      <td>31.000000</td>\n",
       "      <td>1.000000</td>\n",
       "      <td>2019.000000</td>\n",
       "      <td>91.460000</td>\n",
       "    </tr>\n",
       "    <tr>\n",
       "      <th>max</th>\n",
       "      <td>92062.000000</td>\n",
       "      <td>5.000000</td>\n",
       "      <td>49.000000</td>\n",
       "      <td>5.000000</td>\n",
       "      <td>4.000000</td>\n",
       "      <td>50.000000</td>\n",
       "      <td>50.000000</td>\n",
       "      <td>49.000000</td>\n",
       "      <td>9.000000</td>\n",
       "      <td>9.000000</td>\n",
       "      <td>...</td>\n",
       "      <td>371.000000</td>\n",
       "      <td>1437.000000</td>\n",
       "      <td>1425.000000</td>\n",
       "      <td>1393.000000</td>\n",
       "      <td>1381.000000</td>\n",
       "      <td>1369.000000</td>\n",
       "      <td>32.000000</td>\n",
       "      <td>2.000000</td>\n",
       "      <td>2019.000000</td>\n",
       "      <td>297.820000</td>\n",
       "    </tr>\n",
       "  </tbody>\n",
       "</table>\n",
       "<p>8 rows × 2609 columns</p>\n",
       "</div>"
      ],
      "text/plain": [
       "               0            1            2            3            4     \\\n",
       "count   6141.000000  6141.000000  6141.000000  6141.000000  6141.000000   \n",
       "mean   86375.872985     2.684416    31.067416     3.942192     2.957662   \n",
       "std     3279.042728     1.975106     9.712782     1.764308     0.812664   \n",
       "min    80716.000000     1.000000    15.000000     1.000000     1.000000   \n",
       "25%    83538.000000     1.000000    23.000000     1.000000     2.000000   \n",
       "50%    86354.000000     1.000000    31.000000     5.000000     3.000000   \n",
       "75%    89203.000000     5.000000    39.000000     5.000000     4.000000   \n",
       "max    92062.000000     5.000000    49.000000     5.000000     4.000000   \n",
       "\n",
       "              5            6            7            8            9     ...  \\\n",
       "count  6141.000000  6141.000000  6141.000000  6141.000000  1710.000000  ...   \n",
       "mean     31.147044    31.147044    31.107963     3.886826     1.412281  ...   \n",
       "std       9.749085     9.749085     9.747876     1.794234     0.604422  ...   \n",
       "min      15.000000    15.000000    15.000000     1.000000     1.000000  ...   \n",
       "25%      23.000000    23.000000    23.000000     1.000000     1.000000  ...   \n",
       "50%      31.000000    31.000000    31.000000     5.000000     1.000000  ...   \n",
       "75%      39.000000    39.000000    39.000000     5.000000     2.000000  ...   \n",
       "max      50.000000    50.000000    49.000000     9.000000     9.000000  ...   \n",
       "\n",
       "              2599         2600         2601         2602         2603  \\\n",
       "count  6141.000000  6141.000000  6141.000000  6141.000000  6141.000000   \n",
       "mean    340.904739  1424.813223  1412.813223  1383.579384  1371.579384   \n",
       "std      20.438751     7.065362     7.065362     8.127071     8.127071   \n",
       "min     302.000000  1413.000000  1401.000000  1369.000000  1357.000000   \n",
       "25%     327.000000  1419.000000  1407.000000  1381.000000  1369.000000   \n",
       "50%     346.000000  1425.000000  1413.000000  1381.000000  1369.000000   \n",
       "75%     356.000000  1431.000000  1419.000000  1393.000000  1381.000000   \n",
       "max     371.000000  1437.000000  1425.000000  1393.000000  1381.000000   \n",
       "\n",
       "              2604         2605         2606         2607         2608  \n",
       "count  6141.000000  6141.000000  6141.000000  6141.000000  6141.000000  \n",
       "mean   1359.579384    28.441459     1.112522  2018.214949    76.373377  \n",
       "std       8.127071     2.339165     0.316034     0.677256    28.635465  \n",
       "min    1345.000000    25.000000     1.000000  2017.000000    13.400000  \n",
       "25%    1357.000000    26.000000     1.000000  2018.000000    56.460000  \n",
       "50%    1357.000000    28.000000     1.000000  2018.000000    72.780000  \n",
       "75%    1369.000000    31.000000     1.000000  2019.000000    91.460000  \n",
       "max    1369.000000    32.000000     2.000000  2019.000000   297.820000  \n",
       "\n",
       "[8 rows x 2609 columns]"
      ]
     },
     "execution_count": 12,
     "metadata": {},
     "output_type": "execute_result"
    }
   ],
   "source": [
    "female_matrix.describe()"
   ]
  },
  {
   "cell_type": "code",
   "execution_count": 13,
   "metadata": {},
   "outputs": [
    {
     "data": {
      "text/html": [
       "<div>\n",
       "<style scoped>\n",
       "    .dataframe tbody tr th:only-of-type {\n",
       "        vertical-align: middle;\n",
       "    }\n",
       "\n",
       "    .dataframe tbody tr th {\n",
       "        vertical-align: top;\n",
       "    }\n",
       "\n",
       "    .dataframe thead th {\n",
       "        text-align: right;\n",
       "    }\n",
       "</style>\n",
       "<table border=\"1\" class=\"dataframe\">\n",
       "  <thead>\n",
       "    <tr style=\"text-align: right;\">\n",
       "      <th></th>\n",
       "      <th>0</th>\n",
       "      <th>1</th>\n",
       "      <th>2</th>\n",
       "      <th>3</th>\n",
       "      <th>4</th>\n",
       "      <th>5</th>\n",
       "      <th>6</th>\n",
       "      <th>7</th>\n",
       "      <th>8</th>\n",
       "      <th>9</th>\n",
       "      <th>...</th>\n",
       "      <th>161</th>\n",
       "      <th>162</th>\n",
       "      <th>163</th>\n",
       "      <th>164</th>\n",
       "      <th>165</th>\n",
       "      <th>166</th>\n",
       "      <th>167</th>\n",
       "      <th>168</th>\n",
       "      <th>169</th>\n",
       "      <th>170</th>\n",
       "    </tr>\n",
       "  </thead>\n",
       "  <tbody>\n",
       "    <tr>\n",
       "      <th>count</th>\n",
       "      <td>10215.000000</td>\n",
       "      <td>10215.000000</td>\n",
       "      <td>530.000000</td>\n",
       "      <td>10021.000000</td>\n",
       "      <td>13.000000</td>\n",
       "      <td>2812.000000</td>\n",
       "      <td>7165.000000</td>\n",
       "      <td>7197.000000</td>\n",
       "      <td>2018.000000</td>\n",
       "      <td>541.000000</td>\n",
       "      <td>...</td>\n",
       "      <td>10215.000000</td>\n",
       "      <td>10215.000000</td>\n",
       "      <td>10215.000000</td>\n",
       "      <td>10215.000000</td>\n",
       "      <td>10215.000000</td>\n",
       "      <td>10215.000000</td>\n",
       "      <td>10215.000000</td>\n",
       "      <td>10215.000000</td>\n",
       "      <td>10215.000000</td>\n",
       "      <td>10215.000000</td>\n",
       "    </tr>\n",
       "    <tr>\n",
       "      <th>mean</th>\n",
       "      <td>86362.085463</td>\n",
       "      <td>2.388155</td>\n",
       "      <td>4.950943</td>\n",
       "      <td>4.623690</td>\n",
       "      <td>4.307692</td>\n",
       "      <td>6.260669</td>\n",
       "      <td>5.596650</td>\n",
       "      <td>5.129359</td>\n",
       "      <td>2.133300</td>\n",
       "      <td>2.134935</td>\n",
       "      <td>...</td>\n",
       "      <td>2.418209</td>\n",
       "      <td>341.021733</td>\n",
       "      <td>1424.528732</td>\n",
       "      <td>1412.528732</td>\n",
       "      <td>1383.280176</td>\n",
       "      <td>1371.280176</td>\n",
       "      <td>1359.280176</td>\n",
       "      <td>28.353304</td>\n",
       "      <td>1.115908</td>\n",
       "      <td>2018.190015</td>\n",
       "    </tr>\n",
       "    <tr>\n",
       "      <th>std</th>\n",
       "      <td>3305.168522</td>\n",
       "      <td>1.612681</td>\n",
       "      <td>2.427288</td>\n",
       "      <td>1.871467</td>\n",
       "      <td>1.601282</td>\n",
       "      <td>17.206821</td>\n",
       "      <td>2.246292</td>\n",
       "      <td>13.366320</td>\n",
       "      <td>1.069972</td>\n",
       "      <td>0.657084</td>\n",
       "      <td>...</td>\n",
       "      <td>1.134201</td>\n",
       "      <td>20.614614</td>\n",
       "      <td>7.147440</td>\n",
       "      <td>7.147440</td>\n",
       "      <td>8.258942</td>\n",
       "      <td>8.258942</td>\n",
       "      <td>8.258942</td>\n",
       "      <td>2.360457</td>\n",
       "      <td>0.320130</td>\n",
       "      <td>0.688245</td>\n",
       "    </tr>\n",
       "    <tr>\n",
       "      <th>min</th>\n",
       "      <td>80719.000000</td>\n",
       "      <td>1.000000</td>\n",
       "      <td>0.000000</td>\n",
       "      <td>1.000000</td>\n",
       "      <td>1.000000</td>\n",
       "      <td>1.000000</td>\n",
       "      <td>0.000000</td>\n",
       "      <td>1.000000</td>\n",
       "      <td>1.000000</td>\n",
       "      <td>1.000000</td>\n",
       "      <td>...</td>\n",
       "      <td>1.000000</td>\n",
       "      <td>302.000000</td>\n",
       "      <td>1413.000000</td>\n",
       "      <td>1401.000000</td>\n",
       "      <td>1369.000000</td>\n",
       "      <td>1357.000000</td>\n",
       "      <td>1345.000000</td>\n",
       "      <td>25.000000</td>\n",
       "      <td>1.000000</td>\n",
       "      <td>2017.000000</td>\n",
       "    </tr>\n",
       "    <tr>\n",
       "      <th>25%</th>\n",
       "      <td>83439.000000</td>\n",
       "      <td>1.000000</td>\n",
       "      <td>3.000000</td>\n",
       "      <td>3.000000</td>\n",
       "      <td>3.000000</td>\n",
       "      <td>2.000000</td>\n",
       "      <td>5.000000</td>\n",
       "      <td>2.000000</td>\n",
       "      <td>1.000000</td>\n",
       "      <td>2.000000</td>\n",
       "      <td>...</td>\n",
       "      <td>1.000000</td>\n",
       "      <td>327.000000</td>\n",
       "      <td>1418.000000</td>\n",
       "      <td>1406.000000</td>\n",
       "      <td>1381.000000</td>\n",
       "      <td>1369.000000</td>\n",
       "      <td>1357.000000</td>\n",
       "      <td>26.000000</td>\n",
       "      <td>1.000000</td>\n",
       "      <td>2018.000000</td>\n",
       "    </tr>\n",
       "    <tr>\n",
       "      <th>50%</th>\n",
       "      <td>86362.000000</td>\n",
       "      <td>2.000000</td>\n",
       "      <td>5.000000</td>\n",
       "      <td>6.000000</td>\n",
       "      <td>5.000000</td>\n",
       "      <td>3.000000</td>\n",
       "      <td>6.000000</td>\n",
       "      <td>3.000000</td>\n",
       "      <td>3.000000</td>\n",
       "      <td>2.000000</td>\n",
       "      <td>...</td>\n",
       "      <td>2.000000</td>\n",
       "      <td>346.000000</td>\n",
       "      <td>1424.000000</td>\n",
       "      <td>1412.000000</td>\n",
       "      <td>1381.000000</td>\n",
       "      <td>1369.000000</td>\n",
       "      <td>1357.000000</td>\n",
       "      <td>28.000000</td>\n",
       "      <td>1.000000</td>\n",
       "      <td>2018.000000</td>\n",
       "    </tr>\n",
       "    <tr>\n",
       "      <th>75%</th>\n",
       "      <td>89266.000000</td>\n",
       "      <td>3.000000</td>\n",
       "      <td>7.000000</td>\n",
       "      <td>6.000000</td>\n",
       "      <td>5.000000</td>\n",
       "      <td>4.000000</td>\n",
       "      <td>7.000000</td>\n",
       "      <td>4.000000</td>\n",
       "      <td>3.000000</td>\n",
       "      <td>2.000000</td>\n",
       "      <td>...</td>\n",
       "      <td>3.000000</td>\n",
       "      <td>356.000000</td>\n",
       "      <td>1431.000000</td>\n",
       "      <td>1419.000000</td>\n",
       "      <td>1393.000000</td>\n",
       "      <td>1381.000000</td>\n",
       "      <td>1369.000000</td>\n",
       "      <td>31.000000</td>\n",
       "      <td>1.000000</td>\n",
       "      <td>2019.000000</td>\n",
       "    </tr>\n",
       "    <tr>\n",
       "      <th>max</th>\n",
       "      <td>92062.000000</td>\n",
       "      <td>14.000000</td>\n",
       "      <td>9.000000</td>\n",
       "      <td>9.000000</td>\n",
       "      <td>6.000000</td>\n",
       "      <td>99.000000</td>\n",
       "      <td>8.000000</td>\n",
       "      <td>99.000000</td>\n",
       "      <td>9.000000</td>\n",
       "      <td>5.000000</td>\n",
       "      <td>...</td>\n",
       "      <td>4.000000</td>\n",
       "      <td>371.000000</td>\n",
       "      <td>1437.000000</td>\n",
       "      <td>1425.000000</td>\n",
       "      <td>1393.000000</td>\n",
       "      <td>1381.000000</td>\n",
       "      <td>1369.000000</td>\n",
       "      <td>32.000000</td>\n",
       "      <td>2.000000</td>\n",
       "      <td>2019.000000</td>\n",
       "    </tr>\n",
       "  </tbody>\n",
       "</table>\n",
       "<p>8 rows × 171 columns</p>\n",
       "</div>"
      ],
      "text/plain": [
       "                0             1           2             3          4    \\\n",
       "count  10215.000000  10215.000000  530.000000  10021.000000  13.000000   \n",
       "mean   86362.085463      2.388155    4.950943      4.623690   4.307692   \n",
       "std     3305.168522      1.612681    2.427288      1.871467   1.601282   \n",
       "min    80719.000000      1.000000    0.000000      1.000000   1.000000   \n",
       "25%    83439.000000      1.000000    3.000000      3.000000   3.000000   \n",
       "50%    86362.000000      2.000000    5.000000      6.000000   5.000000   \n",
       "75%    89266.000000      3.000000    7.000000      6.000000   5.000000   \n",
       "max    92062.000000     14.000000    9.000000      9.000000   6.000000   \n",
       "\n",
       "               5            6            7            8           9    ...  \\\n",
       "count  2812.000000  7165.000000  7197.000000  2018.000000  541.000000  ...   \n",
       "mean      6.260669     5.596650     5.129359     2.133300    2.134935  ...   \n",
       "std      17.206821     2.246292    13.366320     1.069972    0.657084  ...   \n",
       "min       1.000000     0.000000     1.000000     1.000000    1.000000  ...   \n",
       "25%       2.000000     5.000000     2.000000     1.000000    2.000000  ...   \n",
       "50%       3.000000     6.000000     3.000000     3.000000    2.000000  ...   \n",
       "75%       4.000000     7.000000     4.000000     3.000000    2.000000  ...   \n",
       "max      99.000000     8.000000    99.000000     9.000000    5.000000  ...   \n",
       "\n",
       "                161           162           163           164           165  \\\n",
       "count  10215.000000  10215.000000  10215.000000  10215.000000  10215.000000   \n",
       "mean       2.418209    341.021733   1424.528732   1412.528732   1383.280176   \n",
       "std        1.134201     20.614614      7.147440      7.147440      8.258942   \n",
       "min        1.000000    302.000000   1413.000000   1401.000000   1369.000000   \n",
       "25%        1.000000    327.000000   1418.000000   1406.000000   1381.000000   \n",
       "50%        2.000000    346.000000   1424.000000   1412.000000   1381.000000   \n",
       "75%        3.000000    356.000000   1431.000000   1419.000000   1393.000000   \n",
       "max        4.000000    371.000000   1437.000000   1425.000000   1393.000000   \n",
       "\n",
       "                166           167           168           169           170  \n",
       "count  10215.000000  10215.000000  10215.000000  10215.000000  10215.000000  \n",
       "mean    1371.280176   1359.280176     28.353304      1.115908   2018.190015  \n",
       "std        8.258942      8.258942      2.360457      0.320130      0.688245  \n",
       "min     1357.000000   1345.000000     25.000000      1.000000   2017.000000  \n",
       "25%     1369.000000   1357.000000     26.000000      1.000000   2018.000000  \n",
       "50%     1369.000000   1357.000000     28.000000      1.000000   2018.000000  \n",
       "75%     1381.000000   1369.000000     31.000000      1.000000   2019.000000  \n",
       "max     1381.000000   1369.000000     32.000000      2.000000   2019.000000  \n",
       "\n",
       "[8 rows x 171 columns]"
      ]
     },
     "execution_count": 13,
     "metadata": {},
     "output_type": "execute_result"
    }
   ],
   "source": [
    "preg_matrix.describe()"
   ]
  },
  {
   "cell_type": "markdown",
   "metadata": {},
   "source": [
    "Show the summary of the data without label."
   ]
  },
  {
   "cell_type": "code",
   "execution_count": 14,
   "metadata": {},
   "outputs": [],
   "source": [
    "male_matrix.columns = male_label[2].values\n",
    "female_matrix.columns = female_label[2].values\n",
    "preg_matrix.columns = preg_label[2].values"
   ]
  },
  {
   "cell_type": "markdown",
   "metadata": {},
   "source": [
    "Add the label"
   ]
  },
  {
   "cell_type": "code",
   "execution_count": 15,
   "metadata": {},
   "outputs": [],
   "source": [
    "male_matrix = male_matrix.iloc[:,5:-10]\n",
    "preg_matrix = preg_matrix.iloc[:,1:-11]\n",
    "female_matrix = female_matrix.iloc[:,5:-12]"
   ]
  },
  {
   "cell_type": "code",
   "execution_count": 16,
   "metadata": {},
   "outputs": [],
   "source": [
    "male_matrix = male_matrix.drop(male_matrix.loc[:,male_matrix.isna().all()],axis=1)\n",
    "female_matrix = female_matrix.drop(female_matrix.loc[:,female_matrix.isna().all()],axis=1)\n",
    "preg_matrix = preg_matrix.drop(preg_matrix.loc[:,preg_matrix.isna().all()],axis=1)"
   ]
  },
  {
   "cell_type": "code",
   "execution_count": 17,
   "metadata": {},
   "outputs": [],
   "source": [
    "male_matrix = male_matrix.fillna(-1)\n",
    "female_matrix = female_matrix.fillna(-1)\n",
    "preg_matrix = preg_matrix.fillna(-1)"
   ]
  },
  {
   "cell_type": "markdown",
   "metadata": {},
   "source": [
    "Fill nan with -1 which means do not apply. "
   ]
  },
  {
   "cell_type": "code",
   "execution_count": 18,
   "metadata": {},
   "outputs": [],
   "source": [
    "male_matrix = male_matrix.drop(male_matrix.columns[(\n",
    "    male_matrix.isna().sum() == male_matrix.shape[1])], axis=1)\n",
    "female_matrix = female_matrix.drop(female_matrix.columns[(\n",
    "    female_matrix.isna().sum() == female_matrix.shape[1])], axis=1)\n",
    "preg_matrix = preg_matrix.drop(preg_matrix.columns[(\n",
    "    preg_matrix.isna().sum() == preg_matrix.shape[1])], axis=1)"
   ]
  },
  {
   "cell_type": "markdown",
   "metadata": {},
   "source": [
    "Drop the irrelavant data. "
   ]
  },
  {
   "cell_type": "code",
   "execution_count": 19,
   "metadata": {},
   "outputs": [
    {
     "data": {
      "text/html": [
       "<div>\n",
       "<style scoped>\n",
       "    .dataframe tbody tr th:only-of-type {\n",
       "        vertical-align: middle;\n",
       "    }\n",
       "\n",
       "    .dataframe tbody tr th {\n",
       "        vertical-align: top;\n",
       "    }\n",
       "\n",
       "    .dataframe thead th {\n",
       "        text-align: right;\n",
       "    }\n",
       "</style>\n",
       "<table border=\"1\" class=\"dataframe\">\n",
       "  <thead>\n",
       "    <tr style=\"text-align: right;\">\n",
       "      <th></th>\n",
       "      <th>AGE_A</th>\n",
       "      <th>AGE_R</th>\n",
       "      <th>agescrn</th>\n",
       "      <th>hisp</th>\n",
       "      <th>hispgrp</th>\n",
       "      <th>PRIMLANG1</th>\n",
       "      <th>PRIMLANG2</th>\n",
       "      <th>PRIMLANG3</th>\n",
       "      <th>roscnt</th>\n",
       "      <th>marstat</th>\n",
       "      <th>...</th>\n",
       "      <th>religion</th>\n",
       "      <th>laborfor</th>\n",
       "      <th>RELIGION_I</th>\n",
       "      <th>LABORFOR_I</th>\n",
       "      <th>poverty</th>\n",
       "      <th>totincr</th>\n",
       "      <th>pubassis</th>\n",
       "      <th>POVERTY_I</th>\n",
       "      <th>TOTINCR_I</th>\n",
       "      <th>PUBASSIS_I</th>\n",
       "    </tr>\n",
       "  </thead>\n",
       "  <tbody>\n",
       "    <tr>\n",
       "      <th>count</th>\n",
       "      <td>5206.000000</td>\n",
       "      <td>5206.000000</td>\n",
       "      <td>5206.000000</td>\n",
       "      <td>5206.000000</td>\n",
       "      <td>5206.000000</td>\n",
       "      <td>5206.000000</td>\n",
       "      <td>5206.000000</td>\n",
       "      <td>5206.000000</td>\n",
       "      <td>5206.000000</td>\n",
       "      <td>5206.000000</td>\n",
       "      <td>...</td>\n",
       "      <td>5206.000000</td>\n",
       "      <td>5206.000000</td>\n",
       "      <td>5206.000000</td>\n",
       "      <td>5206.000000</td>\n",
       "      <td>5206.000000</td>\n",
       "      <td>5206.000000</td>\n",
       "      <td>5206.000000</td>\n",
       "      <td>5206.000000</td>\n",
       "      <td>5206.000000</td>\n",
       "      <td>5206.000000</td>\n",
       "    </tr>\n",
       "    <tr>\n",
       "      <th>mean</th>\n",
       "      <td>30.559547</td>\n",
       "      <td>30.547445</td>\n",
       "      <td>30.508068</td>\n",
       "      <td>3.950442</td>\n",
       "      <td>-0.368037</td>\n",
       "      <td>1.252209</td>\n",
       "      <td>-0.321168</td>\n",
       "      <td>-0.965809</td>\n",
       "      <td>3.115828</td>\n",
       "      <td>4.061468</td>\n",
       "      <td>...</td>\n",
       "      <td>2.238187</td>\n",
       "      <td>2.587399</td>\n",
       "      <td>0.002689</td>\n",
       "      <td>0.000576</td>\n",
       "      <td>301.770073</td>\n",
       "      <td>10.623703</td>\n",
       "      <td>1.755090</td>\n",
       "      <td>0.110257</td>\n",
       "      <td>0.110257</td>\n",
       "      <td>0.044756</td>\n",
       "    </tr>\n",
       "    <tr>\n",
       "      <th>std</th>\n",
       "      <td>10.055743</td>\n",
       "      <td>10.012382</td>\n",
       "      <td>10.008250</td>\n",
       "      <td>1.763392</td>\n",
       "      <td>1.088128</td>\n",
       "      <td>0.991980</td>\n",
       "      <td>1.748830</td>\n",
       "      <td>0.503954</td>\n",
       "      <td>1.566530</td>\n",
       "      <td>2.268370</td>\n",
       "      <td>...</td>\n",
       "      <td>1.017300</td>\n",
       "      <td>2.423379</td>\n",
       "      <td>0.051793</td>\n",
       "      <td>0.024001</td>\n",
       "      <td>195.397200</td>\n",
       "      <td>3.977599</td>\n",
       "      <td>0.430075</td>\n",
       "      <td>0.314465</td>\n",
       "      <td>0.314465</td>\n",
       "      <td>0.206788</td>\n",
       "    </tr>\n",
       "    <tr>\n",
       "      <th>min</th>\n",
       "      <td>15.000000</td>\n",
       "      <td>15.000000</td>\n",
       "      <td>15.000000</td>\n",
       "      <td>1.000000</td>\n",
       "      <td>-1.000000</td>\n",
       "      <td>1.000000</td>\n",
       "      <td>-1.000000</td>\n",
       "      <td>-1.000000</td>\n",
       "      <td>1.000000</td>\n",
       "      <td>1.000000</td>\n",
       "      <td>...</td>\n",
       "      <td>1.000000</td>\n",
       "      <td>1.000000</td>\n",
       "      <td>0.000000</td>\n",
       "      <td>0.000000</td>\n",
       "      <td>50.000000</td>\n",
       "      <td>1.000000</td>\n",
       "      <td>1.000000</td>\n",
       "      <td>0.000000</td>\n",
       "      <td>0.000000</td>\n",
       "      <td>0.000000</td>\n",
       "    </tr>\n",
       "    <tr>\n",
       "      <th>25%</th>\n",
       "      <td>22.000000</td>\n",
       "      <td>22.000000</td>\n",
       "      <td>22.000000</td>\n",
       "      <td>1.000000</td>\n",
       "      <td>-1.000000</td>\n",
       "      <td>1.000000</td>\n",
       "      <td>-1.000000</td>\n",
       "      <td>-1.000000</td>\n",
       "      <td>2.000000</td>\n",
       "      <td>1.000000</td>\n",
       "      <td>...</td>\n",
       "      <td>1.000000</td>\n",
       "      <td>1.000000</td>\n",
       "      <td>0.000000</td>\n",
       "      <td>0.000000</td>\n",
       "      <td>137.000000</td>\n",
       "      <td>8.000000</td>\n",
       "      <td>2.000000</td>\n",
       "      <td>0.000000</td>\n",
       "      <td>0.000000</td>\n",
       "      <td>0.000000</td>\n",
       "    </tr>\n",
       "    <tr>\n",
       "      <th>50%</th>\n",
       "      <td>30.000000</td>\n",
       "      <td>30.000000</td>\n",
       "      <td>30.000000</td>\n",
       "      <td>5.000000</td>\n",
       "      <td>-1.000000</td>\n",
       "      <td>1.000000</td>\n",
       "      <td>-1.000000</td>\n",
       "      <td>-1.000000</td>\n",
       "      <td>3.000000</td>\n",
       "      <td>6.000000</td>\n",
       "      <td>...</td>\n",
       "      <td>2.000000</td>\n",
       "      <td>1.000000</td>\n",
       "      <td>0.000000</td>\n",
       "      <td>0.000000</td>\n",
       "      <td>266.000000</td>\n",
       "      <td>12.000000</td>\n",
       "      <td>2.000000</td>\n",
       "      <td>0.000000</td>\n",
       "      <td>0.000000</td>\n",
       "      <td>0.000000</td>\n",
       "    </tr>\n",
       "    <tr>\n",
       "      <th>75%</th>\n",
       "      <td>39.000000</td>\n",
       "      <td>39.000000</td>\n",
       "      <td>39.000000</td>\n",
       "      <td>5.000000</td>\n",
       "      <td>1.000000</td>\n",
       "      <td>1.000000</td>\n",
       "      <td>-1.000000</td>\n",
       "      <td>-1.000000</td>\n",
       "      <td>4.000000</td>\n",
       "      <td>6.000000</td>\n",
       "      <td>...</td>\n",
       "      <td>3.000000</td>\n",
       "      <td>3.000000</td>\n",
       "      <td>0.000000</td>\n",
       "      <td>0.000000</td>\n",
       "      <td>438.000000</td>\n",
       "      <td>14.000000</td>\n",
       "      <td>2.000000</td>\n",
       "      <td>0.000000</td>\n",
       "      <td>0.000000</td>\n",
       "      <td>0.000000</td>\n",
       "    </tr>\n",
       "    <tr>\n",
       "      <th>max</th>\n",
       "      <td>98.000000</td>\n",
       "      <td>50.000000</td>\n",
       "      <td>49.000000</td>\n",
       "      <td>9.000000</td>\n",
       "      <td>2.000000</td>\n",
       "      <td>7.000000</td>\n",
       "      <td>7.000000</td>\n",
       "      <td>7.000000</td>\n",
       "      <td>8.000000</td>\n",
       "      <td>9.000000</td>\n",
       "      <td>...</td>\n",
       "      <td>4.000000</td>\n",
       "      <td>9.000000</td>\n",
       "      <td>1.000000</td>\n",
       "      <td>1.000000</td>\n",
       "      <td>700.000000</td>\n",
       "      <td>15.000000</td>\n",
       "      <td>2.000000</td>\n",
       "      <td>2.000000</td>\n",
       "      <td>2.000000</td>\n",
       "      <td>1.000000</td>\n",
       "    </tr>\n",
       "  </tbody>\n",
       "</table>\n",
       "<p>8 rows × 2527 columns</p>\n",
       "</div>"
      ],
      "text/plain": [
       "             AGE_A        AGE_R      agescrn         hisp      hispgrp  \\\n",
       "count  5206.000000  5206.000000  5206.000000  5206.000000  5206.000000   \n",
       "mean     30.559547    30.547445    30.508068     3.950442    -0.368037   \n",
       "std      10.055743    10.012382    10.008250     1.763392     1.088128   \n",
       "min      15.000000    15.000000    15.000000     1.000000    -1.000000   \n",
       "25%      22.000000    22.000000    22.000000     1.000000    -1.000000   \n",
       "50%      30.000000    30.000000    30.000000     5.000000    -1.000000   \n",
       "75%      39.000000    39.000000    39.000000     5.000000     1.000000   \n",
       "max      98.000000    50.000000    49.000000     9.000000     2.000000   \n",
       "\n",
       "         PRIMLANG1    PRIMLANG2    PRIMLANG3       roscnt      marstat  ...  \\\n",
       "count  5206.000000  5206.000000  5206.000000  5206.000000  5206.000000  ...   \n",
       "mean      1.252209    -0.321168    -0.965809     3.115828     4.061468  ...   \n",
       "std       0.991980     1.748830     0.503954     1.566530     2.268370  ...   \n",
       "min       1.000000    -1.000000    -1.000000     1.000000     1.000000  ...   \n",
       "25%       1.000000    -1.000000    -1.000000     2.000000     1.000000  ...   \n",
       "50%       1.000000    -1.000000    -1.000000     3.000000     6.000000  ...   \n",
       "75%       1.000000    -1.000000    -1.000000     4.000000     6.000000  ...   \n",
       "max       7.000000     7.000000     7.000000     8.000000     9.000000  ...   \n",
       "\n",
       "          religion     laborfor   RELIGION_I   LABORFOR_I      poverty  \\\n",
       "count  5206.000000  5206.000000  5206.000000  5206.000000  5206.000000   \n",
       "mean      2.238187     2.587399     0.002689     0.000576   301.770073   \n",
       "std       1.017300     2.423379     0.051793     0.024001   195.397200   \n",
       "min       1.000000     1.000000     0.000000     0.000000    50.000000   \n",
       "25%       1.000000     1.000000     0.000000     0.000000   137.000000   \n",
       "50%       2.000000     1.000000     0.000000     0.000000   266.000000   \n",
       "75%       3.000000     3.000000     0.000000     0.000000   438.000000   \n",
       "max       4.000000     9.000000     1.000000     1.000000   700.000000   \n",
       "\n",
       "           totincr     pubassis    POVERTY_I    TOTINCR_I   PUBASSIS_I  \n",
       "count  5206.000000  5206.000000  5206.000000  5206.000000  5206.000000  \n",
       "mean     10.623703     1.755090     0.110257     0.110257     0.044756  \n",
       "std       3.977599     0.430075     0.314465     0.314465     0.206788  \n",
       "min       1.000000     1.000000     0.000000     0.000000     0.000000  \n",
       "25%       8.000000     2.000000     0.000000     0.000000     0.000000  \n",
       "50%      12.000000     2.000000     0.000000     0.000000     0.000000  \n",
       "75%      14.000000     2.000000     0.000000     0.000000     0.000000  \n",
       "max      15.000000     2.000000     2.000000     2.000000     1.000000  \n",
       "\n",
       "[8 rows x 2527 columns]"
      ]
     },
     "execution_count": 19,
     "metadata": {},
     "output_type": "execute_result"
    }
   ],
   "source": [
    "male_matrix.describe()"
   ]
  },
  {
   "cell_type": "code",
   "execution_count": 20,
   "metadata": {},
   "outputs": [
    {
     "data": {
      "text/html": [
       "<div>\n",
       "<style scoped>\n",
       "    .dataframe tbody tr th:only-of-type {\n",
       "        vertical-align: middle;\n",
       "    }\n",
       "\n",
       "    .dataframe tbody tr th {\n",
       "        vertical-align: top;\n",
       "    }\n",
       "\n",
       "    .dataframe thead th {\n",
       "        text-align: right;\n",
       "    }\n",
       "</style>\n",
       "<table border=\"1\" class=\"dataframe\">\n",
       "  <thead>\n",
       "    <tr style=\"text-align: right;\">\n",
       "      <th></th>\n",
       "      <th>AGE_A</th>\n",
       "      <th>AGE_R</th>\n",
       "      <th>agescrn</th>\n",
       "      <th>hisp</th>\n",
       "      <th>hispgrp</th>\n",
       "      <th>PRIMLANG1</th>\n",
       "      <th>PRIMLANG2</th>\n",
       "      <th>PRIMLANG3</th>\n",
       "      <th>roscnt</th>\n",
       "      <th>numchild</th>\n",
       "      <th>...</th>\n",
       "      <th>laborfor</th>\n",
       "      <th>CURR_INS_I</th>\n",
       "      <th>RELIGION_I</th>\n",
       "      <th>LABORFOR_I</th>\n",
       "      <th>poverty</th>\n",
       "      <th>totincr</th>\n",
       "      <th>pubassis</th>\n",
       "      <th>POVERTY_I</th>\n",
       "      <th>TOTINCR_I</th>\n",
       "      <th>PUBASSIS_I</th>\n",
       "    </tr>\n",
       "  </thead>\n",
       "  <tbody>\n",
       "    <tr>\n",
       "      <th>count</th>\n",
       "      <td>6141.000000</td>\n",
       "      <td>6141.000000</td>\n",
       "      <td>6141.000000</td>\n",
       "      <td>6141.000000</td>\n",
       "      <td>6141.000000</td>\n",
       "      <td>6141.000000</td>\n",
       "      <td>6141.000000</td>\n",
       "      <td>6141.000000</td>\n",
       "      <td>6141.000000</td>\n",
       "      <td>6141.000000</td>\n",
       "      <td>...</td>\n",
       "      <td>6141.000000</td>\n",
       "      <td>6141.000000</td>\n",
       "      <td>6141.000000</td>\n",
       "      <td>6141.000000</td>\n",
       "      <td>6141.000000</td>\n",
       "      <td>6141.000000</td>\n",
       "      <td>6141.000000</td>\n",
       "      <td>6141.000000</td>\n",
       "      <td>6141.000000</td>\n",
       "      <td>6141.000000</td>\n",
       "    </tr>\n",
       "    <tr>\n",
       "      <th>mean</th>\n",
       "      <td>31.147044</td>\n",
       "      <td>31.147044</td>\n",
       "      <td>31.107963</td>\n",
       "      <td>3.886826</td>\n",
       "      <td>-0.328285</td>\n",
       "      <td>1.221299</td>\n",
       "      <td>-0.331705</td>\n",
       "      <td>-0.981762</td>\n",
       "      <td>3.314281</td>\n",
       "      <td>0.738642</td>\n",
       "      <td>...</td>\n",
       "      <td>3.079792</td>\n",
       "      <td>0.015958</td>\n",
       "      <td>0.004234</td>\n",
       "      <td>0.000977</td>\n",
       "      <td>253.542094</td>\n",
       "      <td>9.720567</td>\n",
       "      <td>1.648754</td>\n",
       "      <td>0.095750</td>\n",
       "      <td>0.095750</td>\n",
       "      <td>0.035336</td>\n",
       "    </tr>\n",
       "    <tr>\n",
       "      <th>std</th>\n",
       "      <td>9.749085</td>\n",
       "      <td>9.749085</td>\n",
       "      <td>9.747876</td>\n",
       "      <td>1.794234</td>\n",
       "      <td>1.127403</td>\n",
       "      <td>0.859726</td>\n",
       "      <td>1.675816</td>\n",
       "      <td>0.363201</td>\n",
       "      <td>1.527993</td>\n",
       "      <td>1.042073</td>\n",
       "      <td>...</td>\n",
       "      <td>2.574774</td>\n",
       "      <td>0.125324</td>\n",
       "      <td>0.064935</td>\n",
       "      <td>0.031245</td>\n",
       "      <td>188.307555</td>\n",
       "      <td>4.218203</td>\n",
       "      <td>0.477398</td>\n",
       "      <td>0.294825</td>\n",
       "      <td>0.294825</td>\n",
       "      <td>0.184643</td>\n",
       "    </tr>\n",
       "    <tr>\n",
       "      <th>min</th>\n",
       "      <td>15.000000</td>\n",
       "      <td>15.000000</td>\n",
       "      <td>15.000000</td>\n",
       "      <td>1.000000</td>\n",
       "      <td>-1.000000</td>\n",
       "      <td>1.000000</td>\n",
       "      <td>-1.000000</td>\n",
       "      <td>-1.000000</td>\n",
       "      <td>1.000000</td>\n",
       "      <td>0.000000</td>\n",
       "      <td>...</td>\n",
       "      <td>1.000000</td>\n",
       "      <td>0.000000</td>\n",
       "      <td>0.000000</td>\n",
       "      <td>0.000000</td>\n",
       "      <td>50.000000</td>\n",
       "      <td>1.000000</td>\n",
       "      <td>1.000000</td>\n",
       "      <td>0.000000</td>\n",
       "      <td>0.000000</td>\n",
       "      <td>0.000000</td>\n",
       "    </tr>\n",
       "    <tr>\n",
       "      <th>25%</th>\n",
       "      <td>23.000000</td>\n",
       "      <td>23.000000</td>\n",
       "      <td>23.000000</td>\n",
       "      <td>1.000000</td>\n",
       "      <td>-1.000000</td>\n",
       "      <td>1.000000</td>\n",
       "      <td>-1.000000</td>\n",
       "      <td>-1.000000</td>\n",
       "      <td>2.000000</td>\n",
       "      <td>0.000000</td>\n",
       "      <td>...</td>\n",
       "      <td>1.000000</td>\n",
       "      <td>0.000000</td>\n",
       "      <td>0.000000</td>\n",
       "      <td>0.000000</td>\n",
       "      <td>92.000000</td>\n",
       "      <td>7.000000</td>\n",
       "      <td>1.000000</td>\n",
       "      <td>0.000000</td>\n",
       "      <td>0.000000</td>\n",
       "      <td>0.000000</td>\n",
       "    </tr>\n",
       "    <tr>\n",
       "      <th>50%</th>\n",
       "      <td>31.000000</td>\n",
       "      <td>31.000000</td>\n",
       "      <td>31.000000</td>\n",
       "      <td>5.000000</td>\n",
       "      <td>-1.000000</td>\n",
       "      <td>1.000000</td>\n",
       "      <td>-1.000000</td>\n",
       "      <td>-1.000000</td>\n",
       "      <td>3.000000</td>\n",
       "      <td>0.000000</td>\n",
       "      <td>...</td>\n",
       "      <td>2.000000</td>\n",
       "      <td>0.000000</td>\n",
       "      <td>0.000000</td>\n",
       "      <td>0.000000</td>\n",
       "      <td>197.000000</td>\n",
       "      <td>11.000000</td>\n",
       "      <td>2.000000</td>\n",
       "      <td>0.000000</td>\n",
       "      <td>0.000000</td>\n",
       "      <td>0.000000</td>\n",
       "    </tr>\n",
       "    <tr>\n",
       "      <th>75%</th>\n",
       "      <td>39.000000</td>\n",
       "      <td>39.000000</td>\n",
       "      <td>39.000000</td>\n",
       "      <td>5.000000</td>\n",
       "      <td>1.000000</td>\n",
       "      <td>1.000000</td>\n",
       "      <td>-1.000000</td>\n",
       "      <td>-1.000000</td>\n",
       "      <td>4.000000</td>\n",
       "      <td>1.000000</td>\n",
       "      <td>...</td>\n",
       "      <td>6.000000</td>\n",
       "      <td>0.000000</td>\n",
       "      <td>0.000000</td>\n",
       "      <td>0.000000</td>\n",
       "      <td>353.000000</td>\n",
       "      <td>13.000000</td>\n",
       "      <td>2.000000</td>\n",
       "      <td>0.000000</td>\n",
       "      <td>0.000000</td>\n",
       "      <td>0.000000</td>\n",
       "    </tr>\n",
       "    <tr>\n",
       "      <th>max</th>\n",
       "      <td>50.000000</td>\n",
       "      <td>50.000000</td>\n",
       "      <td>49.000000</td>\n",
       "      <td>9.000000</td>\n",
       "      <td>9.000000</td>\n",
       "      <td>7.000000</td>\n",
       "      <td>7.000000</td>\n",
       "      <td>7.000000</td>\n",
       "      <td>8.000000</td>\n",
       "      <td>4.000000</td>\n",
       "      <td>...</td>\n",
       "      <td>9.000000</td>\n",
       "      <td>1.000000</td>\n",
       "      <td>1.000000</td>\n",
       "      <td>1.000000</td>\n",
       "      <td>700.000000</td>\n",
       "      <td>15.000000</td>\n",
       "      <td>2.000000</td>\n",
       "      <td>2.000000</td>\n",
       "      <td>2.000000</td>\n",
       "      <td>1.000000</td>\n",
       "    </tr>\n",
       "  </tbody>\n",
       "</table>\n",
       "<p>8 rows × 2518 columns</p>\n",
       "</div>"
      ],
      "text/plain": [
       "             AGE_A        AGE_R      agescrn         hisp      hispgrp  \\\n",
       "count  6141.000000  6141.000000  6141.000000  6141.000000  6141.000000   \n",
       "mean     31.147044    31.147044    31.107963     3.886826    -0.328285   \n",
       "std       9.749085     9.749085     9.747876     1.794234     1.127403   \n",
       "min      15.000000    15.000000    15.000000     1.000000    -1.000000   \n",
       "25%      23.000000    23.000000    23.000000     1.000000    -1.000000   \n",
       "50%      31.000000    31.000000    31.000000     5.000000    -1.000000   \n",
       "75%      39.000000    39.000000    39.000000     5.000000     1.000000   \n",
       "max      50.000000    50.000000    49.000000     9.000000     9.000000   \n",
       "\n",
       "         PRIMLANG1    PRIMLANG2    PRIMLANG3       roscnt     numchild  ...  \\\n",
       "count  6141.000000  6141.000000  6141.000000  6141.000000  6141.000000  ...   \n",
       "mean      1.221299    -0.331705    -0.981762     3.314281     0.738642  ...   \n",
       "std       0.859726     1.675816     0.363201     1.527993     1.042073  ...   \n",
       "min       1.000000    -1.000000    -1.000000     1.000000     0.000000  ...   \n",
       "25%       1.000000    -1.000000    -1.000000     2.000000     0.000000  ...   \n",
       "50%       1.000000    -1.000000    -1.000000     3.000000     0.000000  ...   \n",
       "75%       1.000000    -1.000000    -1.000000     4.000000     1.000000  ...   \n",
       "max       7.000000     7.000000     7.000000     8.000000     4.000000  ...   \n",
       "\n",
       "          laborfor   CURR_INS_I   RELIGION_I   LABORFOR_I      poverty  \\\n",
       "count  6141.000000  6141.000000  6141.000000  6141.000000  6141.000000   \n",
       "mean      3.079792     0.015958     0.004234     0.000977   253.542094   \n",
       "std       2.574774     0.125324     0.064935     0.031245   188.307555   \n",
       "min       1.000000     0.000000     0.000000     0.000000    50.000000   \n",
       "25%       1.000000     0.000000     0.000000     0.000000    92.000000   \n",
       "50%       2.000000     0.000000     0.000000     0.000000   197.000000   \n",
       "75%       6.000000     0.000000     0.000000     0.000000   353.000000   \n",
       "max       9.000000     1.000000     1.000000     1.000000   700.000000   \n",
       "\n",
       "           totincr     pubassis    POVERTY_I    TOTINCR_I   PUBASSIS_I  \n",
       "count  6141.000000  6141.000000  6141.000000  6141.000000  6141.000000  \n",
       "mean      9.720567     1.648754     0.095750     0.095750     0.035336  \n",
       "std       4.218203     0.477398     0.294825     0.294825     0.184643  \n",
       "min       1.000000     1.000000     0.000000     0.000000     0.000000  \n",
       "25%       7.000000     1.000000     0.000000     0.000000     0.000000  \n",
       "50%      11.000000     2.000000     0.000000     0.000000     0.000000  \n",
       "75%      13.000000     2.000000     0.000000     0.000000     0.000000  \n",
       "max      15.000000     2.000000     2.000000     2.000000     1.000000  \n",
       "\n",
       "[8 rows x 2518 columns]"
      ]
     },
     "execution_count": 20,
     "metadata": {},
     "output_type": "execute_result"
    }
   ],
   "source": [
    "female_matrix.describe()"
   ]
  },
  {
   "cell_type": "code",
   "execution_count": 21,
   "metadata": {},
   "outputs": [
    {
     "data": {
      "text/html": [
       "<div>\n",
       "<style scoped>\n",
       "    .dataframe tbody tr th:only-of-type {\n",
       "        vertical-align: middle;\n",
       "    }\n",
       "\n",
       "    .dataframe tbody tr th {\n",
       "        vertical-align: top;\n",
       "    }\n",
       "\n",
       "    .dataframe thead th {\n",
       "        text-align: right;\n",
       "    }\n",
       "</style>\n",
       "<table border=\"1\" class=\"dataframe\">\n",
       "  <thead>\n",
       "    <tr style=\"text-align: right;\">\n",
       "      <th></th>\n",
       "      <th>pregordr</th>\n",
       "      <th>moscurrp</th>\n",
       "      <th>PREGEND1</th>\n",
       "      <th>PREGEND2</th>\n",
       "      <th>hpageend</th>\n",
       "      <th>kidage</th>\n",
       "      <th>hpagelb</th>\n",
       "      <th>PAYBIRTH1</th>\n",
       "      <th>PAYBIRTH2</th>\n",
       "      <th>PAYBIRTH3</th>\n",
       "      <th>...</th>\n",
       "      <th>HISPANIC_I</th>\n",
       "      <th>HISPRACE2_I</th>\n",
       "      <th>RCURPREG_I</th>\n",
       "      <th>PREGNUM_I</th>\n",
       "      <th>PARITY_I</th>\n",
       "      <th>CURR_INS_I</th>\n",
       "      <th>PUBASSIS_I</th>\n",
       "      <th>POVERTY_I</th>\n",
       "      <th>LABORFOR_I</th>\n",
       "      <th>RELIGION_I</th>\n",
       "    </tr>\n",
       "  </thead>\n",
       "  <tbody>\n",
       "    <tr>\n",
       "      <th>count</th>\n",
       "      <td>10215.000000</td>\n",
       "      <td>10215.000000</td>\n",
       "      <td>10215.000000</td>\n",
       "      <td>10215.000000</td>\n",
       "      <td>10215.000000</td>\n",
       "      <td>10215.000000</td>\n",
       "      <td>10215.000000</td>\n",
       "      <td>10215.000000</td>\n",
       "      <td>10215.000000</td>\n",
       "      <td>10215.000000</td>\n",
       "      <td>...</td>\n",
       "      <td>10215.000000</td>\n",
       "      <td>10215.000000</td>\n",
       "      <td>10215.0</td>\n",
       "      <td>10215.0</td>\n",
       "      <td>10215.000000</td>\n",
       "      <td>10215.000000</td>\n",
       "      <td>10215.000000</td>\n",
       "      <td>10215.000000</td>\n",
       "      <td>10215.000000</td>\n",
       "      <td>10215.000000</td>\n",
       "    </tr>\n",
       "    <tr>\n",
       "      <th>mean</th>\n",
       "      <td>2.388155</td>\n",
       "      <td>-0.691238</td>\n",
       "      <td>4.516887</td>\n",
       "      <td>-0.993245</td>\n",
       "      <td>0.998727</td>\n",
       "      <td>3.627019</td>\n",
       "      <td>3.318453</td>\n",
       "      <td>-0.381008</td>\n",
       "      <td>-0.833970</td>\n",
       "      <td>-0.995007</td>\n",
       "      <td>...</td>\n",
       "      <td>0.000979</td>\n",
       "      <td>0.000979</td>\n",
       "      <td>0.0</td>\n",
       "      <td>0.0</td>\n",
       "      <td>0.002545</td>\n",
       "      <td>0.002545</td>\n",
       "      <td>0.027019</td>\n",
       "      <td>0.062849</td>\n",
       "      <td>0.000489</td>\n",
       "      <td>0.004209</td>\n",
       "    </tr>\n",
       "    <tr>\n",
       "      <th>std</th>\n",
       "      <td>1.612681</td>\n",
       "      <td>1.430875</td>\n",
       "      <td>2.006277</td>\n",
       "      <td>0.197034</td>\n",
       "      <td>9.591719</td>\n",
       "      <td>3.557177</td>\n",
       "      <td>11.562445</td>\n",
       "      <td>1.335127</td>\n",
       "      <td>0.718194</td>\n",
       "      <td>0.147010</td>\n",
       "      <td>...</td>\n",
       "      <td>0.044240</td>\n",
       "      <td>0.044240</td>\n",
       "      <td>0.0</td>\n",
       "      <td>0.0</td>\n",
       "      <td>0.071306</td>\n",
       "      <td>0.050389</td>\n",
       "      <td>0.162147</td>\n",
       "      <td>0.243910</td>\n",
       "      <td>0.022120</td>\n",
       "      <td>0.064747</td>\n",
       "    </tr>\n",
       "    <tr>\n",
       "      <th>min</th>\n",
       "      <td>1.000000</td>\n",
       "      <td>-1.000000</td>\n",
       "      <td>-1.000000</td>\n",
       "      <td>-1.000000</td>\n",
       "      <td>-1.000000</td>\n",
       "      <td>-1.000000</td>\n",
       "      <td>-1.000000</td>\n",
       "      <td>-1.000000</td>\n",
       "      <td>-1.000000</td>\n",
       "      <td>-1.000000</td>\n",
       "      <td>...</td>\n",
       "      <td>0.000000</td>\n",
       "      <td>0.000000</td>\n",
       "      <td>0.0</td>\n",
       "      <td>0.0</td>\n",
       "      <td>0.000000</td>\n",
       "      <td>0.000000</td>\n",
       "      <td>0.000000</td>\n",
       "      <td>0.000000</td>\n",
       "      <td>0.000000</td>\n",
       "      <td>0.000000</td>\n",
       "    </tr>\n",
       "    <tr>\n",
       "      <th>25%</th>\n",
       "      <td>1.000000</td>\n",
       "      <td>-1.000000</td>\n",
       "      <td>3.000000</td>\n",
       "      <td>-1.000000</td>\n",
       "      <td>-1.000000</td>\n",
       "      <td>-1.000000</td>\n",
       "      <td>-1.000000</td>\n",
       "      <td>-1.000000</td>\n",
       "      <td>-1.000000</td>\n",
       "      <td>-1.000000</td>\n",
       "      <td>...</td>\n",
       "      <td>0.000000</td>\n",
       "      <td>0.000000</td>\n",
       "      <td>0.0</td>\n",
       "      <td>0.0</td>\n",
       "      <td>0.000000</td>\n",
       "      <td>0.000000</td>\n",
       "      <td>0.000000</td>\n",
       "      <td>0.000000</td>\n",
       "      <td>0.000000</td>\n",
       "      <td>0.000000</td>\n",
       "    </tr>\n",
       "    <tr>\n",
       "      <th>50%</th>\n",
       "      <td>2.000000</td>\n",
       "      <td>-1.000000</td>\n",
       "      <td>6.000000</td>\n",
       "      <td>-1.000000</td>\n",
       "      <td>-1.000000</td>\n",
       "      <td>5.000000</td>\n",
       "      <td>2.000000</td>\n",
       "      <td>-1.000000</td>\n",
       "      <td>-1.000000</td>\n",
       "      <td>-1.000000</td>\n",
       "      <td>...</td>\n",
       "      <td>0.000000</td>\n",
       "      <td>0.000000</td>\n",
       "      <td>0.0</td>\n",
       "      <td>0.0</td>\n",
       "      <td>0.000000</td>\n",
       "      <td>0.000000</td>\n",
       "      <td>0.000000</td>\n",
       "      <td>0.000000</td>\n",
       "      <td>0.000000</td>\n",
       "      <td>0.000000</td>\n",
       "    </tr>\n",
       "    <tr>\n",
       "      <th>75%</th>\n",
       "      <td>3.000000</td>\n",
       "      <td>-1.000000</td>\n",
       "      <td>6.000000</td>\n",
       "      <td>-1.000000</td>\n",
       "      <td>1.000000</td>\n",
       "      <td>7.000000</td>\n",
       "      <td>4.000000</td>\n",
       "      <td>-1.000000</td>\n",
       "      <td>-1.000000</td>\n",
       "      <td>-1.000000</td>\n",
       "      <td>...</td>\n",
       "      <td>0.000000</td>\n",
       "      <td>0.000000</td>\n",
       "      <td>0.0</td>\n",
       "      <td>0.0</td>\n",
       "      <td>0.000000</td>\n",
       "      <td>0.000000</td>\n",
       "      <td>0.000000</td>\n",
       "      <td>0.000000</td>\n",
       "      <td>0.000000</td>\n",
       "      <td>0.000000</td>\n",
       "    </tr>\n",
       "    <tr>\n",
       "      <th>max</th>\n",
       "      <td>14.000000</td>\n",
       "      <td>9.000000</td>\n",
       "      <td>9.000000</td>\n",
       "      <td>6.000000</td>\n",
       "      <td>99.000000</td>\n",
       "      <td>8.000000</td>\n",
       "      <td>99.000000</td>\n",
       "      <td>9.000000</td>\n",
       "      <td>5.000000</td>\n",
       "      <td>5.000000</td>\n",
       "      <td>...</td>\n",
       "      <td>2.000000</td>\n",
       "      <td>2.000000</td>\n",
       "      <td>0.0</td>\n",
       "      <td>0.0</td>\n",
       "      <td>2.000000</td>\n",
       "      <td>1.000000</td>\n",
       "      <td>1.000000</td>\n",
       "      <td>2.000000</td>\n",
       "      <td>1.000000</td>\n",
       "      <td>1.000000</td>\n",
       "    </tr>\n",
       "  </tbody>\n",
       "</table>\n",
       "<p>8 rows × 159 columns</p>\n",
       "</div>"
      ],
      "text/plain": [
       "           pregordr      moscurrp      PREGEND1      PREGEND2      hpageend  \\\n",
       "count  10215.000000  10215.000000  10215.000000  10215.000000  10215.000000   \n",
       "mean       2.388155     -0.691238      4.516887     -0.993245      0.998727   \n",
       "std        1.612681      1.430875      2.006277      0.197034      9.591719   \n",
       "min        1.000000     -1.000000     -1.000000     -1.000000     -1.000000   \n",
       "25%        1.000000     -1.000000      3.000000     -1.000000     -1.000000   \n",
       "50%        2.000000     -1.000000      6.000000     -1.000000     -1.000000   \n",
       "75%        3.000000     -1.000000      6.000000     -1.000000      1.000000   \n",
       "max       14.000000      9.000000      9.000000      6.000000     99.000000   \n",
       "\n",
       "             kidage       hpagelb     PAYBIRTH1     PAYBIRTH2     PAYBIRTH3  \\\n",
       "count  10215.000000  10215.000000  10215.000000  10215.000000  10215.000000   \n",
       "mean       3.627019      3.318453     -0.381008     -0.833970     -0.995007   \n",
       "std        3.557177     11.562445      1.335127      0.718194      0.147010   \n",
       "min       -1.000000     -1.000000     -1.000000     -1.000000     -1.000000   \n",
       "25%       -1.000000     -1.000000     -1.000000     -1.000000     -1.000000   \n",
       "50%        5.000000      2.000000     -1.000000     -1.000000     -1.000000   \n",
       "75%        7.000000      4.000000     -1.000000     -1.000000     -1.000000   \n",
       "max        8.000000     99.000000      9.000000      5.000000      5.000000   \n",
       "\n",
       "       ...    HISPANIC_I   HISPRACE2_I  RCURPREG_I  PREGNUM_I      PARITY_I  \\\n",
       "count  ...  10215.000000  10215.000000     10215.0    10215.0  10215.000000   \n",
       "mean   ...      0.000979      0.000979         0.0        0.0      0.002545   \n",
       "std    ...      0.044240      0.044240         0.0        0.0      0.071306   \n",
       "min    ...      0.000000      0.000000         0.0        0.0      0.000000   \n",
       "25%    ...      0.000000      0.000000         0.0        0.0      0.000000   \n",
       "50%    ...      0.000000      0.000000         0.0        0.0      0.000000   \n",
       "75%    ...      0.000000      0.000000         0.0        0.0      0.000000   \n",
       "max    ...      2.000000      2.000000         0.0        0.0      2.000000   \n",
       "\n",
       "         CURR_INS_I    PUBASSIS_I     POVERTY_I    LABORFOR_I    RELIGION_I  \n",
       "count  10215.000000  10215.000000  10215.000000  10215.000000  10215.000000  \n",
       "mean       0.002545      0.027019      0.062849      0.000489      0.004209  \n",
       "std        0.050389      0.162147      0.243910      0.022120      0.064747  \n",
       "min        0.000000      0.000000      0.000000      0.000000      0.000000  \n",
       "25%        0.000000      0.000000      0.000000      0.000000      0.000000  \n",
       "50%        0.000000      0.000000      0.000000      0.000000      0.000000  \n",
       "75%        0.000000      0.000000      0.000000      0.000000      0.000000  \n",
       "max        1.000000      1.000000      2.000000      1.000000      1.000000  \n",
       "\n",
       "[8 rows x 159 columns]"
      ]
     },
     "execution_count": 21,
     "metadata": {},
     "output_type": "execute_result"
    }
   ],
   "source": [
    "preg_matrix.describe()"
   ]
  },
  {
   "cell_type": "code",
   "execution_count": 22,
   "metadata": {},
   "outputs": [
    {
     "data": {
      "text/plain": [
       "(5206, 2527)"
      ]
     },
     "execution_count": 22,
     "metadata": {},
     "output_type": "execute_result"
    }
   ],
   "source": [
    "male_matrix.shape"
   ]
  },
  {
   "cell_type": "code",
   "execution_count": 23,
   "metadata": {},
   "outputs": [
    {
     "data": {
      "text/plain": [
       "(6141, 2518)"
      ]
     },
     "execution_count": 23,
     "metadata": {},
     "output_type": "execute_result"
    }
   ],
   "source": [
    "female_matrix.shape"
   ]
  },
  {
   "cell_type": "code",
   "execution_count": 24,
   "metadata": {},
   "outputs": [
    {
     "data": {
      "text/plain": [
       "(10215, 159)"
      ]
     },
     "execution_count": 24,
     "metadata": {},
     "output_type": "execute_result"
    }
   ],
   "source": [
    "preg_matrix.shape"
   ]
  },
  {
   "cell_type": "code",
   "execution_count": 25,
   "metadata": {},
   "outputs": [
    {
     "data": {
      "text/plain": [
       "6    2828\n",
       "1    1465\n",
       "2     525\n",
       "4     264\n",
       "5     110\n",
       "3      14\n",
       "Name: rmarital, dtype: int64"
      ]
     },
     "execution_count": 25,
     "metadata": {},
     "output_type": "execute_result"
    }
   ],
   "source": [
    "male_matrix['rmarital'].value_counts()"
   ]
  },
  {
   "cell_type": "code",
   "execution_count": 26,
   "metadata": {},
   "outputs": [
    {
     "data": {
      "text/plain": [
       "6    2831\n",
       "1    1913\n",
       "2     754\n",
       "4     410\n",
       "5     200\n",
       "3      33\n",
       "Name: rmarital, dtype: int64"
      ]
     },
     "execution_count": 26,
     "metadata": {},
     "output_type": "execute_result"
    }
   ],
   "source": [
    "female_matrix['rmarital'].value_counts()"
   ]
  },
  {
   "cell_type": "code",
   "execution_count": 27,
   "metadata": {},
   "outputs": [
    {
     "data": {
      "text/plain": [
       "1    4499\n",
       "6    2338\n",
       "2    1594\n",
       "4    1066\n",
       "5     640\n",
       "3      78\n",
       "Name: rmarital, dtype: int64"
      ]
     },
     "execution_count": 27,
     "metadata": {},
     "output_type": "execute_result"
    }
   ],
   "source": [
    "preg_matrix['rmarital'].value_counts()"
   ]
  },
  {
   "cell_type": "code",
   "execution_count": 28,
   "metadata": {},
   "outputs": [],
   "source": [
    "def balance_data(data, label):\n",
    "    freq = data[label].value_counts()\n",
    "    max = freq.iloc[0]\n",
    "    ind = freq.index\n",
    "    \n",
    "    for i in ind:\n",
    "        \n",
    "        eee = resample(data[data[label] == i], n_samples=max,random_state=60,replace=True)\n",
    "        \n",
    "        data = data[data[label] != i]\n",
    "        \n",
    "        data = pd.concat([data, eee], ignore_index=True)\n",
    "        \n",
    "        \n",
    "    return data"
   ]
  },
  {
   "cell_type": "code",
   "execution_count": 29,
   "metadata": {},
   "outputs": [],
   "source": [
    "male_matrix = balance_data(male_matrix, 'rmarital')\n",
    "female_matrix = balance_data(female_matrix, 'rmarital')\n",
    "preg_matrix = balance_data(female_matrix, 'rmarital')"
   ]
  },
  {
   "cell_type": "markdown",
   "metadata": {},
   "source": [
    "Fix the unbalanced features with SMOTE. "
   ]
  },
  {
   "cell_type": "markdown",
   "metadata": {},
   "source": [
    "Show the summary of the dataset. "
   ]
  },
  {
   "cell_type": "code",
   "execution_count": 30,
   "metadata": {},
   "outputs": [],
   "source": [
    "male_y = male_matrix['rmarital']\n",
    "male_matrix = male_matrix.drop(columns='rmarital')"
   ]
  },
  {
   "cell_type": "code",
   "execution_count": 31,
   "metadata": {},
   "outputs": [],
   "source": [
    "female_y = female_matrix['rmarital']\n",
    "female_matrix = female_matrix.drop(columns='rmarital')\n"
   ]
  },
  {
   "cell_type": "code",
   "execution_count": 32,
   "metadata": {},
   "outputs": [],
   "source": [
    "preg_y = preg_matrix['rmarital']\n",
    "preg_matrix = preg_matrix.drop(columns='rmarital')\n"
   ]
  },
  {
   "cell_type": "markdown",
   "metadata": {},
   "source": [
    "Use rmarital column as the y label. "
   ]
  },
  {
   "cell_type": "code",
   "execution_count": 33,
   "metadata": {},
   "outputs": [],
   "source": [
    "male_train, male_test, male_label_train, male_label_test = skms.train_test_split(male_matrix, male_y, random_state=60,test_size=0.2,shuffle=True)\n",
    "\n",
    "female_train, female_test, female_label_train, female_label_test = skms.train_test_split(female_matrix, female_y, random_state=60,test_size=0.2,shuffle=True)\n",
    "\n",
    "preg_train, preg_test, preg_label_train, preg_label_test = skms.train_test_split(preg_matrix, preg_y, random_state=60,test_size=0.2,shuffle=True)"
   ]
  },
  {
   "cell_type": "markdown",
   "metadata": {},
   "source": [
    "Split test and train set. "
   ]
  },
  {
   "cell_type": "code",
   "execution_count": 34,
   "metadata": {},
   "outputs": [],
   "source": [
    "sc1 = preprocessing.StandardScaler()\n",
    "male_train_scaled = sc1.fit_transform(male_train)\n",
    "male_test_scaled = sc1.fit_transform(male_test)\n"
   ]
  },
  {
   "cell_type": "code",
   "execution_count": 35,
   "metadata": {},
   "outputs": [],
   "source": [
    "female_train_scaled = sc1.fit_transform(female_train)\n",
    "female_test_scaled = sc1.fit_transform(female_test)\n"
   ]
  },
  {
   "cell_type": "code",
   "execution_count": 36,
   "metadata": {},
   "outputs": [],
   "source": [
    "preg_train_scaled = sc1.fit_transform(preg_train)\n",
    "preg_test_scaled = sc1.fit_transform(preg_test)"
   ]
  },
  {
   "cell_type": "markdown",
   "metadata": {},
   "source": [
    "Normalize the data."
   ]
  },
  {
   "cell_type": "code",
   "execution_count": 37,
   "metadata": {},
   "outputs": [],
   "source": [
    "c1 = male_matrix['AGE_R'] > 27\n",
    "c2 = male_matrix['hisp'] == 5\n",
    "c3 = male_matrix['AGE_R'] < 30\n",
    "\n",
    "c4 = male_matrix['dipged'] == 3\n",
    "c5 = male_matrix['compgrd'] == 1\n",
    "c6 = male_matrix['EARNHS_Y'] == 2015\n",
    "\n",
    "c7 = male_matrix['havedeg'] == 1\n",
    "c8 = male_matrix['degrees'] > 1\n",
    "c9 = male_matrix['EARNBA_Y'] == 2025\n",
    "\n",
    "c10 = male_matrix['EVCOHAB1'] == 5\n",
    "c11 = male_matrix['numcohab'] == 0\n",
    "c12 = male_matrix['eversex'] == 5\n",
    "\n",
    "c13 = male_matrix['rhadsex'] == 2\n",
    "c14 = male_matrix['ynosex'] == 4\n",
    "\n",
    "try_me = male_matrix.loc[c1 & c2 & c8 & c12]\n",
    "\n",
    "mos = try_me.mode().copy().iloc[0]"
   ]
  },
  {
   "cell_type": "code",
   "execution_count": 38,
   "metadata": {},
   "outputs": [],
   "source": [
    "mos['AGE_A'] = 27\n",
    "mos['AGE_R'] = 27\n",
    "mos['agescrn'] = 27\n",
    "\n",
    "mos['hisp'] = 5\n",
    "mos['higrade'] = 15\n",
    "\n",
    "mos['dipged'] = 3\n",
    "mos['compgrd'] = 1\n",
    "mos['EARNHS_Y'] = 2015\n",
    "\n",
    "mos['havedeg'] = 1\n",
    "mos['degrees'] = 2\n",
    "mos['EARNBA_Y'] = 2025\n",
    "\n",
    "mos['EVCOHAB1'] = 5\n",
    "mos['numcohab'] = 0\n",
    "mos['eversex'] = 5\n",
    "\n",
    "mos['rhadsex'] = 2\n",
    "mos['ynosex'] = 4"
   ]
  },
  {
   "cell_type": "code",
   "execution_count": 39,
   "metadata": {
    "scrolled": true
   },
   "outputs": [],
   "source": [
    "sss = sc1.fit_transform(pd.concat([mos, mos.copy()],ignore_index=True, axis=1)).T"
   ]
  },
  {
   "cell_type": "markdown",
   "metadata": {},
   "source": [
    "Generate a sample record to try once. "
   ]
  },
  {
   "cell_type": "markdown",
   "metadata": {},
   "source": [
    "### KNN"
   ]
  },
  {
   "cell_type": "code",
   "execution_count": 40,
   "metadata": {},
   "outputs": [],
   "source": [
    "def find_k_knn(k_max:int, interval:int, matrix_train, label_train, matrix_test, label_test):\n",
    "    t_acc = 0\n",
    "    k_best = 1\n",
    "    for s in range(1,k_max,interval):\n",
    "        nei = KNeighborsClassifier(n_neighbors=s)\n",
    "        nei.fit(matrix_train, label_train)\n",
    "        \n",
    "        test_res = nei.score(matrix_test, label_test)\n",
    "        if t_acc < test_res:\n",
    "            t_acc = test_res\n",
    "            k_best = s\n",
    "    print('Best k:',k_best)\n",
    "    print('accuracy: ', t_acc)\n",
    "        \n",
    "    "
   ]
  },
  {
   "cell_type": "markdown",
   "metadata": {},
   "source": [
    "The function that find the best k. "
   ]
  },
  {
   "cell_type": "markdown",
   "metadata": {},
   "source": [
    "Male"
   ]
  },
  {
   "cell_type": "code",
   "execution_count": 41,
   "metadata": {},
   "outputs": [
    {
     "name": "stdout",
     "output_type": "stream",
     "text": [
      "Best k: 1\n",
      "accuracy:  0.9890984089569829\n"
     ]
    }
   ],
   "source": [
    "find_k_knn(20,1, male_train_scaled, male_label_train, male_test_scaled, male_label_test)"
   ]
  },
  {
   "cell_type": "markdown",
   "metadata": {},
   "source": [
    "Find the best K. "
   ]
  },
  {
   "cell_type": "code",
   "execution_count": 42,
   "metadata": {},
   "outputs": [],
   "source": [
    "neigh = KNeighborsClassifier(n_neighbors=1)"
   ]
  },
  {
   "cell_type": "markdown",
   "metadata": {},
   "source": [
    "Initialize the KNN. "
   ]
  },
  {
   "cell_type": "code",
   "execution_count": 43,
   "metadata": {},
   "outputs": [
    {
     "data": {
      "text/html": [
       "<style>#sk-container-id-1 {color: black;background-color: white;}#sk-container-id-1 pre{padding: 0;}#sk-container-id-1 div.sk-toggleable {background-color: white;}#sk-container-id-1 label.sk-toggleable__label {cursor: pointer;display: block;width: 100%;margin-bottom: 0;padding: 0.3em;box-sizing: border-box;text-align: center;}#sk-container-id-1 label.sk-toggleable__label-arrow:before {content: \"▸\";float: left;margin-right: 0.25em;color: #696969;}#sk-container-id-1 label.sk-toggleable__label-arrow:hover:before {color: black;}#sk-container-id-1 div.sk-estimator:hover label.sk-toggleable__label-arrow:before {color: black;}#sk-container-id-1 div.sk-toggleable__content {max-height: 0;max-width: 0;overflow: hidden;text-align: left;background-color: #f0f8ff;}#sk-container-id-1 div.sk-toggleable__content pre {margin: 0.2em;color: black;border-radius: 0.25em;background-color: #f0f8ff;}#sk-container-id-1 input.sk-toggleable__control:checked~div.sk-toggleable__content {max-height: 200px;max-width: 100%;overflow: auto;}#sk-container-id-1 input.sk-toggleable__control:checked~label.sk-toggleable__label-arrow:before {content: \"▾\";}#sk-container-id-1 div.sk-estimator input.sk-toggleable__control:checked~label.sk-toggleable__label {background-color: #d4ebff;}#sk-container-id-1 div.sk-label input.sk-toggleable__control:checked~label.sk-toggleable__label {background-color: #d4ebff;}#sk-container-id-1 input.sk-hidden--visually {border: 0;clip: rect(1px 1px 1px 1px);clip: rect(1px, 1px, 1px, 1px);height: 1px;margin: -1px;overflow: hidden;padding: 0;position: absolute;width: 1px;}#sk-container-id-1 div.sk-estimator {font-family: monospace;background-color: #f0f8ff;border: 1px dotted black;border-radius: 0.25em;box-sizing: border-box;margin-bottom: 0.5em;}#sk-container-id-1 div.sk-estimator:hover {background-color: #d4ebff;}#sk-container-id-1 div.sk-parallel-item::after {content: \"\";width: 100%;border-bottom: 1px solid gray;flex-grow: 1;}#sk-container-id-1 div.sk-label:hover label.sk-toggleable__label {background-color: #d4ebff;}#sk-container-id-1 div.sk-serial::before {content: \"\";position: absolute;border-left: 1px solid gray;box-sizing: border-box;top: 0;bottom: 0;left: 50%;z-index: 0;}#sk-container-id-1 div.sk-serial {display: flex;flex-direction: column;align-items: center;background-color: white;padding-right: 0.2em;padding-left: 0.2em;position: relative;}#sk-container-id-1 div.sk-item {position: relative;z-index: 1;}#sk-container-id-1 div.sk-parallel {display: flex;align-items: stretch;justify-content: center;background-color: white;position: relative;}#sk-container-id-1 div.sk-item::before, #sk-container-id-1 div.sk-parallel-item::before {content: \"\";position: absolute;border-left: 1px solid gray;box-sizing: border-box;top: 0;bottom: 0;left: 50%;z-index: -1;}#sk-container-id-1 div.sk-parallel-item {display: flex;flex-direction: column;z-index: 1;position: relative;background-color: white;}#sk-container-id-1 div.sk-parallel-item:first-child::after {align-self: flex-end;width: 50%;}#sk-container-id-1 div.sk-parallel-item:last-child::after {align-self: flex-start;width: 50%;}#sk-container-id-1 div.sk-parallel-item:only-child::after {width: 0;}#sk-container-id-1 div.sk-dashed-wrapped {border: 1px dashed gray;margin: 0 0.4em 0.5em 0.4em;box-sizing: border-box;padding-bottom: 0.4em;background-color: white;}#sk-container-id-1 div.sk-label label {font-family: monospace;font-weight: bold;display: inline-block;line-height: 1.2em;}#sk-container-id-1 div.sk-label-container {text-align: center;}#sk-container-id-1 div.sk-container {/* jupyter's `normalize.less` sets `[hidden] { display: none; }` but bootstrap.min.css set `[hidden] { display: none !important; }` so we also need the `!important` here to be able to override the default hidden behavior on the sphinx rendered scikit-learn.org. See: https://github.com/scikit-learn/scikit-learn/issues/21755 */display: inline-block !important;position: relative;}#sk-container-id-1 div.sk-text-repr-fallback {display: none;}</style><div id=\"sk-container-id-1\" class=\"sk-top-container\"><div class=\"sk-text-repr-fallback\"><pre>KNeighborsClassifier(n_neighbors=1)</pre><b>In a Jupyter environment, please rerun this cell to show the HTML representation or trust the notebook. <br />On GitHub, the HTML representation is unable to render, please try loading this page with nbviewer.org.</b></div><div class=\"sk-container\" hidden><div class=\"sk-item\"><div class=\"sk-estimator sk-toggleable\"><input class=\"sk-toggleable__control sk-hidden--visually\" id=\"sk-estimator-id-1\" type=\"checkbox\" checked><label for=\"sk-estimator-id-1\" class=\"sk-toggleable__label sk-toggleable__label-arrow\">KNeighborsClassifier</label><div class=\"sk-toggleable__content\"><pre>KNeighborsClassifier(n_neighbors=1)</pre></div></div></div></div></div>"
      ],
      "text/plain": [
       "KNeighborsClassifier(n_neighbors=1)"
      ]
     },
     "execution_count": 43,
     "metadata": {},
     "output_type": "execute_result"
    }
   ],
   "source": [
    "neigh.fit(male_train_scaled, male_label_train)\n"
   ]
  },
  {
   "cell_type": "markdown",
   "metadata": {},
   "source": [
    "Import the training set."
   ]
  },
  {
   "cell_type": "code",
   "execution_count": 44,
   "metadata": {
    "scrolled": false
   },
   "outputs": [
    {
     "data": {
      "text/plain": [
       "0.9890984089569829"
      ]
     },
     "execution_count": 44,
     "metadata": {},
     "output_type": "execute_result"
    }
   ],
   "source": [
    "y_test_knn = neigh.predict(male_test_scaled)\n",
    "neigh.score(male_test_scaled, male_label_test)"
   ]
  },
  {
   "cell_type": "markdown",
   "metadata": {},
   "source": [
    "Test the model, get accuracy. "
   ]
  },
  {
   "cell_type": "code",
   "execution_count": 45,
   "metadata": {},
   "outputs": [
    {
     "data": {
      "image/png": "[encoded data removed]",
      "text/plain": [
       "<Figure size 640x480 with 2 Axes>"
      ]
     },
     "metadata": {},
     "output_type": "display_data"
    }
   ],
   "source": [
    "cm_knn = skme.confusion_matrix(male_label_test,y_test_knn)\n",
    "\n",
    "sns.heatmap(cm_knn,annot=True,fmt='g',xticklabels=[1,2,3,4,5,6],yticklabels=[0,1,2,3,4,5,6])\n",
    "plt.ylabel('Prediction',fontsize=13)\n",
    "plt.xlabel('Actual',fontsize=13)\n",
    "plt.title('Confusion Matrix',fontsize=17)\n",
    "plt.show()"
   ]
  },
  {
   "cell_type": "markdown",
   "metadata": {},
   "source": [
    "Confusion matrix"
   ]
  },
  {
   "cell_type": "code",
   "execution_count": 46,
   "metadata": {},
   "outputs": [
    {
     "data": {
      "text/plain": [
       "array([0.96576577, 0.99108734, 1.        , 1.        , 1.        ,\n",
       "       0.97807757])"
      ]
     },
     "execution_count": 46,
     "metadata": {},
     "output_type": "execute_result"
    }
   ],
   "source": [
    "skme.recall_score(male_label_test,y_test_knn, average=None)"
   ]
  },
  {
   "cell_type": "markdown",
   "metadata": {},
   "source": [
    "Sensitivity"
   ]
  },
  {
   "cell_type": "code",
   "execution_count": 47,
   "metadata": {},
   "outputs": [
    {
     "data": {
      "text/plain": [
       "0.965405379583207"
      ]
     },
     "execution_count": 47,
     "metadata": {},
     "output_type": "execute_result"
    }
   ],
   "source": [
    "skme.homogeneity_score(male_label_test,y_test_knn)"
   ]
  },
  {
   "cell_type": "markdown",
   "metadata": {},
   "source": [
    "Homogeneity score"
   ]
  },
  {
   "cell_type": "code",
   "execution_count": 48,
   "metadata": {},
   "outputs": [
    {
     "data": {
      "text/plain": [
       "0.9654114054204003"
      ]
     },
     "execution_count": 48,
     "metadata": {},
     "output_type": "execute_result"
    }
   ],
   "source": [
    "skme.completeness_score(male_label_test,y_test_knn)"
   ]
  },
  {
   "cell_type": "markdown",
   "metadata": {},
   "source": [
    "Completeness score"
   ]
  },
  {
   "cell_type": "code",
   "execution_count": 49,
   "metadata": {},
   "outputs": [
    {
     "data": {
      "text/plain": [
       "array([0.99075786, 0.97202797, 1.        , 0.98239437, 0.99131944,\n",
       "       0.99827883])"
      ]
     },
     "execution_count": 49,
     "metadata": {},
     "output_type": "execute_result"
    }
   ],
   "source": [
    "skme.precision_score(male_label_test,y_test_knn,average=None)"
   ]
  },
  {
   "cell_type": "markdown",
   "metadata": {},
   "source": [
    "Precision"
   ]
  },
  {
   "cell_type": "code",
   "execution_count": 50,
   "metadata": {
    "scrolled": true
   },
   "outputs": [
    {
     "data": {
      "text/plain": [
       "array([0.97810219, 0.98146514, 1.        , 0.99111901, 0.9956408 ,\n",
       "       0.98807496])"
      ]
     },
     "execution_count": 50,
     "metadata": {},
     "output_type": "execute_result"
    }
   ],
   "source": [
    "skme.f1_score(male_label_test,y_test_knn, average=None)"
   ]
  },
  {
   "cell_type": "code",
   "execution_count": 51,
   "metadata": {},
   "outputs": [
    {
     "data": {
      "text/plain": [
       "array([6, 6])"
      ]
     },
     "execution_count": 51,
     "metadata": {},
     "output_type": "execute_result"
    }
   ],
   "source": [
    "neigh.predict(sss)"
   ]
  },
  {
   "cell_type": "markdown",
   "metadata": {},
   "source": [
    "F1-score"
   ]
  },
  {
   "cell_type": "markdown",
   "metadata": {},
   "source": [
    "Female"
   ]
  },
  {
   "cell_type": "code",
   "execution_count": 52,
   "metadata": {},
   "outputs": [
    {
     "name": "stdout",
     "output_type": "stream",
     "text": [
      "Best k: 1\n",
      "accuracy:  0.9841082989994114\n"
     ]
    }
   ],
   "source": [
    "find_k_knn(30,1, female_train_scaled, female_label_train, female_test_scaled, female_label_test)"
   ]
  },
  {
   "cell_type": "markdown",
   "metadata": {},
   "source": [
    "Find the optimal k."
   ]
  },
  {
   "cell_type": "code",
   "execution_count": 53,
   "metadata": {},
   "outputs": [],
   "source": [
    "neigh_fem = KNeighborsClassifier(n_neighbors=1)"
   ]
  },
  {
   "cell_type": "markdown",
   "metadata": {},
   "source": [
    "Initialize the KNN. "
   ]
  },
  {
   "cell_type": "code",
   "execution_count": 54,
   "metadata": {},
   "outputs": [
    {
     "data": {
      "text/html": [
       "<style>#sk-container-id-2 {color: black;background-color: white;}#sk-container-id-2 pre{padding: 0;}#sk-container-id-2 div.sk-toggleable {background-color: white;}#sk-container-id-2 label.sk-toggleable__label {cursor: pointer;display: block;width: 100%;margin-bottom: 0;padding: 0.3em;box-sizing: border-box;text-align: center;}#sk-container-id-2 label.sk-toggleable__label-arrow:before {content: \"▸\";float: left;margin-right: 0.25em;color: #696969;}#sk-container-id-2 label.sk-toggleable__label-arrow:hover:before {color: black;}#sk-container-id-2 div.sk-estimator:hover label.sk-toggleable__label-arrow:before {color: black;}#sk-container-id-2 div.sk-toggleable__content {max-height: 0;max-width: 0;overflow: hidden;text-align: left;background-color: #f0f8ff;}#sk-container-id-2 div.sk-toggleable__content pre {margin: 0.2em;color: black;border-radius: 0.25em;background-color: #f0f8ff;}#sk-container-id-2 input.sk-toggleable__control:checked~div.sk-toggleable__content {max-height: 200px;max-width: 100%;overflow: auto;}#sk-container-id-2 input.sk-toggleable__control:checked~label.sk-toggleable__label-arrow:before {content: \"▾\";}#sk-container-id-2 div.sk-estimator input.sk-toggleable__control:checked~label.sk-toggleable__label {background-color: #d4ebff;}#sk-container-id-2 div.sk-label input.sk-toggleable__control:checked~label.sk-toggleable__label {background-color: #d4ebff;}#sk-container-id-2 input.sk-hidden--visually {border: 0;clip: rect(1px 1px 1px 1px);clip: rect(1px, 1px, 1px, 1px);height: 1px;margin: -1px;overflow: hidden;padding: 0;position: absolute;width: 1px;}#sk-container-id-2 div.sk-estimator {font-family: monospace;background-color: #f0f8ff;border: 1px dotted black;border-radius: 0.25em;box-sizing: border-box;margin-bottom: 0.5em;}#sk-container-id-2 div.sk-estimator:hover {background-color: #d4ebff;}#sk-container-id-2 div.sk-parallel-item::after {content: \"\";width: 100%;border-bottom: 1px solid gray;flex-grow: 1;}#sk-container-id-2 div.sk-label:hover label.sk-toggleable__label {background-color: #d4ebff;}#sk-container-id-2 div.sk-serial::before {content: \"\";position: absolute;border-left: 1px solid gray;box-sizing: border-box;top: 0;bottom: 0;left: 50%;z-index: 0;}#sk-container-id-2 div.sk-serial {display: flex;flex-direction: column;align-items: center;background-color: white;padding-right: 0.2em;padding-left: 0.2em;position: relative;}#sk-container-id-2 div.sk-item {position: relative;z-index: 1;}#sk-container-id-2 div.sk-parallel {display: flex;align-items: stretch;justify-content: center;background-color: white;position: relative;}#sk-container-id-2 div.sk-item::before, #sk-container-id-2 div.sk-parallel-item::before {content: \"\";position: absolute;border-left: 1px solid gray;box-sizing: border-box;top: 0;bottom: 0;left: 50%;z-index: -1;}#sk-container-id-2 div.sk-parallel-item {display: flex;flex-direction: column;z-index: 1;position: relative;background-color: white;}#sk-container-id-2 div.sk-parallel-item:first-child::after {align-self: flex-end;width: 50%;}#sk-container-id-2 div.sk-parallel-item:last-child::after {align-self: flex-start;width: 50%;}#sk-container-id-2 div.sk-parallel-item:only-child::after {width: 0;}#sk-container-id-2 div.sk-dashed-wrapped {border: 1px dashed gray;margin: 0 0.4em 0.5em 0.4em;box-sizing: border-box;padding-bottom: 0.4em;background-color: white;}#sk-container-id-2 div.sk-label label {font-family: monospace;font-weight: bold;display: inline-block;line-height: 1.2em;}#sk-container-id-2 div.sk-label-container {text-align: center;}#sk-container-id-2 div.sk-container {/* jupyter's `normalize.less` sets `[hidden] { display: none; }` but bootstrap.min.css set `[hidden] { display: none !important; }` so we also need the `!important` here to be able to override the default hidden behavior on the sphinx rendered scikit-learn.org. See: https://github.com/scikit-learn/scikit-learn/issues/21755 */display: inline-block !important;position: relative;}#sk-container-id-2 div.sk-text-repr-fallback {display: none;}</style><div id=\"sk-container-id-2\" class=\"sk-top-container\"><div class=\"sk-text-repr-fallback\"><pre>KNeighborsClassifier(n_neighbors=1)</pre><b>In a Jupyter environment, please rerun this cell to show the HTML representation or trust the notebook. <br />On GitHub, the HTML representation is unable to render, please try loading this page with nbviewer.org.</b></div><div class=\"sk-container\" hidden><div class=\"sk-item\"><div class=\"sk-estimator sk-toggleable\"><input class=\"sk-toggleable__control sk-hidden--visually\" id=\"sk-estimator-id-2\" type=\"checkbox\" checked><label for=\"sk-estimator-id-2\" class=\"sk-toggleable__label sk-toggleable__label-arrow\">KNeighborsClassifier</label><div class=\"sk-toggleable__content\"><pre>KNeighborsClassifier(n_neighbors=1)</pre></div></div></div></div></div>"
      ],
      "text/plain": [
       "KNeighborsClassifier(n_neighbors=1)"
      ]
     },
     "execution_count": 54,
     "metadata": {},
     "output_type": "execute_result"
    }
   ],
   "source": [
    "neigh_fem.fit(female_train_scaled, female_label_train)\n"
   ]
  },
  {
   "cell_type": "markdown",
   "metadata": {},
   "source": [
    "Import the training set. "
   ]
  },
  {
   "cell_type": "code",
   "execution_count": 55,
   "metadata": {},
   "outputs": [
    {
     "data": {
      "text/plain": [
       "0.9841082989994114"
      ]
     },
     "execution_count": 55,
     "metadata": {},
     "output_type": "execute_result"
    }
   ],
   "source": [
    "y_test_fem_knn = neigh_fem.predict(female_test_scaled)\n",
    "neigh_fem.score(female_test_scaled, female_label_test)"
   ]
  },
  {
   "cell_type": "markdown",
   "metadata": {},
   "source": [
    "Test the model, get accuracy. "
   ]
  },
  {
   "cell_type": "code",
   "execution_count": 56,
   "metadata": {},
   "outputs": [
    {
     "data": {
      "image/png": "[encoded data removed]",
      "text/plain": [
       "<Figure size 640x480 with 2 Axes>"
      ]
     },
     "metadata": {},
     "output_type": "display_data"
    }
   ],
   "source": [
    "cm_knn_fem = skme.confusion_matrix(female_label_test,y_test_fem_knn)\n",
    "\n",
    "sns.heatmap(cm_knn_fem,annot=True,fmt='g',xticklabels=[1,2,3,4,5,6],yticklabels=[0,1,2,3,4,5,6])\n",
    "plt.ylabel('Prediction',fontsize=13)\n",
    "plt.xlabel('Actual',fontsize=13)\n",
    "plt.title('Confusion Matrix',fontsize=17)\n",
    "plt.show()"
   ]
  },
  {
   "cell_type": "code",
   "execution_count": 57,
   "metadata": {},
   "outputs": [
    {
     "data": {
      "text/plain": [
       "array([0.97894737, 0.98333333, 1.        , 0.99121265, 1.        ,\n",
       "       0.95238095])"
      ]
     },
     "execution_count": 57,
     "metadata": {},
     "output_type": "execute_result"
    }
   ],
   "source": [
    "skme.recall_score(female_label_test,y_test_fem_knn, average=None)"
   ]
  },
  {
   "cell_type": "markdown",
   "metadata": {},
   "source": [
    "Sensitivity"
   ]
  },
  {
   "cell_type": "code",
   "execution_count": 58,
   "metadata": {},
   "outputs": [
    {
     "data": {
      "text/plain": [
       "0.9492058595035631"
      ]
     },
     "execution_count": 58,
     "metadata": {},
     "output_type": "execute_result"
    }
   ],
   "source": [
    "skme.homogeneity_score(female_label_test,y_test_fem_knn)"
   ]
  },
  {
   "cell_type": "markdown",
   "metadata": {},
   "source": [
    "Homogeneity score"
   ]
  },
  {
   "cell_type": "code",
   "execution_count": 59,
   "metadata": {},
   "outputs": [
    {
     "data": {
      "text/plain": [
       "0.9491766026989532"
      ]
     },
     "execution_count": 59,
     "metadata": {},
     "output_type": "execute_result"
    }
   ],
   "source": [
    "skme.completeness_score(female_label_test,y_test_fem_knn)"
   ]
  },
  {
   "cell_type": "markdown",
   "metadata": {},
   "source": [
    "Completeness score"
   ]
  },
  {
   "cell_type": "code",
   "execution_count": 60,
   "metadata": {},
   "outputs": [
    {
     "data": {
      "text/plain": [
       "array([0.97043478, 0.9797048 , 0.99635036, 0.98086957, 0.98817568,\n",
       "       0.98939929])"
      ]
     },
     "execution_count": 60,
     "metadata": {},
     "output_type": "execute_result"
    }
   ],
   "source": [
    "skme.precision_score(female_label_test,y_test_fem_knn, average=None)"
   ]
  },
  {
   "cell_type": "markdown",
   "metadata": {},
   "source": [
    "Precision"
   ]
  },
  {
   "cell_type": "code",
   "execution_count": 61,
   "metadata": {},
   "outputs": [
    {
     "data": {
      "text/plain": [
       "array([0.97467249, 0.98151571, 0.99817185, 0.98601399, 0.99405268,\n",
       "       0.97053726])"
      ]
     },
     "execution_count": 61,
     "metadata": {},
     "output_type": "execute_result"
    }
   ],
   "source": [
    "skme.f1_score(female_label_test,y_test_fem_knn, average=None)"
   ]
  },
  {
   "cell_type": "markdown",
   "metadata": {},
   "source": [
    "F1-score"
   ]
  },
  {
   "cell_type": "markdown",
   "metadata": {},
   "source": [
    "Pregnant"
   ]
  },
  {
   "cell_type": "code",
   "execution_count": 62,
   "metadata": {},
   "outputs": [
    {
     "name": "stdout",
     "output_type": "stream",
     "text": [
      "Best k: 1\n",
      "accuracy:  0.9908769864626251\n"
     ]
    }
   ],
   "source": [
    "find_k_knn(30,1, preg_train_scaled, preg_label_train, preg_test_scaled, preg_label_test)"
   ]
  },
  {
   "cell_type": "markdown",
   "metadata": {},
   "source": [
    "Find the optimal k."
   ]
  },
  {
   "cell_type": "code",
   "execution_count": 63,
   "metadata": {},
   "outputs": [],
   "source": [
    "neigh_preg = KNeighborsClassifier(n_neighbors=1)"
   ]
  },
  {
   "cell_type": "markdown",
   "metadata": {},
   "source": [
    "Initialize KNN. "
   ]
  },
  {
   "cell_type": "code",
   "execution_count": 64,
   "metadata": {},
   "outputs": [
    {
     "data": {
      "text/html": [
       "<style>#sk-container-id-3 {color: black;background-color: white;}#sk-container-id-3 pre{padding: 0;}#sk-container-id-3 div.sk-toggleable {background-color: white;}#sk-container-id-3 label.sk-toggleable__label {cursor: pointer;display: block;width: 100%;margin-bottom: 0;padding: 0.3em;box-sizing: border-box;text-align: center;}#sk-container-id-3 label.sk-toggleable__label-arrow:before {content: \"▸\";float: left;margin-right: 0.25em;color: #696969;}#sk-container-id-3 label.sk-toggleable__label-arrow:hover:before {color: black;}#sk-container-id-3 div.sk-estimator:hover label.sk-toggleable__label-arrow:before {color: black;}#sk-container-id-3 div.sk-toggleable__content {max-height: 0;max-width: 0;overflow: hidden;text-align: left;background-color: #f0f8ff;}#sk-container-id-3 div.sk-toggleable__content pre {margin: 0.2em;color: black;border-radius: 0.25em;background-color: #f0f8ff;}#sk-container-id-3 input.sk-toggleable__control:checked~div.sk-toggleable__content {max-height: 200px;max-width: 100%;overflow: auto;}#sk-container-id-3 input.sk-toggleable__control:checked~label.sk-toggleable__label-arrow:before {content: \"▾\";}#sk-container-id-3 div.sk-estimator input.sk-toggleable__control:checked~label.sk-toggleable__label {background-color: #d4ebff;}#sk-container-id-3 div.sk-label input.sk-toggleable__control:checked~label.sk-toggleable__label {background-color: #d4ebff;}#sk-container-id-3 input.sk-hidden--visually {border: 0;clip: rect(1px 1px 1px 1px);clip: rect(1px, 1px, 1px, 1px);height: 1px;margin: -1px;overflow: hidden;padding: 0;position: absolute;width: 1px;}#sk-container-id-3 div.sk-estimator {font-family: monospace;background-color: #f0f8ff;border: 1px dotted black;border-radius: 0.25em;box-sizing: border-box;margin-bottom: 0.5em;}#sk-container-id-3 div.sk-estimator:hover {background-color: #d4ebff;}#sk-container-id-3 div.sk-parallel-item::after {content: \"\";width: 100%;border-bottom: 1px solid gray;flex-grow: 1;}#sk-container-id-3 div.sk-label:hover label.sk-toggleable__label {background-color: #d4ebff;}#sk-container-id-3 div.sk-serial::before {content: \"\";position: absolute;border-left: 1px solid gray;box-sizing: border-box;top: 0;bottom: 0;left: 50%;z-index: 0;}#sk-container-id-3 div.sk-serial {display: flex;flex-direction: column;align-items: center;background-color: white;padding-right: 0.2em;padding-left: 0.2em;position: relative;}#sk-container-id-3 div.sk-item {position: relative;z-index: 1;}#sk-container-id-3 div.sk-parallel {display: flex;align-items: stretch;justify-content: center;background-color: white;position: relative;}#sk-container-id-3 div.sk-item::before, #sk-container-id-3 div.sk-parallel-item::before {content: \"\";position: absolute;border-left: 1px solid gray;box-sizing: border-box;top: 0;bottom: 0;left: 50%;z-index: -1;}#sk-container-id-3 div.sk-parallel-item {display: flex;flex-direction: column;z-index: 1;position: relative;background-color: white;}#sk-container-id-3 div.sk-parallel-item:first-child::after {align-self: flex-end;width: 50%;}#sk-container-id-3 div.sk-parallel-item:last-child::after {align-self: flex-start;width: 50%;}#sk-container-id-3 div.sk-parallel-item:only-child::after {width: 0;}#sk-container-id-3 div.sk-dashed-wrapped {border: 1px dashed gray;margin: 0 0.4em 0.5em 0.4em;box-sizing: border-box;padding-bottom: 0.4em;background-color: white;}#sk-container-id-3 div.sk-label label {font-family: monospace;font-weight: bold;display: inline-block;line-height: 1.2em;}#sk-container-id-3 div.sk-label-container {text-align: center;}#sk-container-id-3 div.sk-container {/* jupyter's `normalize.less` sets `[hidden] { display: none; }` but bootstrap.min.css set `[hidden] { display: none !important; }` so we also need the `!important` here to be able to override the default hidden behavior on the sphinx rendered scikit-learn.org. See: https://github.com/scikit-learn/scikit-learn/issues/21755 */display: inline-block !important;position: relative;}#sk-container-id-3 div.sk-text-repr-fallback {display: none;}</style><div id=\"sk-container-id-3\" class=\"sk-top-container\"><div class=\"sk-text-repr-fallback\"><pre>KNeighborsClassifier(n_neighbors=1)</pre><b>In a Jupyter environment, please rerun this cell to show the HTML representation or trust the notebook. <br />On GitHub, the HTML representation is unable to render, please try loading this page with nbviewer.org.</b></div><div class=\"sk-container\" hidden><div class=\"sk-item\"><div class=\"sk-estimator sk-toggleable\"><input class=\"sk-toggleable__control sk-hidden--visually\" id=\"sk-estimator-id-3\" type=\"checkbox\" checked><label for=\"sk-estimator-id-3\" class=\"sk-toggleable__label sk-toggleable__label-arrow\">KNeighborsClassifier</label><div class=\"sk-toggleable__content\"><pre>KNeighborsClassifier(n_neighbors=1)</pre></div></div></div></div></div>"
      ],
      "text/plain": [
       "KNeighborsClassifier(n_neighbors=1)"
      ]
     },
     "execution_count": 64,
     "metadata": {},
     "output_type": "execute_result"
    }
   ],
   "source": [
    "neigh_preg.fit(preg_train_scaled, preg_label_train)\n"
   ]
  },
  {
   "cell_type": "markdown",
   "metadata": {},
   "source": [
    "Import the training set. "
   ]
  },
  {
   "cell_type": "code",
   "execution_count": 65,
   "metadata": {},
   "outputs": [
    {
     "data": {
      "text/plain": [
       "0.9908769864626251"
      ]
     },
     "execution_count": 65,
     "metadata": {},
     "output_type": "execute_result"
    }
   ],
   "source": [
    "y_test_preg_knn = neigh_preg.predict(preg_test_scaled)\n",
    "neigh_preg.score(preg_test_scaled, preg_label_test)"
   ]
  },
  {
   "cell_type": "markdown",
   "metadata": {},
   "source": [
    "Test the model, get accuracy. "
   ]
  },
  {
   "cell_type": "code",
   "execution_count": 66,
   "metadata": {},
   "outputs": [
    {
     "data": {
      "image/png": "[encoded data removed]",
      "text/plain": [
       "<Figure size 640x480 with 2 Axes>"
      ]
     },
     "metadata": {},
     "output_type": "display_data"
    }
   ],
   "source": [
    "cm_knn_preg = skme.confusion_matrix(preg_label_test,y_test_preg_knn)\n",
    "\n",
    "sns.heatmap(cm_knn_preg,annot=True,fmt='g',xticklabels=[1,2,3,4,5,6],yticklabels=[1,2,3,4,5,6])\n",
    "plt.ylabel('Prediction',fontsize=13)\n",
    "plt.xlabel('Actual',fontsize=13)\n",
    "plt.title('Confusion Matrix',fontsize=17)\n",
    "plt.show()"
   ]
  },
  {
   "cell_type": "markdown",
   "metadata": {},
   "source": [
    "Confusion matrix"
   ]
  },
  {
   "cell_type": "code",
   "execution_count": 67,
   "metadata": {},
   "outputs": [
    {
     "data": {
      "text/plain": [
       "array([0.99122807, 0.98333333, 1.        , 1.        , 1.        ,\n",
       "       0.97108844])"
      ]
     },
     "execution_count": 67,
     "metadata": {},
     "output_type": "execute_result"
    }
   ],
   "source": [
    "skme.recall_score(preg_label_test,y_test_preg_knn, average=None)"
   ]
  },
  {
   "cell_type": "markdown",
   "metadata": {},
   "source": [
    "Sensitivity"
   ]
  },
  {
   "cell_type": "code",
   "execution_count": 68,
   "metadata": {},
   "outputs": [
    {
     "data": {
      "text/plain": [
       "0.9694620869816736"
      ]
     },
     "execution_count": 68,
     "metadata": {},
     "output_type": "execute_result"
    }
   ],
   "source": [
    "skme.homogeneity_score(preg_label_test,y_test_preg_knn)"
   ]
  },
  {
   "cell_type": "markdown",
   "metadata": {},
   "source": [
    "Homogeneity score"
   ]
  },
  {
   "cell_type": "code",
   "execution_count": 69,
   "metadata": {},
   "outputs": [
    {
     "data": {
      "text/plain": [
       "0.9694611283642741"
      ]
     },
     "execution_count": 69,
     "metadata": {},
     "output_type": "execute_result"
    }
   ],
   "source": [
    "skme.completeness_score(preg_label_test,y_test_preg_knn)"
   ]
  },
  {
   "cell_type": "markdown",
   "metadata": {},
   "source": [
    "Completeness score"
   ]
  },
  {
   "cell_type": "code",
   "execution_count": 70,
   "metadata": {},
   "outputs": [
    {
     "data": {
      "text/plain": [
       "array([0.9826087 , 0.98698885, 1.        , 0.98613518, 0.99489796,\n",
       "       0.99477352])"
      ]
     },
     "execution_count": 70,
     "metadata": {},
     "output_type": "execute_result"
    }
   ],
   "source": [
    "skme.precision_score(preg_label_test,y_test_preg_knn, average=None)"
   ]
  },
  {
   "cell_type": "markdown",
   "metadata": {},
   "source": [
    "Precision"
   ]
  },
  {
   "cell_type": "code",
   "execution_count": 71,
   "metadata": {},
   "outputs": [
    {
     "data": {
      "text/plain": [
       "array([0.98689956, 0.9851577 , 1.        , 0.9930192 , 0.99744246,\n",
       "       0.9827883 ])"
      ]
     },
     "execution_count": 71,
     "metadata": {},
     "output_type": "execute_result"
    }
   ],
   "source": [
    "skme.f1_score(preg_label_test,y_test_preg_knn, average=None)"
   ]
  },
  {
   "cell_type": "markdown",
   "metadata": {},
   "source": [
    "F1 score"
   ]
  },
  {
   "cell_type": "markdown",
   "metadata": {},
   "source": [
    "### K-mean"
   ]
  },
  {
   "cell_type": "code",
   "execution_count": 72,
   "metadata": {},
   "outputs": [],
   "source": [
    "def act_label(y_kmeans, labels):\n",
    "    \n",
    "    act_label = np.copy(y_kmeans)\n",
    "    for s in range(7):\n",
    "        inde = np.where(y_kmeans == s)\n",
    "        dd = labels.iloc[inde].value_counts(sort=True,ascending=False)\n",
    "        if dd.shape[0] > 0:\n",
    "            act_label[y_kmeans == s] = dd.index[0]\n",
    "    return act_label"
   ]
  },
  {
   "cell_type": "markdown",
   "metadata": {},
   "source": [
    "Determine the actual label of the cluster. "
   ]
  },
  {
   "cell_type": "markdown",
   "metadata": {},
   "source": [
    "male"
   ]
  },
  {
   "cell_type": "code",
   "execution_count": 73,
   "metadata": {},
   "outputs": [
    {
     "name": "stderr",
     "output_type": "stream",
     "text": [
      "/usr/local/lib/python3.10/dist-packages/sklearn/cluster/_kmeans.py:870: FutureWarning: The default value of `n_init` will change from 10 to 'auto' in 1.4. Set the value of `n_init` explicitly to suppress the warning\n",
      "  warnings.warn(\n"
     ]
    }
   ],
   "source": [
    "kmeans_mal = KMeans(n_clusters=6)\n",
    "\n",
    "kmeans_mal.fit(male_train_scaled)\n",
    "y_kmeans_male = kmeans_mal.predict(male_train_scaled)"
   ]
  },
  {
   "cell_type": "markdown",
   "metadata": {},
   "source": [
    "Run Kmean to the training set. "
   ]
  },
  {
   "cell_type": "code",
   "execution_count": 74,
   "metadata": {},
   "outputs": [
    {
     "data": {
      "text/plain": [
       "<matplotlib.collections.PathCollection at 0x7f9b64922740>"
      ]
     },
     "execution_count": 74,
     "metadata": {},
     "output_type": "execute_result"
    },
    {
     "data": {
      "image/png": "[encoded data removed]",
      "text/plain": [
       "<Figure size 640x480 with 1 Axes>"
      ]
     },
     "metadata": {},
     "output_type": "display_data"
    }
   ],
   "source": [
    "plt.scatter(male_train_scaled[:, 25], male_train_scaled[:,2109], c=y_kmeans_male, s=50)\n",
    "\n",
    "centers1 = kmeans_mal.cluster_centers_\n",
    "plt.scatter(centers1[:, 25], centers1[:,2109], c='yellow', s=20, alpha=0.5)"
   ]
  },
  {
   "cell_type": "markdown",
   "metadata": {},
   "source": [
    "Graph about the centroids. "
   ]
  },
  {
   "cell_type": "code",
   "execution_count": 75,
   "metadata": {},
   "outputs": [],
   "source": [
    "y_kmeans_male_act = act_label(y_kmeans_male, male_label_train)"
   ]
  },
  {
   "cell_type": "markdown",
   "metadata": {},
   "source": [
    "Determine the actual label for each cluster. "
   ]
  },
  {
   "cell_type": "code",
   "execution_count": 76,
   "metadata": {},
   "outputs": [
    {
     "data": {
      "text/plain": [
       "<BarContainer object of 5 artists>"
      ]
     },
     "execution_count": 76,
     "metadata": {},
     "output_type": "execute_result"
    },
    {
     "data": {
      "image/png": "[encoded data removed]",
      "text/plain": [
       "<Figure size 640x480 with 1 Axes>"
      ]
     },
     "metadata": {},
     "output_type": "display_data"
    }
   ],
   "source": [
    "ee = np.unique(y_kmeans_male_act, return_counts=True)[1]\n",
    "plt.bar(np.unique(y_kmeans_male_act),ee)"
   ]
  },
  {
   "cell_type": "markdown",
   "metadata": {},
   "source": [
    "Determine the distribution of the classification. "
   ]
  },
  {
   "cell_type": "code",
   "execution_count": 77,
   "metadata": {},
   "outputs": [
    {
     "data": {
      "text/plain": [
       "0.4721526447620451"
      ]
     },
     "execution_count": 77,
     "metadata": {},
     "output_type": "execute_result"
    }
   ],
   "source": [
    "skme.accuracy_score(male_label_train, y_kmeans_male_act)"
   ]
  },
  {
   "cell_type": "markdown",
   "metadata": {},
   "source": [
    "Accuracy"
   ]
  },
  {
   "cell_type": "code",
   "execution_count": 78,
   "metadata": {},
   "outputs": [
    {
     "data": {
      "text/plain": [
       "0.003388164344002717"
      ]
     },
     "execution_count": 78,
     "metadata": {},
     "output_type": "execute_result"
    }
   ],
   "source": [
    "skme.silhouette_score(male_train_scaled, y_kmeans_male_act)"
   ]
  },
  {
   "cell_type": "markdown",
   "metadata": {},
   "source": [
    "Silhouette score"
   ]
  },
  {
   "cell_type": "code",
   "execution_count": 79,
   "metadata": {},
   "outputs": [
    {
     "data": {
      "text/plain": [
       "array([0.96576577, 0.99108734, 1.        , 1.        , 1.        ,\n",
       "       0.97807757])"
      ]
     },
     "execution_count": 79,
     "metadata": {},
     "output_type": "execute_result"
    }
   ],
   "source": [
    "skme.recall_score(male_label_test,y_test_knn,average=None)"
   ]
  },
  {
   "cell_type": "markdown",
   "metadata": {},
   "source": [
    "Sensitivity"
   ]
  },
  {
   "cell_type": "code",
   "execution_count": 80,
   "metadata": {},
   "outputs": [
    {
     "data": {
      "image/png": "[encoded data removed]",
      "text/plain": [
       "<Figure size 640x480 with 2 Axes>"
      ]
     },
     "metadata": {},
     "output_type": "display_data"
    }
   ],
   "source": [
    "cm_km = skme.confusion_matrix(male_label_train,y_kmeans_male_act)\n",
    "\n",
    "sns.heatmap(cm_km,annot=True,fmt='g',xticklabels=[1,2,3,4,5,6],yticklabels=[1,2,3,4,5,6])\n",
    "plt.ylabel('Prediction',fontsize=13)\n",
    "plt.xlabel('Actual',fontsize=13)\n",
    "plt.title('Confusion Matrix',fontsize=17)\n",
    "plt.show()"
   ]
  },
  {
   "cell_type": "markdown",
   "metadata": {},
   "source": [
    "Confusion matrix"
   ]
  },
  {
   "cell_type": "code",
   "execution_count": 81,
   "metadata": {},
   "outputs": [
    {
     "data": {
      "text/plain": [
       "0.4102773876167673"
      ]
     },
     "execution_count": 81,
     "metadata": {},
     "output_type": "execute_result"
    }
   ],
   "source": [
    "skme.homogeneity_score(male_label_train, y_kmeans_male_act)"
   ]
  },
  {
   "cell_type": "markdown",
   "metadata": {},
   "source": [
    "Homogeneity score"
   ]
  },
  {
   "cell_type": "code",
   "execution_count": 82,
   "metadata": {},
   "outputs": [
    {
     "data": {
      "text/plain": [
       "0.5489099121236394"
      ]
     },
     "execution_count": 82,
     "metadata": {},
     "output_type": "execute_result"
    }
   ],
   "source": [
    "skme.completeness_score(male_label_train, y_kmeans_male_act)"
   ]
  },
  {
   "cell_type": "markdown",
   "metadata": {},
   "source": [
    "Completeness score"
   ]
  },
  {
   "cell_type": "code",
   "execution_count": 83,
   "metadata": {},
   "outputs": [
    {
     "name": "stderr",
     "output_type": "stream",
     "text": [
      "/usr/local/lib/python3.10/dist-packages/sklearn/metrics/_classification.py:1344: UndefinedMetricWarning: Precision is ill-defined and being set to 0.0 in labels with no predicted samples. Use `zero_division` parameter to control this behavior.\n",
      "  _warn_prf(average, modifier, msg_start, len(result))\n"
     ]
    },
    {
     "data": {
      "text/plain": [
       "array([0.53090823, 0.        , 0.35816936, 0.47272727, 0.3753433 ,\n",
       "       0.85922009])"
      ]
     },
     "execution_count": 83,
     "metadata": {},
     "output_type": "execute_result"
    }
   ],
   "source": [
    "skme.precision_score(male_label_train, y_kmeans_male_act,average=None)"
   ]
  },
  {
   "cell_type": "markdown",
   "metadata": {},
   "source": [
    "Precision"
   ]
  },
  {
   "cell_type": "code",
   "execution_count": 84,
   "metadata": {},
   "outputs": [
    {
     "data": {
      "text/plain": [
       "array([0.6893039 , 0.        , 0.47682119, 0.02236559, 0.44452476,\n",
       "       0.69370331])"
      ]
     },
     "execution_count": 84,
     "metadata": {},
     "output_type": "execute_result"
    }
   ],
   "source": [
    "skme.f1_score(male_label_train, y_kmeans_male_act,average=None)"
   ]
  },
  {
   "cell_type": "markdown",
   "metadata": {},
   "source": [
    "F1 score"
   ]
  },
  {
   "cell_type": "code",
   "execution_count": 85,
   "metadata": {},
   "outputs": [],
   "source": [
    "y_kmeans_male_test = kmeans_mal.predict(male_test_scaled)"
   ]
  },
  {
   "cell_type": "markdown",
   "metadata": {},
   "source": [
    "Try the test set. "
   ]
  },
  {
   "cell_type": "code",
   "execution_count": 86,
   "metadata": {},
   "outputs": [
    {
     "data": {
      "text/plain": [
       "<matplotlib.collections.PathCollection at 0x7f9b65d1a020>"
      ]
     },
     "execution_count": 86,
     "metadata": {},
     "output_type": "execute_result"
    },
    {
     "data": {
      "image/png": "[encoded data removed]",
      "text/plain": [
       "<Figure size 640x480 with 1 Axes>"
      ]
     },
     "metadata": {},
     "output_type": "display_data"
    }
   ],
   "source": [
    "plt.scatter(male_test_scaled[:, 25], male_test_scaled[:,2109], c=y_kmeans_male_test, s=50)\n",
    "\n",
    "centers1_test = kmeans_mal.cluster_centers_\n",
    "plt.scatter(centers1_test[:, 25], centers1_test[:,2109], c='yellow', s=20, alpha=0.5)"
   ]
  },
  {
   "cell_type": "markdown",
   "metadata": {},
   "source": [
    "Graph the centroid of the test set. "
   ]
  },
  {
   "cell_type": "code",
   "execution_count": 87,
   "metadata": {},
   "outputs": [],
   "source": [
    "y_kmeans_male_act_test = act_label(y_kmeans_male_test, male_label_test)"
   ]
  },
  {
   "cell_type": "markdown",
   "metadata": {},
   "source": [
    "Get the actual label. "
   ]
  },
  {
   "cell_type": "code",
   "execution_count": 88,
   "metadata": {},
   "outputs": [
    {
     "data": {
      "text/plain": [
       "<BarContainer object of 5 artists>"
      ]
     },
     "execution_count": 88,
     "metadata": {},
     "output_type": "execute_result"
    },
    {
     "data": {
      "image/png": "[encoded data removed]",
      "text/plain": [
       "<Figure size 640x480 with 1 Axes>"
      ]
     },
     "metadata": {},
     "output_type": "display_data"
    }
   ],
   "source": [
    "ee_test = np.unique(y_kmeans_male_act_test, return_counts=True)[1]\n",
    "plt.bar(np.unique(y_kmeans_male_act_test),ee_test)\n"
   ]
  },
  {
   "cell_type": "markdown",
   "metadata": {},
   "source": [
    "Graph the distribution. "
   ]
  },
  {
   "cell_type": "code",
   "execution_count": 89,
   "metadata": {},
   "outputs": [
    {
     "data": {
      "text/plain": [
       "0.4687684148497348"
      ]
     },
     "execution_count": 89,
     "metadata": {},
     "output_type": "execute_result"
    }
   ],
   "source": [
    "skme.accuracy_score(male_label_test, y_kmeans_male_act_test)"
   ]
  },
  {
   "cell_type": "markdown",
   "metadata": {},
   "source": [
    "Accuracy"
   ]
  },
  {
   "cell_type": "code",
   "execution_count": 90,
   "metadata": {},
   "outputs": [
    {
     "data": {
      "image/png": "[encoded data removed]",
      "text/plain": [
       "<Figure size 640x480 with 2 Axes>"
      ]
     },
     "metadata": {},
     "output_type": "display_data"
    }
   ],
   "source": [
    "cm_km_test = skme.confusion_matrix(male_label_test,y_kmeans_male_act_test)\n",
    "\n",
    "sns.heatmap(cm_km_test,annot=True,fmt='g',xticklabels=[1,2,3,4,5,6],yticklabels=[1,2,3,4,5,6])\n",
    "plt.ylabel('Prediction',fontsize=13)\n",
    "plt.xlabel('Actual',fontsize=13)\n",
    "plt.title('Confusion Matrix',fontsize=17)\n",
    "plt.show()"
   ]
  },
  {
   "cell_type": "markdown",
   "metadata": {},
   "source": [
    "Confusion matrix."
   ]
  },
  {
   "cell_type": "code",
   "execution_count": 91,
   "metadata": {},
   "outputs": [
    {
     "data": {
      "text/plain": [
       "0.004509887554785846"
      ]
     },
     "execution_count": 91,
     "metadata": {},
     "output_type": "execute_result"
    }
   ],
   "source": [
    "skme.silhouette_score(male_test_scaled,y_kmeans_male_act_test)"
   ]
  },
  {
   "cell_type": "markdown",
   "metadata": {},
   "source": [
    "Silhouette score"
   ]
  },
  {
   "cell_type": "code",
   "execution_count": 92,
   "metadata": {},
   "outputs": [
    {
     "data": {
      "text/plain": [
       "array([0.96576577, 0.99108734, 1.        , 1.        , 1.        ,\n",
       "       0.97807757])"
      ]
     },
     "execution_count": 92,
     "metadata": {},
     "output_type": "execute_result"
    }
   ],
   "source": [
    "skme.recall_score(male_label_test,y_test_knn,average=None)"
   ]
  },
  {
   "cell_type": "markdown",
   "metadata": {},
   "source": [
    "Sensitivity"
   ]
  },
  {
   "cell_type": "code",
   "execution_count": 93,
   "metadata": {},
   "outputs": [
    {
     "data": {
      "text/plain": [
       "0.4087994837718298"
      ]
     },
     "execution_count": 93,
     "metadata": {},
     "output_type": "execute_result"
    }
   ],
   "source": [
    "skme.homogeneity_score(male_label_test,y_kmeans_male_act_test)"
   ]
  },
  {
   "cell_type": "markdown",
   "metadata": {},
   "source": [
    "Homogeneity score"
   ]
  },
  {
   "cell_type": "code",
   "execution_count": 94,
   "metadata": {},
   "outputs": [
    {
     "data": {
      "text/plain": [
       "0.5489099121236394"
      ]
     },
     "execution_count": 94,
     "metadata": {},
     "output_type": "execute_result"
    }
   ],
   "source": [
    "skme.completeness_score(male_label_train, y_kmeans_male_act)"
   ]
  },
  {
   "cell_type": "markdown",
   "metadata": {},
   "source": [
    "Completeness score"
   ]
  },
  {
   "cell_type": "code",
   "execution_count": 95,
   "metadata": {},
   "outputs": [
    {
     "name": "stderr",
     "output_type": "stream",
     "text": [
      "/usr/local/lib/python3.10/dist-packages/sklearn/metrics/_classification.py:1344: UndefinedMetricWarning: Precision is ill-defined and being set to 0.0 in labels with no predicted samples. Use `zero_division` parameter to control this behavior.\n",
      "  _warn_prf(average, modifier, msg_start, len(result))\n"
     ]
    },
    {
     "data": {
      "text/plain": [
       "array([0.53090823, 0.        , 0.35816936, 0.47272727, 0.3753433 ,\n",
       "       0.85922009])"
      ]
     },
     "execution_count": 95,
     "metadata": {},
     "output_type": "execute_result"
    }
   ],
   "source": [
    "skme.precision_score(male_label_train, y_kmeans_male_act,average=None)"
   ]
  },
  {
   "cell_type": "markdown",
   "metadata": {},
   "source": [
    "Precision"
   ]
  },
  {
   "cell_type": "code",
   "execution_count": 96,
   "metadata": {},
   "outputs": [
    {
     "data": {
      "text/plain": [
       "array([0.6893039 , 0.        , 0.47682119, 0.02236559, 0.44452476,\n",
       "       0.69370331])"
      ]
     },
     "execution_count": 96,
     "metadata": {},
     "output_type": "execute_result"
    }
   ],
   "source": [
    "skme.f1_score(male_label_train, y_kmeans_male_act,average=None)"
   ]
  },
  {
   "cell_type": "markdown",
   "metadata": {},
   "source": [
    "F1 score"
   ]
  },
  {
   "cell_type": "code",
   "execution_count": 97,
   "metadata": {},
   "outputs": [
    {
     "data": {
      "text/plain": [
       "array([1, 1], dtype=int32)"
      ]
     },
     "execution_count": 97,
     "metadata": {},
     "output_type": "execute_result"
    }
   ],
   "source": [
    "kmeans_mal.predict(sss)"
   ]
  },
  {
   "cell_type": "markdown",
   "metadata": {},
   "source": [
    "Try predict the one record. "
   ]
  },
  {
   "cell_type": "markdown",
   "metadata": {},
   "source": [
    "Female"
   ]
  },
  {
   "cell_type": "code",
   "execution_count": 98,
   "metadata": {},
   "outputs": [
    {
     "name": "stderr",
     "output_type": "stream",
     "text": [
      "/usr/local/lib/python3.10/dist-packages/sklearn/cluster/_kmeans.py:870: FutureWarning: The default value of `n_init` will change from 10 to 'auto' in 1.4. Set the value of `n_init` explicitly to suppress the warning\n",
      "  warnings.warn(\n"
     ]
    }
   ],
   "source": [
    "kmeans_fem = KMeans(n_clusters=6)\n",
    "\n",
    "kmeans_fem.fit(female_train_scaled)\n",
    "y_kmeans_fem = kmeans_fem.predict(female_train_scaled)"
   ]
  },
  {
   "cell_type": "markdown",
   "metadata": {},
   "source": [
    "Run Kmean to the training set. "
   ]
  },
  {
   "cell_type": "code",
   "execution_count": 99,
   "metadata": {},
   "outputs": [
    {
     "data": {
      "image/png": "[encoded data removed]",
      "text/plain": [
       "<Figure size 640x480 with 1 Axes>"
      ]
     },
     "metadata": {},
     "output_type": "display_data"
    }
   ],
   "source": [
    "plt.scatter(female_train_scaled[:, 25], female_train_scaled[:,2109], c=y_kmeans_fem, s=50)\n",
    "\n",
    "centers_fem = kmeans_fem.cluster_centers_\n",
    "plt.scatter(centers_fem[:, 25], centers_fem[:,2109], c='yellow', s=20, alpha=0.5);"
   ]
  },
  {
   "cell_type": "markdown",
   "metadata": {},
   "source": [
    "Show the centroid."
   ]
  },
  {
   "cell_type": "code",
   "execution_count": 100,
   "metadata": {},
   "outputs": [],
   "source": [
    "y_kmeans_female_act = act_label(y_kmeans_fem, female_label_train)"
   ]
  },
  {
   "cell_type": "markdown",
   "metadata": {},
   "source": [
    "Get the actual label."
   ]
  },
  {
   "cell_type": "code",
   "execution_count": 101,
   "metadata": {},
   "outputs": [
    {
     "data": {
      "text/plain": [
       "<BarContainer object of 4 artists>"
      ]
     },
     "execution_count": 101,
     "metadata": {},
     "output_type": "execute_result"
    },
    {
     "data": {
      "image/png": "[encoded data removed]",
      "text/plain": [
       "<Figure size 640x480 with 1 Axes>"
      ]
     },
     "metadata": {},
     "output_type": "display_data"
    }
   ],
   "source": [
    "ff = np.unique(y_kmeans_female_act, return_counts=True)[1]\n",
    "plt.bar(np.unique(y_kmeans_female_act),ff)"
   ]
  },
  {
   "cell_type": "markdown",
   "metadata": {},
   "source": [
    "Show the distribution."
   ]
  },
  {
   "cell_type": "code",
   "execution_count": 102,
   "metadata": {},
   "outputs": [
    {
     "data": {
      "text/plain": [
       "0.3980718280836032"
      ]
     },
     "execution_count": 102,
     "metadata": {},
     "output_type": "execute_result"
    }
   ],
   "source": [
    "skme.accuracy_score(female_label_train, y_kmeans_female_act)"
   ]
  },
  {
   "cell_type": "markdown",
   "metadata": {},
   "source": [
    "Accuracy"
   ]
  },
  {
   "cell_type": "code",
   "execution_count": 103,
   "metadata": {},
   "outputs": [
    {
     "data": {
      "text/plain": [
       "0.025197504671293596"
      ]
     },
     "execution_count": 103,
     "metadata": {},
     "output_type": "execute_result"
    }
   ],
   "source": [
    "skme.silhouette_score(female_train_scaled, y_kmeans_female_act)"
   ]
  },
  {
   "cell_type": "markdown",
   "metadata": {},
   "source": [
    "Silhouette score"
   ]
  },
  {
   "cell_type": "code",
   "execution_count": 104,
   "metadata": {},
   "outputs": [
    {
     "data": {
      "image/png": "[encoded data removed]",
      "text/plain": [
       "<Figure size 640x480 with 2 Axes>"
      ]
     },
     "metadata": {},
     "output_type": "display_data"
    }
   ],
   "source": [
    "cm_km_fem = skme.confusion_matrix(female_label_train,y_kmeans_female_act)\n",
    "\n",
    "sns.heatmap(cm_km_fem,annot=True,fmt='g',xticklabels=[1,2,3,4,5,6],yticklabels=[1,2,3,4,5,6])\n",
    "plt.ylabel('Prediction',fontsize=13)\n",
    "plt.xlabel('Actual',fontsize=13)\n",
    "plt.title('Confusion Matrix',fontsize=17)\n",
    "plt.show()"
   ]
  },
  {
   "cell_type": "markdown",
   "metadata": {},
   "source": [
    "The confusion matrix. "
   ]
  },
  {
   "cell_type": "code",
   "execution_count": 105,
   "metadata": {},
   "outputs": [
    {
     "data": {
      "text/plain": [
       "array([0.75099513, 0.        , 0.        , 0.10963749, 0.76847729,\n",
       "       0.77440927])"
      ]
     },
     "execution_count": 105,
     "metadata": {},
     "output_type": "execute_result"
    }
   ],
   "source": [
    "skme.recall_score(female_label_train,y_kmeans_female_act,average=None)"
   ]
  },
  {
   "cell_type": "markdown",
   "metadata": {},
   "source": [
    "Sensitivity"
   ]
  },
  {
   "cell_type": "code",
   "execution_count": 106,
   "metadata": {},
   "outputs": [
    {
     "data": {
      "text/plain": [
       "0.2554054717819001"
      ]
     },
     "execution_count": 106,
     "metadata": {},
     "output_type": "execute_result"
    }
   ],
   "source": [
    "skme.homogeneity_score(female_label_train,y_kmeans_female_act)"
   ]
  },
  {
   "cell_type": "markdown",
   "metadata": {},
   "source": [
    "Homogeneity"
   ]
  },
  {
   "cell_type": "code",
   "execution_count": 107,
   "metadata": {},
   "outputs": [
    {
     "data": {
      "text/plain": [
       "0.359774352978259"
      ]
     },
     "execution_count": 107,
     "metadata": {},
     "output_type": "execute_result"
    }
   ],
   "source": [
    "skme.completeness_score(female_label_train,y_kmeans_female_act)"
   ]
  },
  {
   "cell_type": "markdown",
   "metadata": {},
   "source": [
    "Completeness"
   ]
  },
  {
   "cell_type": "code",
   "execution_count": 108,
   "metadata": {},
   "outputs": [
    {
     "name": "stderr",
     "output_type": "stream",
     "text": [
      "/usr/local/lib/python3.10/dist-packages/sklearn/metrics/_classification.py:1344: UndefinedMetricWarning: Precision is ill-defined and being set to 0.0 in labels with no predicted samples. Use `zero_division` parameter to control this behavior.\n",
      "  _warn_prf(average, modifier, msg_start, len(result))\n"
     ]
    },
    {
     "data": {
      "text/plain": [
       "array([0.48389855, 0.        , 0.        , 0.23686724, 0.33269082,\n",
       "       0.45187305])"
      ]
     },
     "execution_count": 108,
     "metadata": {},
     "output_type": "execute_result"
    }
   ],
   "source": [
    "skme.precision_score(female_label_train,y_kmeans_female_act,average=None)"
   ]
  },
  {
   "cell_type": "markdown",
   "metadata": {},
   "source": [
    "Precision"
   ]
  },
  {
   "cell_type": "code",
   "execution_count": 109,
   "metadata": {},
   "outputs": [
    {
     "data": {
      "text/plain": [
       "array([0.58856153, 0.        , 0.        , 0.14989423, 0.46435297,\n",
       "       0.57072449])"
      ]
     },
     "execution_count": 109,
     "metadata": {},
     "output_type": "execute_result"
    }
   ],
   "source": [
    "skme.f1_score(female_label_train,y_kmeans_female_act,average=None)"
   ]
  },
  {
   "cell_type": "markdown",
   "metadata": {},
   "source": [
    "F1-Score"
   ]
  },
  {
   "cell_type": "code",
   "execution_count": 110,
   "metadata": {},
   "outputs": [],
   "source": [
    "y_kmeans_fem_test = kmeans_fem.predict(female_test_scaled)"
   ]
  },
  {
   "cell_type": "markdown",
   "metadata": {},
   "source": [
    "Try the test set. "
   ]
  },
  {
   "cell_type": "code",
   "execution_count": 111,
   "metadata": {},
   "outputs": [
    {
     "data": {
      "image/png": "[encoded data removed]",
      "text/plain": [
       "<Figure size 640x480 with 1 Axes>"
      ]
     },
     "metadata": {},
     "output_type": "display_data"
    }
   ],
   "source": [
    "plt.scatter(female_test_scaled[:, 25], female_test_scaled[:,2109], c=y_kmeans_fem_test, s=50)\n",
    "\n",
    "centers_fem_test = kmeans_fem.cluster_centers_\n",
    "plt.scatter(centers_fem_test[:, 25], centers_fem_test[:,2109], c='yellow', s=20, alpha=0.5);"
   ]
  },
  {
   "cell_type": "markdown",
   "metadata": {},
   "source": [
    "Graph the centroid"
   ]
  },
  {
   "cell_type": "code",
   "execution_count": 112,
   "metadata": {},
   "outputs": [],
   "source": [
    "y_kmeans_female_act_test = act_label(y_kmeans_fem_test, female_label_test)"
   ]
  },
  {
   "cell_type": "markdown",
   "metadata": {},
   "source": [
    "Get the actual label. "
   ]
  },
  {
   "cell_type": "code",
   "execution_count": 113,
   "metadata": {},
   "outputs": [
    {
     "data": {
      "text/plain": [
       "0.39846968805179517"
      ]
     },
     "execution_count": 113,
     "metadata": {},
     "output_type": "execute_result"
    }
   ],
   "source": [
    "skme.accuracy_score(female_label_test, y_kmeans_female_act_test)"
   ]
  },
  {
   "cell_type": "markdown",
   "metadata": {},
   "source": [
    "Accuracy"
   ]
  },
  {
   "cell_type": "code",
   "execution_count": 114,
   "metadata": {},
   "outputs": [
    {
     "data": {
      "image/png": "[encoded data removed]",
      "text/plain": [
       "<Figure size 640x480 with 2 Axes>"
      ]
     },
     "metadata": {},
     "output_type": "display_data"
    }
   ],
   "source": [
    "cm_km_fem_test = skme.confusion_matrix(female_label_test,y_kmeans_female_act_test)\n",
    "\n",
    "sns.heatmap(cm_km_fem_test,annot=True,fmt='g',xticklabels=[1,2,3,4,5,6],yticklabels=[1,2,3,4,5,6])\n",
    "plt.ylabel('Prediction',fontsize=13)\n",
    "plt.xlabel('Actual',fontsize=13)\n",
    "plt.title('Confusion Matrix',fontsize=17)\n",
    "plt.show()"
   ]
  },
  {
   "cell_type": "markdown",
   "metadata": {},
   "source": [
    "Confusion matrix. "
   ]
  },
  {
   "cell_type": "code",
   "execution_count": 115,
   "metadata": {},
   "outputs": [
    {
     "data": {
      "text/plain": [
       "<BarContainer object of 3 artists>"
      ]
     },
     "execution_count": 115,
     "metadata": {},
     "output_type": "execute_result"
    },
    {
     "data": {
      "image/png": "[encoded data removed]",
      "text/plain": [
       "<Figure size 640x480 with 1 Axes>"
      ]
     },
     "metadata": {},
     "output_type": "display_data"
    }
   ],
   "source": [
    "ff_test = np.unique(y_kmeans_female_act_test, return_counts=True)[1]\n",
    "plt.bar(np.unique(y_kmeans_female_act_test),ff_test)"
   ]
  },
  {
   "cell_type": "markdown",
   "metadata": {},
   "source": [
    "Show the distribution."
   ]
  },
  {
   "cell_type": "code",
   "execution_count": 116,
   "metadata": {},
   "outputs": [
    {
     "data": {
      "text/plain": [
       "array([0.56167665, 0.        , 0.        , 0.        , 0.46521508,\n",
       "       0.56297229])"
      ]
     },
     "execution_count": 116,
     "metadata": {},
     "output_type": "execute_result"
    }
   ],
   "source": [
    "skme.f1_score(female_label_test,y_kmeans_female_act_test,average=None)"
   ]
  },
  {
   "cell_type": "markdown",
   "metadata": {},
   "source": [
    "F1-score"
   ]
  },
  {
   "cell_type": "code",
   "execution_count": 117,
   "metadata": {},
   "outputs": [
    {
     "data": {
      "text/plain": [
       "0.028033233011993005"
      ]
     },
     "execution_count": 117,
     "metadata": {},
     "output_type": "execute_result"
    }
   ],
   "source": [
    "skme.silhouette_score(female_test_scaled, y_kmeans_female_act_test)"
   ]
  },
  {
   "cell_type": "markdown",
   "metadata": {},
   "source": [
    "Silhouette score"
   ]
  },
  {
   "cell_type": "code",
   "execution_count": 118,
   "metadata": {},
   "outputs": [
    {
     "data": {
      "text/plain": [
       "array([0.82280702, 0.        , 0.        , 0.        , 0.74871795,\n",
       "       0.76020408])"
      ]
     },
     "execution_count": 118,
     "metadata": {},
     "output_type": "execute_result"
    }
   ],
   "source": [
    "skme.recall_score(female_label_test,y_kmeans_female_act_test, average=None)"
   ]
  },
  {
   "cell_type": "markdown",
   "metadata": {},
   "source": [
    "Sensitivity"
   ]
  },
  {
   "cell_type": "code",
   "execution_count": 119,
   "metadata": {},
   "outputs": [
    {
     "data": {
      "text/plain": [
       "0.2191410506557237"
      ]
     },
     "execution_count": 119,
     "metadata": {},
     "output_type": "execute_result"
    }
   ],
   "source": [
    "skme.homogeneity_score(female_label_test,y_kmeans_female_act_test)"
   ]
  },
  {
   "cell_type": "markdown",
   "metadata": {},
   "source": [
    "Homogeneity score"
   ]
  },
  {
   "cell_type": "code",
   "execution_count": 120,
   "metadata": {},
   "outputs": [
    {
     "data": {
      "text/plain": [
       "0.35923544752762365"
      ]
     },
     "execution_count": 120,
     "metadata": {},
     "output_type": "execute_result"
    }
   ],
   "source": [
    "skme.completeness_score(female_label_test,y_kmeans_female_act_test)"
   ]
  },
  {
   "cell_type": "markdown",
   "metadata": {},
   "source": [
    "Completeness score"
   ]
  },
  {
   "cell_type": "code",
   "execution_count": 121,
   "metadata": {},
   "outputs": [
    {
     "name": "stderr",
     "output_type": "stream",
     "text": [
      "/usr/local/lib/python3.10/dist-packages/sklearn/metrics/_classification.py:1344: UndefinedMetricWarning: Precision is ill-defined and being set to 0.0 in labels with no predicted samples. Use `zero_division` parameter to control this behavior.\n",
      "  _warn_prf(average, modifier, msg_start, len(result))\n"
     ]
    },
    {
     "data": {
      "text/plain": [
       "array([0.42636364, 0.        , 0.        , 0.        , 0.33744222,\n",
       "       0.447     ])"
      ]
     },
     "execution_count": 121,
     "metadata": {},
     "output_type": "execute_result"
    }
   ],
   "source": [
    "skme.precision_score(female_label_test,y_kmeans_female_act_test,average=None)"
   ]
  },
  {
   "cell_type": "markdown",
   "metadata": {},
   "source": [
    "Precision"
   ]
  },
  {
   "cell_type": "markdown",
   "metadata": {},
   "source": [
    "Pregnant"
   ]
  },
  {
   "cell_type": "code",
   "execution_count": 122,
   "metadata": {},
   "outputs": [
    {
     "name": "stderr",
     "output_type": "stream",
     "text": [
      "/usr/local/lib/python3.10/dist-packages/sklearn/cluster/_kmeans.py:870: FutureWarning: The default value of `n_init` will change from 10 to 'auto' in 1.4. Set the value of `n_init` explicitly to suppress the warning\n",
      "  warnings.warn(\n"
     ]
    }
   ],
   "source": [
    "kmeans_preg = KMeans(n_clusters=6)\n",
    "\n",
    "kmeans_preg.fit(preg_train_scaled)\n",
    "y_kmeans_preg = kmeans_preg.predict(preg_train_scaled)"
   ]
  },
  {
   "cell_type": "markdown",
   "metadata": {},
   "source": [
    "Run Kmean to the training set."
   ]
  },
  {
   "cell_type": "code",
   "execution_count": 123,
   "metadata": {},
   "outputs": [
    {
     "data": {
      "image/png": "[encoded data removed]",
      "text/plain": [
       "<Figure size 640x480 with 1 Axes>"
      ]
     },
     "metadata": {},
     "output_type": "display_data"
    }
   ],
   "source": [
    "plt.scatter(preg_train_scaled[:, -2], preg_train_scaled[:,-1], c=y_kmeans_preg, s=50)\n",
    "\n",
    "centers_preg = kmeans_preg.cluster_centers_\n",
    "plt.scatter(centers_preg[:, -2], centers_preg[:,-1], c='yellow', s=20, alpha=0.5);"
   ]
  },
  {
   "cell_type": "markdown",
   "metadata": {},
   "source": [
    "Graph the centroids. "
   ]
  },
  {
   "cell_type": "code",
   "execution_count": 124,
   "metadata": {},
   "outputs": [],
   "source": [
    "y_kmeans_preg_act = act_label(y_kmeans_preg, preg_label_train)"
   ]
  },
  {
   "cell_type": "markdown",
   "metadata": {},
   "source": [
    "Get the actual label. "
   ]
  },
  {
   "cell_type": "code",
   "execution_count": 125,
   "metadata": {},
   "outputs": [
    {
     "data": {
      "text/plain": [
       "0.29805710921401235"
      ]
     },
     "execution_count": 125,
     "metadata": {},
     "output_type": "execute_result"
    }
   ],
   "source": [
    "skme.accuracy_score(preg_label_train, y_kmeans_preg_act)"
   ]
  },
  {
   "cell_type": "markdown",
   "metadata": {},
   "source": [
    "Accuracy"
   ]
  },
  {
   "cell_type": "code",
   "execution_count": 126,
   "metadata": {},
   "outputs": [
    {
     "data": {
      "text/plain": [
       "0.027569831426264672"
      ]
     },
     "execution_count": 126,
     "metadata": {},
     "output_type": "execute_result"
    }
   ],
   "source": [
    "skme.silhouette_score(preg_train_scaled, y_kmeans_preg_act)"
   ]
  },
  {
   "cell_type": "markdown",
   "metadata": {},
   "source": [
    "Silhouette score"
   ]
  },
  {
   "cell_type": "code",
   "execution_count": 127,
   "metadata": {},
   "outputs": [
    {
     "data": {
      "text/plain": [
       "<BarContainer object of 4 artists>"
      ]
     },
     "execution_count": 127,
     "metadata": {},
     "output_type": "execute_result"
    },
    {
     "data": {
      "image/png": "[encoded data removed]",
      "text/plain": [
       "<Figure size 640x480 with 1 Axes>"
      ]
     },
     "metadata": {},
     "output_type": "display_data"
    }
   ],
   "source": [
    "pp = np.unique(y_kmeans_preg_act, return_counts=True)[1]\n",
    "plt.bar(np.unique(y_kmeans_preg_act),pp)"
   ]
  },
  {
   "cell_type": "markdown",
   "metadata": {},
   "source": [
    "Show the distribution. "
   ]
  },
  {
   "cell_type": "code",
   "execution_count": 128,
   "metadata": {},
   "outputs": [
    {
     "data": {
      "image/png": "[encoded data removed]",
      "text/plain": [
       "<Figure size 640x480 with 2 Axes>"
      ]
     },
     "metadata": {},
     "output_type": "display_data"
    }
   ],
   "source": [
    "cm_km_preg = skme.confusion_matrix(preg_label_train,y_kmeans_preg_act)\n",
    "\n",
    "sns.heatmap(cm_km_preg,annot=True,fmt='g',xticklabels=[1,2,3,4,5,6],yticklabels=[1,2,3,4,5,6])\n",
    "plt.ylabel('Prediction',fontsize=13)\n",
    "plt.xlabel('Actual',fontsize=13)\n",
    "plt.title('Confusion Matrix',fontsize=17)\n",
    "plt.show()"
   ]
  },
  {
   "cell_type": "markdown",
   "metadata": {},
   "source": [
    "Confusion matrix"
   ]
  },
  {
   "cell_type": "code",
   "execution_count": 129,
   "metadata": {},
   "outputs": [
    {
     "data": {
      "text/plain": [
       "array([0.52941176, 0.1161065 , 0.37549234, 0.        , 0.        ,\n",
       "       0.77084262])"
      ]
     },
     "execution_count": 129,
     "metadata": {},
     "output_type": "execute_result"
    }
   ],
   "source": [
    "skme.recall_score(preg_label_train,y_kmeans_preg_act,average=None)"
   ]
  },
  {
   "cell_type": "markdown",
   "metadata": {},
   "source": [
    "Sensitivity"
   ]
  },
  {
   "cell_type": "code",
   "execution_count": 130,
   "metadata": {},
   "outputs": [
    {
     "data": {
      "text/plain": [
       "0.06599124964964856"
      ]
     },
     "execution_count": 130,
     "metadata": {},
     "output_type": "execute_result"
    }
   ],
   "source": [
    "skme.homogeneity_score(preg_label_train,y_kmeans_preg_act)"
   ]
  },
  {
   "cell_type": "markdown",
   "metadata": {},
   "source": [
    "Homogeneity"
   ]
  },
  {
   "cell_type": "code",
   "execution_count": 131,
   "metadata": {},
   "outputs": [
    {
     "data": {
      "text/plain": [
       "0.09400014184651648"
      ]
     },
     "execution_count": 131,
     "metadata": {},
     "output_type": "execute_result"
    }
   ],
   "source": [
    "skme.completeness_score(preg_label_train,y_kmeans_preg_act)"
   ]
  },
  {
   "cell_type": "markdown",
   "metadata": {},
   "source": [
    "Completeness"
   ]
  },
  {
   "cell_type": "code",
   "execution_count": 132,
   "metadata": {},
   "outputs": [
    {
     "name": "stderr",
     "output_type": "stream",
     "text": [
      "/usr/local/lib/python3.10/dist-packages/sklearn/metrics/_classification.py:1344: UndefinedMetricWarning: Precision is ill-defined and being set to 0.0 in labels with no predicted samples. Use `zero_division` parameter to control this behavior.\n",
      "  _warn_prf(average, modifier, msg_start, len(result))\n"
     ]
    },
    {
     "data": {
      "text/plain": [
       "array([0.24201375, 0.29490022, 0.25727136, 0.        , 0.        ,\n",
       "       0.39250851])"
      ]
     },
     "execution_count": 132,
     "metadata": {},
     "output_type": "execute_result"
    }
   ],
   "source": [
    "skme.precision_score(preg_label_train,y_kmeans_preg_act,average=None)"
   ]
  },
  {
   "cell_type": "markdown",
   "metadata": {},
   "source": [
    "Precision"
   ]
  },
  {
   "cell_type": "code",
   "execution_count": 133,
   "metadata": {},
   "outputs": [
    {
     "data": {
      "text/plain": [
       "array([0.33217705, 0.16661447, 0.30533808, 0.        , 0.        ,\n",
       "       0.52015644])"
      ]
     },
     "execution_count": 133,
     "metadata": {},
     "output_type": "execute_result"
    }
   ],
   "source": [
    "skme.f1_score(preg_label_train,y_kmeans_preg_act,average=None)"
   ]
  },
  {
   "cell_type": "markdown",
   "metadata": {},
   "source": [
    "F1-Score"
   ]
  },
  {
   "cell_type": "code",
   "execution_count": 134,
   "metadata": {},
   "outputs": [],
   "source": [
    "y_kmeans_preg_test = kmeans_preg.predict(preg_test_scaled)"
   ]
  },
  {
   "cell_type": "markdown",
   "metadata": {},
   "source": [
    "Try the test set. "
   ]
  },
  {
   "cell_type": "code",
   "execution_count": 135,
   "metadata": {},
   "outputs": [
    {
     "data": {
      "text/plain": [
       "<matplotlib.collections.PathCollection at 0x7f9b655e4a30>"
      ]
     },
     "execution_count": 135,
     "metadata": {},
     "output_type": "execute_result"
    },
    {
     "data": {
      "image/png": "[encoded data removed]",
      "text/plain": [
       "<Figure size 640x480 with 1 Axes>"
      ]
     },
     "metadata": {},
     "output_type": "display_data"
    }
   ],
   "source": [
    "plt.scatter(preg_test_scaled[:, -2], preg_test_scaled[:,-1], c=y_kmeans_preg_test, s=50)\n",
    "\n",
    "centers_preg_test = kmeans_preg.cluster_centers_\n",
    "plt.scatter(centers_preg_test[:, -2], centers_preg_test[:,-1], c='yellow', s=20, alpha=0.5)"
   ]
  },
  {
   "cell_type": "markdown",
   "metadata": {},
   "source": [
    "Graph the centroid"
   ]
  },
  {
   "cell_type": "code",
   "execution_count": 136,
   "metadata": {},
   "outputs": [],
   "source": [
    "y_kmeans_preg_act_test = act_label(y_kmeans_preg_test, preg_label_test)"
   ]
  },
  {
   "cell_type": "markdown",
   "metadata": {},
   "source": [
    "Get the actual label. "
   ]
  },
  {
   "cell_type": "code",
   "execution_count": 137,
   "metadata": {},
   "outputs": [
    {
     "data": {
      "text/plain": [
       "0.30047086521483224"
      ]
     },
     "execution_count": 137,
     "metadata": {},
     "output_type": "execute_result"
    }
   ],
   "source": [
    "skme.accuracy_score(preg_label_test, y_kmeans_preg_act_test)"
   ]
  },
  {
   "cell_type": "markdown",
   "metadata": {},
   "source": [
    "Accuracy"
   ]
  },
  {
   "cell_type": "code",
   "execution_count": 138,
   "metadata": {},
   "outputs": [
    {
     "data": {
      "text/plain": [
       "<BarContainer object of 4 artists>"
      ]
     },
     "execution_count": 138,
     "metadata": {},
     "output_type": "execute_result"
    },
    {
     "data": {
      "image/png": "[encoded data removed]",
      "text/plain": [
       "<Figure size 640x480 with 1 Axes>"
      ]
     },
     "metadata": {},
     "output_type": "display_data"
    }
   ],
   "source": [
    "pp_test = np.unique(y_kmeans_preg_act_test, return_counts=True)[1]\n",
    "plt.bar(np.unique(y_kmeans_preg_act_test),pp_test)"
   ]
  },
  {
   "cell_type": "code",
   "execution_count": 139,
   "metadata": {},
   "outputs": [
    {
     "data": {
      "image/png": "[encoded data removed]",
      "text/plain": [
       "<Figure size 640x480 with 2 Axes>"
      ]
     },
     "metadata": {},
     "output_type": "display_data"
    }
   ],
   "source": [
    "cm_km_preg_test = skme.confusion_matrix(preg_label_test,y_kmeans_preg_act_test)\n",
    "\n",
    "sns.heatmap(cm_km_preg_test,annot=True,fmt='g',xticklabels=[1,2,3,4,5,6],yticklabels=[1,2,3,4,5,6])\n",
    "plt.ylabel('Prediction',fontsize=13)\n",
    "plt.xlabel('Actual',fontsize=13)\n",
    "plt.title('Confusion Matrix',fontsize=17)\n",
    "plt.show()"
   ]
  },
  {
   "cell_type": "markdown",
   "metadata": {},
   "source": [
    "Confusion matrix"
   ]
  },
  {
   "cell_type": "code",
   "execution_count": 140,
   "metadata": {},
   "outputs": [
    {
     "data": {
      "text/plain": [
       "0.028111602052344663"
      ]
     },
     "execution_count": 140,
     "metadata": {},
     "output_type": "execute_result"
    }
   ],
   "source": [
    "skme.silhouette_score(preg_test_scaled, y_kmeans_preg_act_test)"
   ]
  },
  {
   "cell_type": "markdown",
   "metadata": {},
   "source": [
    "Silhouette score."
   ]
  },
  {
   "cell_type": "code",
   "execution_count": 141,
   "metadata": {},
   "outputs": [
    {
     "data": {
      "text/plain": [
       "array([0.54736842, 0.0962963 , 0.        , 0.        , 0.36410256,\n",
       "       0.75510204])"
      ]
     },
     "execution_count": 141,
     "metadata": {},
     "output_type": "execute_result"
    }
   ],
   "source": [
    "skme.recall_score(preg_label_test,y_kmeans_preg_act_test,average=None)"
   ]
  },
  {
   "cell_type": "markdown",
   "metadata": {},
   "source": [
    "Sensitivity"
   ]
  },
  {
   "cell_type": "code",
   "execution_count": 142,
   "metadata": {},
   "outputs": [
    {
     "data": {
      "text/plain": [
       "0.06349256886578157"
      ]
     },
     "execution_count": 142,
     "metadata": {},
     "output_type": "execute_result"
    }
   ],
   "source": [
    "skme.homogeneity_score(preg_label_test,y_kmeans_preg_act_test)"
   ]
  },
  {
   "cell_type": "markdown",
   "metadata": {},
   "source": [
    "Homogeneity"
   ]
  },
  {
   "cell_type": "code",
   "execution_count": 143,
   "metadata": {},
   "outputs": [
    {
     "data": {
      "text/plain": [
       "0.09051954532441771"
      ]
     },
     "execution_count": 143,
     "metadata": {},
     "output_type": "execute_result"
    }
   ],
   "source": [
    "skme.completeness_score(preg_label_test,y_kmeans_preg_act_test)"
   ]
  },
  {
   "cell_type": "markdown",
   "metadata": {},
   "source": [
    "Completeness"
   ]
  },
  {
   "cell_type": "code",
   "execution_count": 144,
   "metadata": {},
   "outputs": [
    {
     "name": "stderr",
     "output_type": "stream",
     "text": [
      "/usr/local/lib/python3.10/dist-packages/sklearn/metrics/_classification.py:1344: UndefinedMetricWarning: Precision is ill-defined and being set to 0.0 in labels with no predicted samples. Use `zero_division` parameter to control this behavior.\n",
      "  _warn_prf(average, modifier, msg_start, len(result))\n"
     ]
    },
    {
     "data": {
      "text/plain": [
       "array([0.24860558, 0.22317597, 0.        , 0.        , 0.27030457,\n",
       "       0.39572193])"
      ]
     },
     "execution_count": 144,
     "metadata": {},
     "output_type": "execute_result"
    }
   ],
   "source": [
    "skme.precision_score(preg_label_test,y_kmeans_preg_act_test,average=None)"
   ]
  },
  {
   "cell_type": "markdown",
   "metadata": {},
   "source": [
    "Precision"
   ]
  },
  {
   "cell_type": "code",
   "execution_count": 145,
   "metadata": {},
   "outputs": [
    {
     "data": {
      "text/plain": [
       "array([0.34191781, 0.13454075, 0.        , 0.        , 0.31026948,\n",
       "       0.51929825])"
      ]
     },
     "execution_count": 145,
     "metadata": {},
     "output_type": "execute_result"
    }
   ],
   "source": [
    "skme.f1_score(preg_label_test,y_kmeans_preg_act_test,average=None)"
   ]
  },
  {
   "cell_type": "markdown",
   "metadata": {},
   "source": [
    "F1-Score"
   ]
  },
  {
   "cell_type": "markdown",
   "metadata": {},
   "source": [
    "### ANN"
   ]
  },
  {
   "cell_type": "code",
   "execution_count": 146,
   "metadata": {},
   "outputs": [],
   "source": [
    "def six_to_one(test_result):\n",
    "    ddd = test_result[:,:6].argmax(1) + 1\n",
    "    return ddd"
   ]
  },
  {
   "cell_type": "markdown",
   "metadata": {},
   "source": [
    "Convert the labels with 6 columns to one. "
   ]
  },
  {
   "cell_type": "code",
   "execution_count": 147,
   "metadata": {},
   "outputs": [],
   "source": [
    "male_label_train_ann = pd.get_dummies(male_label_train, dtype='int')\n",
    "male_label_test_ann = pd.get_dummies(male_label_test, dtype='int')\n",
    "\n",
    "female_label_train_ann = pd.get_dummies(female_label_train, dtype='int')\n",
    "female_label_test_ann = pd.get_dummies(female_label_test, dtype='int')\n",
    "\n",
    "preg_label_train_ann = pd.get_dummies(preg_label_train, dtype='int')\n",
    "preg_label_test_ann = pd.get_dummies(preg_label_test, dtype='int')"
   ]
  },
  {
   "cell_type": "markdown",
   "metadata": {},
   "source": [
    "Process the labels. "
   ]
  },
  {
   "cell_type": "markdown",
   "metadata": {},
   "source": [
    "Male"
   ]
  },
  {
   "cell_type": "code",
   "execution_count": 148,
   "metadata": {},
   "outputs": [
    {
     "name": "stderr",
     "output_type": "stream",
     "text": [
      "2023-12-05 10:42:41.504013: I tensorflow/core/common_runtime/gpu/gpu_device.cc:1638] Created device /job:localhost/replica:0/task:0/device:GPU:0 with 13797 MB memory:  -> device: 0, name: Tesla T4, pci bus id: 0000:61:00.0, compute capability: 7.5\n"
     ]
    }
   ],
   "source": [
    "ann_male = tf.keras.models.Sequential()"
   ]
  },
  {
   "cell_type": "markdown",
   "metadata": {},
   "source": [
    "Init the model. "
   ]
  },
  {
   "cell_type": "code",
   "execution_count": 149,
   "metadata": {},
   "outputs": [],
   "source": [
    "ann_male.add(tf.keras.layers.Dense(units=8, activation='relu'))\n",
    "ann_male.add(tf.keras.layers.Dropout(.3))\n",
    "ann_male.add(tf.keras.layers.Dense(units=20, activation='relu'))\n",
    "ann_male.add(tf.keras.layers.Dense(units=6, activation='softmax'))"
   ]
  },
  {
   "cell_type": "markdown",
   "metadata": {},
   "source": [
    "Add layers. "
   ]
  },
  {
   "cell_type": "code",
   "execution_count": 150,
   "metadata": {},
   "outputs": [],
   "source": [
    "adam1 = tf.keras.optimizers.Adam(\n",
    "    learning_rate=0.001,\n",
    "    weight_decay=0.004,\n",
    "    beta_1=0.9,\n",
    "    beta_2=0.999,\n",
    "    epsilon=1e-07,\n",
    "    amsgrad=False,\n",
    "    clipnorm=None,\n",
    "    clipvalue=None,\n",
    "    global_clipnorm=None,\n",
    "    use_ema=False,\n",
    "    ema_momentum=0.99,\n",
    "    ema_overwrite_frequency=None,\n",
    "    jit_compile=True,\n",
    "    name='adam1',\n",
    ")\n",
    "\n",
    "ann_male.compile(optimizer = adam1, loss = 'CategoricalCrossentropy', metrics = ['accuracy'])"
   ]
  },
  {
   "cell_type": "markdown",
   "metadata": {},
   "source": [
    "Tune the optimizer"
   ]
  },
  {
   "cell_type": "code",
   "execution_count": 151,
   "metadata": {},
   "outputs": [
    {
     "name": "stdout",
     "output_type": "stream",
     "text": [
      "Model: \"sequential\"\n",
      "_________________________________________________________________\n",
      " Layer (type)                Output Shape              Param #   \n",
      "=================================================================\n",
      " dense (Dense)               (None, 8)                 20216     \n",
      "                                                                 \n",
      " dropout (Dropout)           (None, 8)                 0         \n",
      "                                                                 \n",
      " dense_1 (Dense)             (None, 20)                180       \n",
      "                                                                 \n",
      " dense_2 (Dense)             (None, 6)                 126       \n",
      "                                                                 \n",
      "=================================================================\n",
      "Total params: 20,522\n",
      "Trainable params: 20,522\n",
      "Non-trainable params: 0\n",
      "_________________________________________________________________\n"
     ]
    }
   ],
   "source": [
    "ann_male.build((None,2526))\n",
    "ann_male.summary()"
   ]
  },
  {
   "cell_type": "markdown",
   "metadata": {},
   "source": [
    "Summary of model ann_female. "
   ]
  },
  {
   "cell_type": "code",
   "execution_count": 152,
   "metadata": {},
   "outputs": [
    {
     "name": "stdout",
     "output_type": "stream",
     "text": [
      "Epoch 1/40\n"
     ]
    },
    {
     "name": "stderr",
     "output_type": "stream",
     "text": [
      "2023-12-05 10:42:42.942236: I tensorflow/compiler/xla/service/service.cc:169] XLA service 0x7f999c804f90 initialized for platform CUDA (this does not guarantee that XLA will be used). Devices:\n",
      "2023-12-05 10:42:42.942272: I tensorflow/compiler/xla/service/service.cc:177]   StreamExecutor device (0): Tesla T4, Compute Capability 7.5\n",
      "2023-12-05 10:42:42.946401: I tensorflow/compiler/mlir/tensorflow/utils/dump_mlir_util.cc:269] disabling MLIR crash reproducer, set env var `MLIR_CRASH_REPRODUCER_DIRECTORY` to enable.\n",
      "2023-12-05 10:42:42.962997: I tensorflow/compiler/xla/stream_executor/cuda/cuda_dnn.cc:424] Loaded cuDNN version 8901\n",
      "2023-12-05 10:42:43.086796: I ./tensorflow/compiler/jit/device_compiler.h:180] Compiled cluster using XLA!  This line is logged at most once for the lifetime of the process.\n"
     ]
    },
    {
     "name": "stdout",
     "output_type": "stream",
     "text": [
      "425/425 [==============================] - 3s 4ms/step - loss: 0.7422 - accuracy: 0.7422\n",
      "Epoch 2/40\n",
      "425/425 [==============================] - 2s 4ms/step - loss: 0.3754 - accuracy: 0.8815\n",
      "Epoch 3/40\n",
      "425/425 [==============================] - 2s 4ms/step - loss: 0.2719 - accuracy: 0.9058\n",
      "Epoch 4/40\n",
      "425/425 [==============================] - 2s 4ms/step - loss: 0.2722 - accuracy: 0.9154\n",
      "Epoch 5/40\n",
      "425/425 [==============================] - 2s 4ms/step - loss: 0.2100 - accuracy: 0.9274\n",
      "Epoch 6/40\n",
      "425/425 [==============================] - 2s 4ms/step - loss: 0.2130 - accuracy: 0.9325\n",
      "Epoch 7/40\n",
      "425/425 [==============================] - 2s 4ms/step - loss: 0.1694 - accuracy: 0.9453\n",
      "Epoch 8/40\n",
      "425/425 [==============================] - 2s 4ms/step - loss: 0.1756 - accuracy: 0.9477\n",
      "Epoch 9/40\n",
      "425/425 [==============================] - 2s 4ms/step - loss: 0.1704 - accuracy: 0.9488\n",
      "Epoch 10/40\n",
      "425/425 [==============================] - 2s 4ms/step - loss: 0.1540 - accuracy: 0.9562\n",
      "Epoch 11/40\n",
      "425/425 [==============================] - 2s 4ms/step - loss: 0.1434 - accuracy: 0.9571\n",
      "Epoch 12/40\n",
      "425/425 [==============================] - 2s 4ms/step - loss: 0.1403 - accuracy: 0.9569\n",
      "Epoch 13/40\n",
      "425/425 [==============================] - 2s 4ms/step - loss: 0.1363 - accuracy: 0.9593\n",
      "Epoch 14/40\n",
      "425/425 [==============================] - 2s 4ms/step - loss: 0.1306 - accuracy: 0.9625\n",
      "Epoch 15/40\n",
      "425/425 [==============================] - 2s 4ms/step - loss: 0.1278 - accuracy: 0.9589\n",
      "Epoch 16/40\n",
      "425/425 [==============================] - 2s 4ms/step - loss: 0.1642 - accuracy: 0.9607\n",
      "Epoch 17/40\n",
      "425/425 [==============================] - 2s 4ms/step - loss: 0.1483 - accuracy: 0.9599\n",
      "Epoch 18/40\n",
      "425/425 [==============================] - 2s 4ms/step - loss: 0.1236 - accuracy: 0.9622\n",
      "Epoch 19/40\n",
      "425/425 [==============================] - 2s 4ms/step - loss: 0.1182 - accuracy: 0.9652\n",
      "Epoch 20/40\n",
      "425/425 [==============================] - 2s 4ms/step - loss: 0.1168 - accuracy: 0.9618\n",
      "Epoch 21/40\n",
      "425/425 [==============================] - 2s 4ms/step - loss: 0.1214 - accuracy: 0.9629\n",
      "Epoch 22/40\n",
      "425/425 [==============================] - 2s 4ms/step - loss: 0.1108 - accuracy: 0.9646\n",
      "Epoch 23/40\n",
      "425/425 [==============================] - 2s 4ms/step - loss: 0.1092 - accuracy: 0.9649\n",
      "Epoch 24/40\n",
      "425/425 [==============================] - 2s 4ms/step - loss: 0.1064 - accuracy: 0.9656\n",
      "Epoch 25/40\n",
      "425/425 [==============================] - 2s 4ms/step - loss: 0.1091 - accuracy: 0.9649\n",
      "Epoch 26/40\n",
      "425/425 [==============================] - 2s 4ms/step - loss: 0.1136 - accuracy: 0.9641\n",
      "Epoch 27/40\n",
      "425/425 [==============================] - 2s 4ms/step - loss: 0.1185 - accuracy: 0.9635\n",
      "Epoch 28/40\n",
      "425/425 [==============================] - 2s 4ms/step - loss: 0.1105 - accuracy: 0.9649\n",
      "Epoch 29/40\n",
      "425/425 [==============================] - 2s 4ms/step - loss: 0.1135 - accuracy: 0.9654\n",
      "Epoch 30/40\n",
      "425/425 [==============================] - 2s 4ms/step - loss: 0.1089 - accuracy: 0.9651\n",
      "Epoch 31/40\n",
      "425/425 [==============================] - 2s 4ms/step - loss: 0.1154 - accuracy: 0.9660\n",
      "Epoch 32/40\n",
      "425/425 [==============================] - 2s 4ms/step - loss: 0.1165 - accuracy: 0.9663\n",
      "Epoch 33/40\n",
      "425/425 [==============================] - 2s 4ms/step - loss: 0.1140 - accuracy: 0.9659\n",
      "Epoch 34/40\n",
      "425/425 [==============================] - 2s 4ms/step - loss: 0.0995 - accuracy: 0.9688\n",
      "Epoch 35/40\n",
      "425/425 [==============================] - 2s 4ms/step - loss: 0.0994 - accuracy: 0.9688\n",
      "Epoch 36/40\n",
      "425/425 [==============================] - 2s 4ms/step - loss: 0.1091 - accuracy: 0.9668\n",
      "Epoch 37/40\n",
      "425/425 [==============================] - 2s 4ms/step - loss: 0.1108 - accuracy: 0.9668\n",
      "Epoch 38/40\n",
      "425/425 [==============================] - 2s 4ms/step - loss: 0.1041 - accuracy: 0.9673\n",
      "Epoch 39/40\n",
      "425/425 [==============================] - 2s 4ms/step - loss: 0.1083 - accuracy: 0.9675\n",
      "Epoch 40/40\n",
      "425/425 [==============================] - 2s 4ms/step - loss: 0.1010 - accuracy: 0.9694\n"
     ]
    },
    {
     "data": {
      "text/plain": [
       "<keras.callbacks.History at 0x7f9b6098f160>"
      ]
     },
     "execution_count": 152,
     "metadata": {},
     "output_type": "execute_result"
    }
   ],
   "source": [
    "ann_male.fit(male_train_scaled, male_label_train_ann, batch_size = 32, epochs = 40)"
   ]
  },
  {
   "cell_type": "code",
   "execution_count": 153,
   "metadata": {},
   "outputs": [
    {
     "name": "stdout",
     "output_type": "stream",
     "text": [
      "107/107 [==============================] - 0s 2ms/step - loss: 0.0137 - accuracy: 0.9991\n"
     ]
    },
    {
     "data": {
      "text/plain": [
       "[0.013730133883655071, 0.999116063117981]"
      ]
     },
     "execution_count": 153,
     "metadata": {},
     "output_type": "execute_result"
    }
   ],
   "source": [
    "ann_male.evaluate(male_test_scaled, male_label_test_ann)"
   ]
  },
  {
   "cell_type": "code",
   "execution_count": 154,
   "metadata": {},
   "outputs": [
    {
     "name": "stdout",
     "output_type": "stream",
     "text": [
      "107/107 [==============================] - 0s 1ms/step\n"
     ]
    }
   ],
   "source": [
    "test = ann_male.predict(male_test_scaled)"
   ]
  },
  {
   "cell_type": "code",
   "execution_count": 155,
   "metadata": {},
   "outputs": [],
   "source": [
    "y_ann_male_test = six_to_one(test)"
   ]
  },
  {
   "cell_type": "code",
   "execution_count": 156,
   "metadata": {},
   "outputs": [
    {
     "data": {
      "image/png": "[encoded data removed]",
      "text/plain": [
       "<Figure size 640x480 with 2 Axes>"
      ]
     },
     "metadata": {},
     "output_type": "display_data"
    }
   ],
   "source": [
    "cm_ann_male = skme.confusion_matrix(male_label_test,y_ann_male_test)\n",
    "\n",
    "sns.heatmap(cm_ann_male,annot=True,fmt='g',xticklabels=[1,2,3,4,5,6],yticklabels=[1,2,3,4,5,6])\n",
    "plt.ylabel('Prediction',fontsize=13)\n",
    "plt.xlabel('Actual',fontsize=13)\n",
    "plt.title('Confusion Matrix',fontsize=17)\n",
    "plt.show()"
   ]
  },
  {
   "cell_type": "markdown",
   "metadata": {},
   "source": [
    "Confusion matrix"
   ]
  },
  {
   "cell_type": "code",
   "execution_count": 157,
   "metadata": {},
   "outputs": [
    {
     "data": {
      "text/plain": [
       "array([0.9981982 , 0.99821747, 1.        , 1.        , 1.        ,\n",
       "       0.99831366])"
      ]
     },
     "execution_count": 157,
     "metadata": {},
     "output_type": "execute_result"
    }
   ],
   "source": [
    "skme.recall_score(male_label_test,y_ann_male_test,average=None)"
   ]
  },
  {
   "cell_type": "markdown",
   "metadata": {},
   "source": [
    "Sensitivity"
   ]
  },
  {
   "cell_type": "code",
   "execution_count": 158,
   "metadata": {},
   "outputs": [
    {
     "data": {
      "text/plain": [
       "0.9963816654915466"
      ]
     },
     "execution_count": 158,
     "metadata": {},
     "output_type": "execute_result"
    }
   ],
   "source": [
    "skme.homogeneity_score(male_label_test,y_ann_male_test)"
   ]
  },
  {
   "cell_type": "markdown",
   "metadata": {},
   "source": [
    "Homogeneity"
   ]
  },
  {
   "cell_type": "code",
   "execution_count": 159,
   "metadata": {},
   "outputs": [
    {
     "data": {
      "text/plain": [
       "0.9963766372666519"
      ]
     },
     "execution_count": 159,
     "metadata": {},
     "output_type": "execute_result"
    }
   ],
   "source": [
    "skme.completeness_score(male_label_test,y_ann_male_test)"
   ]
  },
  {
   "cell_type": "markdown",
   "metadata": {},
   "source": [
    "Completeness"
   ]
  },
  {
   "cell_type": "code",
   "execution_count": 160,
   "metadata": {},
   "outputs": [
    {
     "data": {
      "text/plain": [
       "array([1.        , 1.        , 1.        , 0.99642857, 0.99825175,\n",
       "       1.        ])"
      ]
     },
     "execution_count": 160,
     "metadata": {},
     "output_type": "execute_result"
    }
   ],
   "source": [
    "skme.precision_score(male_label_test,y_ann_male_test,average=None)"
   ]
  },
  {
   "cell_type": "markdown",
   "metadata": {},
   "source": [
    "Precision"
   ]
  },
  {
   "cell_type": "code",
   "execution_count": 161,
   "metadata": {},
   "outputs": [
    {
     "data": {
      "text/plain": [
       "array([0.69482976, 0.        , 0.47491249, 0.02792321, 0.4350979 ,\n",
       "       0.66666667])"
      ]
     },
     "execution_count": 161,
     "metadata": {},
     "output_type": "execute_result"
    }
   ],
   "source": [
    "skme.f1_score(male_label_test,y_kmeans_male_act_test,average=None)"
   ]
  },
  {
   "cell_type": "markdown",
   "metadata": {},
   "source": [
    "F1-Score"
   ]
  },
  {
   "cell_type": "code",
   "execution_count": 162,
   "metadata": {},
   "outputs": [
    {
     "name": "stdout",
     "output_type": "stream",
     "text": [
      "1/1 [==============================] - 0s 20ms/step\n"
     ]
    },
    {
     "data": {
      "text/plain": [
       "array([6, 6])"
      ]
     },
     "execution_count": 162,
     "metadata": {},
     "output_type": "execute_result"
    }
   ],
   "source": [
    "six_to_one(ann_male.predict(sss))"
   ]
  },
  {
   "cell_type": "markdown",
   "metadata": {},
   "source": [
    "Try with one record. "
   ]
  },
  {
   "cell_type": "code",
   "execution_count": 193,
   "metadata": {},
   "outputs": [],
   "source": [
    "ann_male.save_weights('./ann_male')"
   ]
  },
  {
   "cell_type": "markdown",
   "metadata": {},
   "source": [
    "Save the model. "
   ]
  },
  {
   "cell_type": "markdown",
   "metadata": {},
   "source": [
    "Female"
   ]
  },
  {
   "cell_type": "code",
   "execution_count": 163,
   "metadata": {},
   "outputs": [],
   "source": [
    "ann_female = tf.keras.models.Sequential()"
   ]
  },
  {
   "cell_type": "markdown",
   "metadata": {},
   "source": [
    "Init the model. "
   ]
  },
  {
   "cell_type": "code",
   "execution_count": 164,
   "metadata": {},
   "outputs": [],
   "source": [
    "ann_female.add(tf.keras.layers.Dense(units=8, activation='relu'))\n",
    "ann_female.add(tf.keras.layers.Dropout(.3))\n",
    "ann_female.add(tf.keras.layers.Dense(units=20, activation='relu'))\n",
    "ann_female.add(tf.keras.layers.Dense(units=6, activation='softmax'))"
   ]
  },
  {
   "cell_type": "markdown",
   "metadata": {},
   "source": [
    "Add layers."
   ]
  },
  {
   "cell_type": "code",
   "execution_count": 165,
   "metadata": {},
   "outputs": [],
   "source": [
    "adam2 = tf.keras.optimizers.Adam(\n",
    "    learning_rate=0.001,\n",
    "    weight_decay=0.004,\n",
    "    beta_1=0.9,\n",
    "    beta_2=0.999,\n",
    "    epsilon=1e-07,\n",
    "    amsgrad=False,\n",
    "    clipnorm=None,\n",
    "    clipvalue=None,\n",
    "    global_clipnorm=None,\n",
    "    use_ema=False,\n",
    "    ema_momentum=0.99,\n",
    "    ema_overwrite_frequency=None,\n",
    "    jit_compile=True,\n",
    "    name='adam1',\n",
    ")\n",
    "\n",
    "ann_female.compile(optimizer = adam2, loss = 'CategoricalCrossentropy', metrics = ['accuracy'])"
   ]
  },
  {
   "cell_type": "markdown",
   "metadata": {},
   "source": [
    "Tune the optimizer"
   ]
  },
  {
   "cell_type": "code",
   "execution_count": 166,
   "metadata": {},
   "outputs": [
    {
     "name": "stdout",
     "output_type": "stream",
     "text": [
      "Model: \"sequential_1\"\n",
      "_________________________________________________________________\n",
      " Layer (type)                Output Shape              Param #   \n",
      "=================================================================\n",
      " dense_3 (Dense)             (None, 8)                 20144     \n",
      "                                                                 \n",
      " dropout_1 (Dropout)         (None, 8)                 0         \n",
      "                                                                 \n",
      " dense_4 (Dense)             (None, 20)                180       \n",
      "                                                                 \n",
      " dense_5 (Dense)             (None, 6)                 126       \n",
      "                                                                 \n",
      "=================================================================\n",
      "Total params: 20,450\n",
      "Trainable params: 20,450\n",
      "Non-trainable params: 0\n",
      "_________________________________________________________________\n"
     ]
    }
   ],
   "source": [
    "ann_female.build((None,2517))\n",
    "ann_female.summary()"
   ]
  },
  {
   "cell_type": "markdown",
   "metadata": {},
   "source": [
    "Summary of model ann_female. "
   ]
  },
  {
   "cell_type": "code",
   "execution_count": 167,
   "metadata": {},
   "outputs": [
    {
     "name": "stdout",
     "output_type": "stream",
     "text": [
      "Epoch 1/40\n",
      "425/425 [==============================] - 3s 4ms/step - loss: 0.9468 - accuracy: 0.6877\n",
      "Epoch 2/40\n",
      "425/425 [==============================] - 2s 4ms/step - loss: 0.4203 - accuracy: 0.8820\n",
      "Epoch 3/40\n",
      "425/425 [==============================] - 2s 4ms/step - loss: 0.2724 - accuracy: 0.9112\n",
      "Epoch 4/40\n",
      "425/425 [==============================] - 2s 4ms/step - loss: 0.2223 - accuracy: 0.9304\n",
      "Epoch 5/40\n",
      "425/425 [==============================] - 2s 4ms/step - loss: 0.1972 - accuracy: 0.9389\n",
      "Epoch 6/40\n",
      "425/425 [==============================] - 2s 4ms/step - loss: 0.2010 - accuracy: 0.9440\n",
      "Epoch 7/40\n",
      "425/425 [==============================] - 2s 4ms/step - loss: 0.1523 - accuracy: 0.9561\n",
      "Epoch 8/40\n",
      "425/425 [==============================] - 2s 4ms/step - loss: 0.1566 - accuracy: 0.9570\n",
      "Epoch 9/40\n",
      "425/425 [==============================] - 2s 4ms/step - loss: 0.1334 - accuracy: 0.9645\n",
      "Epoch 10/40\n",
      "425/425 [==============================] - 2s 4ms/step - loss: 0.1281 - accuracy: 0.9678\n",
      "Epoch 11/40\n",
      "425/425 [==============================] - 2s 4ms/step - loss: 0.1332 - accuracy: 0.9684\n",
      "Epoch 12/40\n",
      "425/425 [==============================] - 2s 4ms/step - loss: 0.1253 - accuracy: 0.9705\n",
      "Epoch 13/40\n",
      "425/425 [==============================] - 2s 4ms/step - loss: 0.1152 - accuracy: 0.9715\n",
      "Epoch 14/40\n",
      "425/425 [==============================] - 2s 4ms/step - loss: 0.1067 - accuracy: 0.9746\n",
      "Epoch 15/40\n",
      "425/425 [==============================] - 2s 4ms/step - loss: 0.0991 - accuracy: 0.9767\n",
      "Epoch 16/40\n",
      "425/425 [==============================] - 2s 4ms/step - loss: 0.0980 - accuracy: 0.9778\n",
      "Epoch 17/40\n",
      "425/425 [==============================] - 2s 4ms/step - loss: 0.1049 - accuracy: 0.9752\n",
      "Epoch 18/40\n",
      "425/425 [==============================] - 2s 4ms/step - loss: 0.0847 - accuracy: 0.9820\n",
      "Epoch 19/40\n",
      "425/425 [==============================] - 2s 4ms/step - loss: 0.0884 - accuracy: 0.9807\n",
      "Epoch 20/40\n",
      "425/425 [==============================] - 2s 4ms/step - loss: 0.0946 - accuracy: 0.9792\n",
      "Epoch 21/40\n",
      "425/425 [==============================] - 2s 4ms/step - loss: 0.0898 - accuracy: 0.9798\n",
      "Epoch 22/40\n",
      "425/425 [==============================] - 2s 4ms/step - loss: 0.0943 - accuracy: 0.9797\n",
      "Epoch 23/40\n",
      "425/425 [==============================] - 2s 4ms/step - loss: 0.0867 - accuracy: 0.9803\n",
      "Epoch 24/40\n",
      "425/425 [==============================] - 2s 4ms/step - loss: 0.0839 - accuracy: 0.9815\n",
      "Epoch 25/40\n",
      "425/425 [==============================] - 2s 4ms/step - loss: 0.0819 - accuracy: 0.9826\n",
      "Epoch 26/40\n",
      "425/425 [==============================] - 2s 4ms/step - loss: 0.0833 - accuracy: 0.9824\n",
      "Epoch 27/40\n",
      "425/425 [==============================] - 2s 4ms/step - loss: 0.0820 - accuracy: 0.9827\n",
      "Epoch 28/40\n",
      "425/425 [==============================] - 2s 4ms/step - loss: 0.0764 - accuracy: 0.9840\n",
      "Epoch 29/40\n",
      "425/425 [==============================] - 2s 4ms/step - loss: 0.0794 - accuracy: 0.9821\n",
      "Epoch 30/40\n",
      "425/425 [==============================] - 2s 4ms/step - loss: 0.0768 - accuracy: 0.9831\n",
      "Epoch 31/40\n",
      "425/425 [==============================] - 2s 4ms/step - loss: 0.0744 - accuracy: 0.9839\n",
      "Epoch 32/40\n",
      "425/425 [==============================] - 2s 4ms/step - loss: 0.0803 - accuracy: 0.9840\n",
      "Epoch 33/40\n",
      "425/425 [==============================] - 2s 4ms/step - loss: 0.0852 - accuracy: 0.9830\n",
      "Epoch 34/40\n",
      "425/425 [==============================] - 2s 4ms/step - loss: 0.0826 - accuracy: 0.9826\n",
      "Epoch 35/40\n",
      "425/425 [==============================] - 2s 4ms/step - loss: 0.0823 - accuracy: 0.9829\n",
      "Epoch 36/40\n",
      "425/425 [==============================] - 2s 4ms/step - loss: 0.0736 - accuracy: 0.9831\n",
      "Epoch 37/40\n",
      "425/425 [==============================] - 2s 4ms/step - loss: 0.0679 - accuracy: 0.9863\n",
      "Epoch 38/40\n",
      "425/425 [==============================] - 2s 4ms/step - loss: 0.0719 - accuracy: 0.9859\n",
      "Epoch 39/40\n",
      "425/425 [==============================] - 2s 4ms/step - loss: 0.0714 - accuracy: 0.9838\n",
      "Epoch 40/40\n",
      "425/425 [==============================] - 2s 4ms/step - loss: 0.0646 - accuracy: 0.9860\n"
     ]
    },
    {
     "data": {
      "text/plain": [
       "<keras.callbacks.History at 0x7f9b641d9360>"
      ]
     },
     "execution_count": 167,
     "metadata": {},
     "output_type": "execute_result"
    }
   ],
   "source": [
    "ann_female.fit(female_train_scaled, female_label_train_ann, batch_size = 32, epochs = 40)"
   ]
  },
  {
   "cell_type": "markdown",
   "metadata": {},
   "source": [
    "Train the model"
   ]
  },
  {
   "cell_type": "code",
   "execution_count": 168,
   "metadata": {},
   "outputs": [
    {
     "name": "stdout",
     "output_type": "stream",
     "text": [
      "107/107 [==============================] - 0s 2ms/step - loss: 0.0109 - accuracy: 0.9994\n"
     ]
    },
    {
     "data": {
      "text/plain": [
       "[0.010870847851037979, 0.999411404132843]"
      ]
     },
     "execution_count": 168,
     "metadata": {},
     "output_type": "execute_result"
    }
   ],
   "source": [
    "ann_female.evaluate(female_test_scaled, female_label_test_ann)"
   ]
  },
  {
   "cell_type": "markdown",
   "metadata": {},
   "source": [
    "Evaluate the accuracy. "
   ]
  },
  {
   "cell_type": "code",
   "execution_count": 169,
   "metadata": {},
   "outputs": [
    {
     "name": "stdout",
     "output_type": "stream",
     "text": [
      "107/107 [==============================] - 0s 1ms/step\n"
     ]
    }
   ],
   "source": [
    "res_fem = ann_female.predict(female_test_scaled)"
   ]
  },
  {
   "cell_type": "code",
   "execution_count": 170,
   "metadata": {},
   "outputs": [],
   "source": [
    "y_ann_female_test = six_to_one(res_fem)"
   ]
  },
  {
   "cell_type": "markdown",
   "metadata": {},
   "source": [
    "Reverse the get_dummy."
   ]
  },
  {
   "cell_type": "code",
   "execution_count": 171,
   "metadata": {},
   "outputs": [
    {
     "data": {
      "image/png": "[encoded data removed]",
      "text/plain": [
       "<Figure size 640x480 with 2 Axes>"
      ]
     },
     "metadata": {},
     "output_type": "display_data"
    }
   ],
   "source": [
    "cm_ann_female = skme.confusion_matrix(female_label_test,y_ann_female_test)\n",
    "\n",
    "sns.heatmap(cm_ann_female,annot=True,fmt='g',xticklabels=[1,2,3,4,5,6],yticklabels=[1,2,3,4,5,6])\n",
    "plt.ylabel('Prediction',fontsize=13)\n",
    "plt.xlabel('Actual',fontsize=13)\n",
    "plt.title('Confusion Matrix',fontsize=17)\n",
    "plt.show()"
   ]
  },
  {
   "cell_type": "markdown",
   "metadata": {},
   "source": [
    "Confusion matrix"
   ]
  },
  {
   "cell_type": "code",
   "execution_count": 172,
   "metadata": {},
   "outputs": [
    {
     "data": {
      "text/plain": [
       "array([1.        , 1.        , 1.        , 0.99824253, 1.        ,\n",
       "       0.99829932])"
      ]
     },
     "execution_count": 172,
     "metadata": {},
     "output_type": "execute_result"
    }
   ],
   "source": [
    "skme.recall_score(female_label_test,y_ann_female_test,average=None)"
   ]
  },
  {
   "cell_type": "markdown",
   "metadata": {},
   "source": [
    "Sensitivity"
   ]
  },
  {
   "cell_type": "code",
   "execution_count": 173,
   "metadata": {},
   "outputs": [
    {
     "data": {
      "text/plain": [
       "0.997593672413743"
      ]
     },
     "execution_count": 173,
     "metadata": {},
     "output_type": "execute_result"
    }
   ],
   "source": [
    "skme.homogeneity_score(female_label_test,y_ann_female_test)"
   ]
  },
  {
   "cell_type": "markdown",
   "metadata": {},
   "source": [
    "Homogeneity"
   ]
  },
  {
   "cell_type": "code",
   "execution_count": 174,
   "metadata": {},
   "outputs": [
    {
     "data": {
      "text/plain": [
       "0.9975818158559072"
      ]
     },
     "execution_count": 174,
     "metadata": {},
     "output_type": "execute_result"
    }
   ],
   "source": [
    "skme.completeness_score(female_label_test,y_ann_female_test)"
   ]
  },
  {
   "cell_type": "markdown",
   "metadata": {},
   "source": [
    "Completeness"
   ]
  },
  {
   "cell_type": "code",
   "execution_count": 175,
   "metadata": {},
   "outputs": [
    {
     "data": {
      "text/plain": [
       "array([1.        , 1.        , 0.99817185, 0.99824253, 1.        ,\n",
       "       1.        ])"
      ]
     },
     "execution_count": 175,
     "metadata": {},
     "output_type": "execute_result"
    }
   ],
   "source": [
    "skme.precision_score(female_label_test,y_ann_female_test,average=None)"
   ]
  },
  {
   "cell_type": "markdown",
   "metadata": {},
   "source": [
    "Precision"
   ]
  },
  {
   "cell_type": "code",
   "execution_count": 176,
   "metadata": {},
   "outputs": [
    {
     "data": {
      "text/plain": [
       "array([1.        , 1.        , 0.99908509, 0.99824253, 1.        ,\n",
       "       0.99914894])"
      ]
     },
     "execution_count": 176,
     "metadata": {},
     "output_type": "execute_result"
    }
   ],
   "source": [
    "skme.f1_score(female_label_test,y_ann_female_test,average=None)"
   ]
  },
  {
   "cell_type": "markdown",
   "metadata": {},
   "source": [
    "F1-Score"
   ]
  },
  {
   "cell_type": "code",
   "execution_count": 192,
   "metadata": {},
   "outputs": [],
   "source": [
    "ann_female.save_weights('./ann_female')"
   ]
  },
  {
   "cell_type": "markdown",
   "metadata": {},
   "source": [
    "Pregnant"
   ]
  },
  {
   "cell_type": "code",
   "execution_count": 177,
   "metadata": {},
   "outputs": [],
   "source": [
    "ann_preg = tf.keras.models.Sequential()"
   ]
  },
  {
   "cell_type": "markdown",
   "metadata": {},
   "source": [
    "Init the model. "
   ]
  },
  {
   "cell_type": "code",
   "execution_count": 178,
   "metadata": {},
   "outputs": [],
   "source": [
    "ann_preg.add(tf.keras.layers.Dense(units=8, activation='relu'))\n",
    "ann_preg.add(tf.keras.layers.Dense(units=16, activation='relu'))\n",
    "\n",
    "# ann_preg.add(tf.keras.layers.Dropout(.1))\n",
    "\n",
    "\n",
    "ann_preg.add(tf.keras.layers.Dense(units=32, activation='relu'))\n",
    "ann_preg.add(tf.keras.layers.Dense(units=32, activation='relu'))\n",
    "ann_preg.add(tf.keras.layers.Dense(units=32, activation='relu'))\n",
    "\n",
    "ann_preg.add(tf.keras.layers.Dense(units=32, activation='relu'))\n",
    "ann_preg.add(tf.keras.layers.Dropout(.7))\n",
    "\n",
    "ann_preg.add(tf.keras.layers.Dense(units=6, activation='softmax'))"
   ]
  },
  {
   "cell_type": "markdown",
   "metadata": {},
   "source": [
    "Add layers"
   ]
  },
  {
   "cell_type": "code",
   "execution_count": 179,
   "metadata": {},
   "outputs": [],
   "source": [
    "adam3 = tf.keras.optimizers.Adam(\n",
    "    learning_rate=0.001,\n",
    "    weight_decay=0.004,\n",
    "    beta_1=0.9,\n",
    "    beta_2=0.999,\n",
    "    epsilon=1e-07,\n",
    "    amsgrad=False,\n",
    "    clipnorm=None,\n",
    "    clipvalue=None,\n",
    "    global_clipnorm=None,\n",
    "    use_ema=False,\n",
    "    ema_momentum=0.99,\n",
    "    ema_overwrite_frequency=None,\n",
    "    jit_compile=True,\n",
    "    name='adam3',\n",
    ")\n",
    "\n",
    "ann_preg.compile(optimizer = adam3, loss = 'CategoricalCrossentropy', metrics = ['accuracy'])"
   ]
  },
  {
   "cell_type": "markdown",
   "metadata": {},
   "source": [
    "Tune the hyperparameter"
   ]
  },
  {
   "cell_type": "code",
   "execution_count": 180,
   "metadata": {},
   "outputs": [
    {
     "name": "stdout",
     "output_type": "stream",
     "text": [
      "Model: \"sequential_2\"\n",
      "_________________________________________________________________\n",
      " Layer (type)                Output Shape              Param #   \n",
      "=================================================================\n",
      " dense_6 (Dense)             (None, 8)                 20144     \n",
      "                                                                 \n",
      " dense_7 (Dense)             (None, 16)                144       \n",
      "                                                                 \n",
      " dense_8 (Dense)             (None, 32)                544       \n",
      "                                                                 \n",
      " dense_9 (Dense)             (None, 32)                1056      \n",
      "                                                                 \n",
      " dense_10 (Dense)            (None, 32)                1056      \n",
      "                                                                 \n",
      " dense_11 (Dense)            (None, 32)                1056      \n",
      "                                                                 \n",
      " dropout_2 (Dropout)         (None, 32)                0         \n",
      "                                                                 \n",
      " dense_12 (Dense)            (None, 6)                 198       \n",
      "                                                                 \n",
      "=================================================================\n",
      "Total params: 24,198\n",
      "Trainable params: 24,198\n",
      "Non-trainable params: 0\n",
      "_________________________________________________________________\n"
     ]
    }
   ],
   "source": [
    "ann_preg.build((None, 2517))\n",
    "ann_preg.summary()"
   ]
  },
  {
   "cell_type": "markdown",
   "metadata": {},
   "source": [
    "Show the summary of the model. "
   ]
  },
  {
   "cell_type": "code",
   "execution_count": 181,
   "metadata": {},
   "outputs": [
    {
     "name": "stdout",
     "output_type": "stream",
     "text": [
      "Epoch 1/100\n",
      "213/213 [==============================] - 3s 5ms/step - loss: 1.1755 - accuracy: 0.4906\n",
      "Epoch 2/100\n",
      "213/213 [==============================] - 1s 5ms/step - loss: 0.3591 - accuracy: 0.8458\n",
      "Epoch 3/100\n",
      "213/213 [==============================] - 1s 5ms/step - loss: 0.2482 - accuracy: 0.8912\n",
      "Epoch 4/100\n",
      "213/213 [==============================] - 1s 5ms/step - loss: 0.2115 - accuracy: 0.8989\n",
      "Epoch 5/100\n",
      "213/213 [==============================] - 1s 5ms/step - loss: 0.1899 - accuracy: 0.9026\n",
      "Epoch 6/100\n",
      "213/213 [==============================] - 1s 5ms/step - loss: 0.2220 - accuracy: 0.9040\n",
      "Epoch 7/100\n",
      "213/213 [==============================] - 1s 5ms/step - loss: 0.1692 - accuracy: 0.9132\n",
      "Epoch 8/100\n",
      "213/213 [==============================] - 1s 5ms/step - loss: 0.1684 - accuracy: 0.9106\n",
      "Epoch 9/100\n",
      "213/213 [==============================] - 1s 5ms/step - loss: 0.1581 - accuracy: 0.9171\n",
      "Epoch 10/100\n",
      "213/213 [==============================] - 1s 5ms/step - loss: 0.1728 - accuracy: 0.9194\n",
      "Epoch 11/100\n",
      "213/213 [==============================] - 1s 5ms/step - loss: 0.1618 - accuracy: 0.9189\n",
      "Epoch 12/100\n",
      "213/213 [==============================] - 1s 5ms/step - loss: 0.1646 - accuracy: 0.9190\n",
      "Epoch 13/100\n",
      "213/213 [==============================] - 1s 5ms/step - loss: 0.1659 - accuracy: 0.9199\n",
      "Epoch 14/100\n",
      "213/213 [==============================] - 1s 5ms/step - loss: 0.1431 - accuracy: 0.9266\n",
      "Epoch 15/100\n",
      "213/213 [==============================] - 1s 5ms/step - loss: 0.1447 - accuracy: 0.9263\n",
      "Epoch 16/100\n",
      "213/213 [==============================] - 1s 5ms/step - loss: 0.1393 - accuracy: 0.9304\n",
      "Epoch 17/100\n",
      "213/213 [==============================] - 1s 5ms/step - loss: 0.1422 - accuracy: 0.9290\n",
      "Epoch 18/100\n",
      "213/213 [==============================] - 1s 5ms/step - loss: 0.1325 - accuracy: 0.9349\n",
      "Epoch 19/100\n",
      "213/213 [==============================] - 1s 5ms/step - loss: 0.1331 - accuracy: 0.9344\n",
      "Epoch 20/100\n",
      "213/213 [==============================] - 1s 5ms/step - loss: 0.1438 - accuracy: 0.9326\n",
      "Epoch 21/100\n",
      "213/213 [==============================] - 1s 5ms/step - loss: 0.3107 - accuracy: 0.9199\n",
      "Epoch 22/100\n",
      "213/213 [==============================] - 1s 5ms/step - loss: 0.1814 - accuracy: 0.9265\n",
      "Epoch 23/100\n",
      "213/213 [==============================] - 1s 5ms/step - loss: 0.1953 - accuracy: 0.9314\n",
      "Epoch 24/100\n",
      "213/213 [==============================] - 1s 5ms/step - loss: 0.1593 - accuracy: 0.9317\n",
      "Epoch 25/100\n",
      "213/213 [==============================] - 1s 5ms/step - loss: 0.1512 - accuracy: 0.9349\n",
      "Epoch 26/100\n",
      "213/213 [==============================] - 1s 5ms/step - loss: 0.1471 - accuracy: 0.9374\n",
      "Epoch 27/100\n",
      "213/213 [==============================] - 1s 5ms/step - loss: 0.1437 - accuracy: 0.9403\n",
      "Epoch 28/100\n",
      "213/213 [==============================] - 1s 5ms/step - loss: 0.1374 - accuracy: 0.9441\n",
      "Epoch 29/100\n",
      "213/213 [==============================] - 1s 5ms/step - loss: 0.1453 - accuracy: 0.9422\n",
      "Epoch 30/100\n",
      "213/213 [==============================] - 1s 5ms/step - loss: 0.1448 - accuracy: 0.9412\n",
      "Epoch 31/100\n",
      "213/213 [==============================] - 1s 6ms/step - loss: 0.1648 - accuracy: 0.9381\n",
      "Epoch 32/100\n",
      "213/213 [==============================] - 1s 5ms/step - loss: 0.1388 - accuracy: 0.9431\n",
      "Epoch 33/100\n",
      "213/213 [==============================] - 1s 5ms/step - loss: 0.1418 - accuracy: 0.9432\n",
      "Epoch 34/100\n",
      "213/213 [==============================] - 1s 5ms/step - loss: 0.1427 - accuracy: 0.9419\n",
      "Epoch 35/100\n",
      "213/213 [==============================] - 1s 5ms/step - loss: 0.1375 - accuracy: 0.9463\n",
      "Epoch 36/100\n",
      "213/213 [==============================] - 1s 5ms/step - loss: 0.1375 - accuracy: 0.9443\n",
      "Epoch 37/100\n",
      "213/213 [==============================] - 1s 5ms/step - loss: 0.1455 - accuracy: 0.9413\n",
      "Epoch 38/100\n",
      "213/213 [==============================] - 1s 5ms/step - loss: 0.1353 - accuracy: 0.9449\n",
      "Epoch 39/100\n",
      "213/213 [==============================] - 1s 5ms/step - loss: 0.1839 - accuracy: 0.9411\n",
      "Epoch 40/100\n",
      "213/213 [==============================] - 1s 5ms/step - loss: 0.1368 - accuracy: 0.9475\n",
      "Epoch 41/100\n",
      "213/213 [==============================] - 1s 5ms/step - loss: 0.1316 - accuracy: 0.9482\n",
      "Epoch 42/100\n",
      "213/213 [==============================] - 1s 5ms/step - loss: 0.1465 - accuracy: 0.9481\n",
      "Epoch 43/100\n",
      "213/213 [==============================] - 1s 6ms/step - loss: 0.1348 - accuracy: 0.9468\n",
      "Epoch 44/100\n",
      "213/213 [==============================] - 1s 5ms/step - loss: 0.1306 - accuracy: 0.9491\n",
      "Epoch 45/100\n",
      "213/213 [==============================] - 1s 5ms/step - loss: 0.1253 - accuracy: 0.9528\n",
      "Epoch 46/100\n",
      "213/213 [==============================] - 1s 5ms/step - loss: 0.1290 - accuracy: 0.9492\n",
      "Epoch 47/100\n",
      "213/213 [==============================] - 1s 5ms/step - loss: 0.1322 - accuracy: 0.9475\n",
      "Epoch 48/100\n",
      "213/213 [==============================] - 1s 5ms/step - loss: 0.1297 - accuracy: 0.9472\n",
      "Epoch 49/100\n",
      "213/213 [==============================] - 1s 5ms/step - loss: 0.1227 - accuracy: 0.9502\n",
      "Epoch 50/100\n",
      "213/213 [==============================] - 1s 5ms/step - loss: 0.1278 - accuracy: 0.9494\n",
      "Epoch 51/100\n",
      "213/213 [==============================] - 1s 5ms/step - loss: 0.1271 - accuracy: 0.9514\n",
      "Epoch 52/100\n",
      "213/213 [==============================] - 1s 5ms/step - loss: 0.1365 - accuracy: 0.9441\n",
      "Epoch 53/100\n",
      "213/213 [==============================] - 1s 5ms/step - loss: 0.1302 - accuracy: 0.9486\n",
      "Epoch 54/100\n",
      "213/213 [==============================] - 1s 5ms/step - loss: 0.1327 - accuracy: 0.9462\n",
      "Epoch 55/100\n",
      "213/213 [==============================] - 1s 5ms/step - loss: 0.1270 - accuracy: 0.9476\n",
      "Epoch 56/100\n",
      "213/213 [==============================] - 1s 5ms/step - loss: 0.1595 - accuracy: 0.9461\n",
      "Epoch 57/100\n",
      "213/213 [==============================] - 1s 5ms/step - loss: 0.1509 - accuracy: 0.9399\n",
      "Epoch 58/100\n",
      "213/213 [==============================] - 1s 5ms/step - loss: 0.1506 - accuracy: 0.9439\n",
      "Epoch 59/100\n",
      "213/213 [==============================] - 1s 5ms/step - loss: 0.1383 - accuracy: 0.9442\n",
      "Epoch 60/100\n",
      "213/213 [==============================] - 1s 5ms/step - loss: 0.1291 - accuracy: 0.9470\n",
      "Epoch 61/100\n",
      "213/213 [==============================] - 1s 5ms/step - loss: 0.1370 - accuracy: 0.9457\n",
      "Epoch 62/100\n",
      "213/213 [==============================] - 1s 5ms/step - loss: 0.1303 - accuracy: 0.9496\n",
      "Epoch 63/100\n",
      "213/213 [==============================] - 1s 5ms/step - loss: 0.1321 - accuracy: 0.9466\n",
      "Epoch 64/100\n",
      "213/213 [==============================] - 1s 5ms/step - loss: 0.2594 - accuracy: 0.9416\n",
      "Epoch 65/100\n",
      "213/213 [==============================] - 1s 5ms/step - loss: 0.1384 - accuracy: 0.9474\n",
      "Epoch 66/100\n",
      "213/213 [==============================] - 1s 5ms/step - loss: 0.1345 - accuracy: 0.9484\n",
      "Epoch 67/100\n",
      "213/213 [==============================] - 1s 5ms/step - loss: 0.1331 - accuracy: 0.9475\n",
      "Epoch 68/100\n",
      "213/213 [==============================] - 1s 6ms/step - loss: 0.1261 - accuracy: 0.9510\n",
      "Epoch 69/100\n",
      "213/213 [==============================] - 1s 5ms/step - loss: 0.1323 - accuracy: 0.9480\n",
      "Epoch 70/100\n",
      "213/213 [==============================] - 1s 5ms/step - loss: 0.1312 - accuracy: 0.9487\n",
      "Epoch 71/100\n",
      "213/213 [==============================] - 1s 5ms/step - loss: 0.1332 - accuracy: 0.9477\n",
      "Epoch 72/100\n",
      "213/213 [==============================] - 1s 6ms/step - loss: 0.1249 - accuracy: 0.9506\n",
      "Epoch 73/100\n",
      "213/213 [==============================] - 1s 5ms/step - loss: 0.1227 - accuracy: 0.9534\n",
      "Epoch 74/100\n",
      "213/213 [==============================] - 1s 6ms/step - loss: 0.1306 - accuracy: 0.9497\n",
      "Epoch 75/100\n",
      "213/213 [==============================] - 1s 5ms/step - loss: 0.1289 - accuracy: 0.9506\n",
      "Epoch 76/100\n",
      "213/213 [==============================] - 1s 5ms/step - loss: 0.1231 - accuracy: 0.9499\n",
      "Epoch 77/100\n",
      "213/213 [==============================] - 1s 5ms/step - loss: 0.1242 - accuracy: 0.9500\n",
      "Epoch 78/100\n",
      "213/213 [==============================] - 1s 5ms/step - loss: 0.1401 - accuracy: 0.9445\n",
      "Epoch 79/100\n",
      "213/213 [==============================] - 1s 5ms/step - loss: 0.1324 - accuracy: 0.9445\n",
      "Epoch 80/100\n",
      "213/213 [==============================] - 1s 6ms/step - loss: 0.1313 - accuracy: 0.9481\n",
      "Epoch 81/100\n",
      "213/213 [==============================] - 1s 5ms/step - loss: 0.1271 - accuracy: 0.9481\n",
      "Epoch 82/100\n",
      "213/213 [==============================] - 1s 5ms/step - loss: 0.1343 - accuracy: 0.9462\n",
      "Epoch 83/100\n",
      "213/213 [==============================] - 1s 5ms/step - loss: 0.1366 - accuracy: 0.9439\n",
      "Epoch 84/100\n",
      "213/213 [==============================] - 1s 5ms/step - loss: 0.1623 - accuracy: 0.9395\n",
      "Epoch 85/100\n",
      "213/213 [==============================] - 1s 5ms/step - loss: 0.1257 - accuracy: 0.9513\n",
      "Epoch 86/100\n",
      "213/213 [==============================] - 1s 5ms/step - loss: 0.1252 - accuracy: 0.9514\n",
      "Epoch 87/100\n",
      "213/213 [==============================] - 1s 5ms/step - loss: 0.1305 - accuracy: 0.9475\n",
      "Epoch 88/100\n",
      "213/213 [==============================] - 1s 5ms/step - loss: 0.1477 - accuracy: 0.9493\n",
      "Epoch 89/100\n",
      "213/213 [==============================] - 1s 5ms/step - loss: 0.2746 - accuracy: 0.9425\n",
      "Epoch 90/100\n",
      "213/213 [==============================] - 1s 5ms/step - loss: 0.1414 - accuracy: 0.9442\n",
      "Epoch 91/100\n",
      "213/213 [==============================] - 1s 5ms/step - loss: 0.1421 - accuracy: 0.9475\n",
      "Epoch 92/100\n",
      "213/213 [==============================] - 1s 5ms/step - loss: 0.1321 - accuracy: 0.9470\n",
      "Epoch 93/100\n",
      "213/213 [==============================] - 1s 5ms/step - loss: 0.1902 - accuracy: 0.9351\n",
      "Epoch 94/100\n",
      "213/213 [==============================] - 1s 5ms/step - loss: 0.1969 - accuracy: 0.9380\n",
      "Epoch 95/100\n",
      "213/213 [==============================] - 1s 5ms/step - loss: 0.1382 - accuracy: 0.9433\n",
      "Epoch 96/100\n",
      "213/213 [==============================] - 1s 5ms/step - loss: 0.1323 - accuracy: 0.9464\n",
      "Epoch 97/100\n",
      "213/213 [==============================] - 1s 5ms/step - loss: 0.1376 - accuracy: 0.9423\n",
      "Epoch 98/100\n",
      "213/213 [==============================] - 1s 5ms/step - loss: 0.1330 - accuracy: 0.9460\n",
      "Epoch 99/100\n",
      "213/213 [==============================] - 1s 5ms/step - loss: 0.1366 - accuracy: 0.9441\n",
      "Epoch 100/100\n",
      "213/213 [==============================] - 1s 5ms/step - loss: 0.1360 - accuracy: 0.9454\n"
     ]
    },
    {
     "data": {
      "text/plain": [
       "<keras.callbacks.History at 0x7f9b661c5870>"
      ]
     },
     "execution_count": 181,
     "metadata": {},
     "output_type": "execute_result"
    }
   ],
   "source": [
    "ann_preg.fit(preg_train_scaled, preg_label_train_ann, batch_size = 64, epochs = 100)"
   ]
  },
  {
   "cell_type": "markdown",
   "metadata": {},
   "source": [
    "Train the model"
   ]
  },
  {
   "cell_type": "code",
   "execution_count": 182,
   "metadata": {},
   "outputs": [
    {
     "name": "stdout",
     "output_type": "stream",
     "text": [
      "107/107 [==============================] - 0s 2ms/step - loss: 0.0096 - accuracy: 0.9971\n"
     ]
    },
    {
     "data": {
      "text/plain": [
       "[0.009592972695827484, 0.9970570802688599]"
      ]
     },
     "execution_count": 182,
     "metadata": {},
     "output_type": "execute_result"
    }
   ],
   "source": [
    "ann_preg.evaluate(preg_test_scaled, preg_label_test_ann)"
   ]
  },
  {
   "cell_type": "code",
   "execution_count": 183,
   "metadata": {},
   "outputs": [
    {
     "name": "stdout",
     "output_type": "stream",
     "text": [
      "107/107 [==============================] - 0s 2ms/step\n"
     ]
    }
   ],
   "source": [
    "res_preg = ann_preg.predict(preg_test_scaled)"
   ]
  },
  {
   "cell_type": "markdown",
   "metadata": {},
   "source": [
    "Evaluate the accuracy. overfitting."
   ]
  },
  {
   "cell_type": "code",
   "execution_count": 184,
   "metadata": {},
   "outputs": [],
   "source": [
    "y_ann_preg_test = six_to_one(res_preg)"
   ]
  },
  {
   "cell_type": "markdown",
   "metadata": {},
   "source": [
    "Reverse the get_dummy. "
   ]
  },
  {
   "cell_type": "code",
   "execution_count": 185,
   "metadata": {},
   "outputs": [
    {
     "data": {
      "image/png": "[encoded data removed]",
      "text/plain": [
       "<Figure size 640x480 with 2 Axes>"
      ]
     },
     "metadata": {},
     "output_type": "display_data"
    }
   ],
   "source": [
    "cm_ann_preg = skme.confusion_matrix(preg_label_test,y_ann_preg_test)\n",
    "\n",
    "sns.heatmap(cm_ann_preg,annot=True,fmt='g',xticklabels=[1,2,3,4,5,6],yticklabels=[1,2,3,4,5,6])\n",
    "plt.ylabel('Prediction',fontsize=13)\n",
    "plt.xlabel('Actual',fontsize=13)\n",
    "plt.title('Confusion Matrix',fontsize=17)\n",
    "plt.show()"
   ]
  },
  {
   "cell_type": "markdown",
   "metadata": {},
   "source": [
    "Confusion matrix"
   ]
  },
  {
   "cell_type": "code",
   "execution_count": 186,
   "metadata": {},
   "outputs": [
    {
     "data": {
      "text/plain": [
       "array([0.99824561, 1.        , 1.        , 0.98769772, 1.        ,\n",
       "       0.99659864])"
      ]
     },
     "execution_count": 186,
     "metadata": {},
     "output_type": "execute_result"
    }
   ],
   "source": [
    "skme.recall_score(preg_label_test,y_ann_preg_test,average=None)"
   ]
  },
  {
   "cell_type": "markdown",
   "metadata": {},
   "source": [
    "Sensitivity"
   ]
  },
  {
   "cell_type": "code",
   "execution_count": 187,
   "metadata": {},
   "outputs": [
    {
     "data": {
      "text/plain": [
       "0.9898739844548626"
      ]
     },
     "execution_count": 187,
     "metadata": {},
     "output_type": "execute_result"
    }
   ],
   "source": [
    "skme.homogeneity_score(preg_label_test,y_ann_preg_test)"
   ]
  },
  {
   "cell_type": "markdown",
   "metadata": {},
   "source": [
    "Homogeneity"
   ]
  },
  {
   "cell_type": "code",
   "execution_count": 188,
   "metadata": {},
   "outputs": [
    {
     "data": {
      "text/plain": [
       "0.9899247092928891"
      ]
     },
     "execution_count": 188,
     "metadata": {},
     "output_type": "execute_result"
    }
   ],
   "source": [
    "skme.completeness_score(preg_label_test,y_ann_preg_test)"
   ]
  },
  {
   "cell_type": "markdown",
   "metadata": {},
   "source": [
    "Completeness"
   ]
  },
  {
   "cell_type": "code",
   "execution_count": 189,
   "metadata": {},
   "outputs": [
    {
     "data": {
      "text/plain": [
       "array([1.        , 1.        , 1.        , 1.        , 0.99320883,\n",
       "       0.98986486])"
      ]
     },
     "execution_count": 189,
     "metadata": {},
     "output_type": "execute_result"
    }
   ],
   "source": [
    "skme.precision_score(preg_label_test,y_ann_preg_test,average=None)"
   ]
  },
  {
   "cell_type": "markdown",
   "metadata": {},
   "source": [
    "Precision"
   ]
  },
  {
   "cell_type": "code",
   "execution_count": 190,
   "metadata": {},
   "outputs": [
    {
     "data": {
      "text/plain": [
       "array([0.99912204, 1.        , 1.        , 0.99381079, 0.99659284,\n",
       "       0.99322034])"
      ]
     },
     "execution_count": 190,
     "metadata": {},
     "output_type": "execute_result"
    }
   ],
   "source": [
    "skme.f1_score(preg_label_test,y_ann_preg_test,average=None)"
   ]
  },
  {
   "cell_type": "markdown",
   "metadata": {},
   "source": [
    "F1-Score"
   ]
  },
  {
   "cell_type": "code",
   "execution_count": 191,
   "metadata": {},
   "outputs": [],
   "source": [
    "ann_preg.save_weights('./ann_preg')"
   ]
  },
  {
   "cell_type": "markdown",
   "metadata": {},
   "source": [
    "Save the model. "
   ]
  }
 ],
 "metadata": {
  "kernelspec": {
   "display_name": "Python 3 (ipykernel)",
   "language": "python",
   "name": "python3"
  },
  "language_info": {
   "codemirror_mode": {
    "name": "ipython",
    "version": 3
   },
   "file_extension": ".py",
   "mimetype": "text/x-python",
   "name": "python",
   "nbconvert_exporter": "python",
   "pygments_lexer": "ipython3",
   "version": "3.10.6"
  }
 },
 "nbformat": 4,
 "nbformat_minor": 2
}
